{
 "cells": [
  {
   "cell_type": "markdown",
   "id": "157fc027",
   "metadata": {},
   "source": [
    "# Sanity Check"
   ]
  },
  {
   "cell_type": "code",
   "execution_count": 60,
   "id": "9ef4c44c",
   "metadata": {
    "ExecuteTime": {
     "end_time": "2021-08-27T18:15:21.840976Z",
     "start_time": "2021-08-27T18:15:20.809290Z"
    }
   },
   "outputs": [],
   "source": [
    "import os,sys\n",
    "import numpy as np\n",
    "import pandas as pd\n",
    "\n",
    "import matplotlib.pyplot as plt\n",
    "\n",
    "\n",
    "pd.set_option('display.max.columns',500)\n",
    "\n",
    "sys.path.append('..\\\\..')"
   ]
  },
  {
   "cell_type": "code",
   "execution_count": 61,
   "id": "0d53f4aa",
   "metadata": {},
   "outputs": [],
   "source": [
    "DATA_PATH_ENTRADA = \"../../dados/1_dados_entrada\"\n",
    "DATA_PATH_TRATADOS = \"../../dados/2_dados_tratados\"\n",
    "DATA_PATH_ENTRADA_CSVS = os.path.join(DATA_PATH_ENTRADA, 'CSVs')"
   ]
  },
  {
   "cell_type": "markdown",
   "id": "e9cc5840",
   "metadata": {},
   "source": [
    "# 1 Entendimento da base"
   ]
  },
  {
   "cell_type": "code",
   "execution_count": 62,
   "id": "c6027ac0",
   "metadata": {},
   "outputs": [],
   "source": [
    "lista_csvs = os.listdir(DATA_PATH_ENTRADA_CSVS)"
   ]
  },
  {
   "cell_type": "code",
   "execution_count": 63,
   "id": "1b491d79",
   "metadata": {},
   "outputs": [],
   "source": [
    "df_2014 = pd.read_csv(os.path.join(DATA_PATH_ENTRADA_CSVS, lista_csvs[0]), sep=';', encoding='latin-1')"
   ]
  },
  {
   "cell_type": "code",
   "execution_count": 64,
   "id": "ee59272e",
   "metadata": {},
   "outputs": [
    {
     "name": "stdout",
     "output_type": "stream",
     "text": [
      "<class 'pandas.core.frame.DataFrame'>\n",
      "RangeIndex: 28641 entries, 0 to 28640\n",
      "Data columns (total 25 columns):\n",
      "EXERCÍCIO                       28641 non-null int64\n",
      "CÓDIGO ÓRGÃO SUPERIOR           28641 non-null int64\n",
      "NOME ÓRGÃO SUPERIOR             28641 non-null object\n",
      "CÓDIGO ÓRGÃO SUBORDINADO        28641 non-null int64\n",
      "NOME ÓRGÃO SUBORDINADO          28641 non-null object\n",
      "CÓDIGO UNIDADE ORÇAMENTÁRIA     28641 non-null int64\n",
      "NOME UNIDADE ORÇAMENTÁRIA       28641 non-null object\n",
      "CÓDIGO FUNÇÃO                   28641 non-null int64\n",
      "NOME FUNÇÃO                     28641 non-null object\n",
      "CÓDIGO SUBFUNÇÃO                28641 non-null int64\n",
      "NOME SUBFUNÇÃO                  28641 non-null object\n",
      "CÓDIGO PROGRAMA ORÇAMENTÁRIO    28641 non-null int64\n",
      "NOME PROGRAMA ORÇAMENTÁRIO      28641 non-null object\n",
      "CÓDIGO AÇÃO                     28641 non-null object\n",
      "NOME AÇÃO                       28641 non-null object\n",
      "CÓDIGO CATEGORIA ECONÔMICA      28641 non-null int64\n",
      "NOME CATEGORIA ECONÔMICA        28641 non-null object\n",
      "CÓDIGO GRUPO DE DESPESA         28641 non-null int64\n",
      "NOME GRUPO DE DESPESA           28641 non-null object\n",
      "CÓDIGO ELEMENTO DE DESPESA      28641 non-null int64\n",
      "NOME ELEMENTO DE DESPESA        28641 non-null object\n",
      "ORÇAMENTO INICIAL (R$)          28641 non-null object\n",
      "ORÇAMENTO ATUALIZADO (R$)       28641 non-null object\n",
      "ORÇAMENTO EMPENHADO (R$)        28641 non-null object\n",
      "ORÇAMENTO REALIZADO (R$)        28641 non-null object\n",
      "dtypes: int64(10), object(15)\n",
      "memory usage: 3.8+ MB\n"
     ]
    }
   ],
   "source": [
    "df_2014.info()"
   ]
  },
  {
   "cell_type": "markdown",
   "id": "a7cdc67f",
   "metadata": {},
   "source": [
    "# 2. Ajustes Iniciais"
   ]
  },
  {
   "cell_type": "markdown",
   "id": "9c1f50c4",
   "metadata": {},
   "source": [
    "## 2.1 Ajuste dos nomes das colunas"
   ]
  },
  {
   "cell_type": "code",
   "execution_count": 65,
   "id": "1876d1bb",
   "metadata": {},
   "outputs": [],
   "source": [
    "df_2014.columns = ['exercicios', 'cod_orgao_sup', 'nome_orgao_sup', 'cod_orgao_sub', 'nome_orgao_sub', 'cod_unid_orcament', 'nome_unid_orcament',\n",
    "                   'cod_funcao', 'nome_funcao', 'cod_subfuncao', 'nome_subfuncao', 'cod_prog_orcament', 'nome_prog_orcament', 'cod_acao', 'nome_acao',\n",
    "                   'cod_categ_econo', 'nome_categ_econo', 'cod_grp_despesa', 'nome_grp_despesa',  'cod_element_despesa', 'nome_element_despesa',\n",
    "                   'orcamento_inicial', 'orcamento_atualizado', 'orcamento_empenhado', 'orcamento_realizado']"
   ]
  },
  {
   "cell_type": "markdown",
   "id": "1542afa7",
   "metadata": {},
   "source": [
    "## 2.2 Exclusão de colunas não relevantes"
   ]
  },
  {
   "cell_type": "code",
   "execution_count": 66,
   "id": "71df5518",
   "metadata": {},
   "outputs": [
    {
     "data": {
      "text/plain": [
       "Index(['exercicios', 'cod_orgao_sup', 'nome_orgao_sup', 'cod_orgao_sub',\n",
       "       'nome_orgao_sub', 'cod_unid_orcament', 'nome_unid_orcament',\n",
       "       'cod_funcao', 'nome_funcao', 'cod_subfuncao', 'nome_subfuncao',\n",
       "       'cod_prog_orcament', 'nome_prog_orcament', 'cod_acao', 'nome_acao',\n",
       "       'cod_categ_econo', 'nome_categ_econo', 'cod_grp_despesa',\n",
       "       'nome_grp_despesa', 'cod_element_despesa', 'nome_element_despesa',\n",
       "       'orcamento_inicial', 'orcamento_atualizado', 'orcamento_empenhado',\n",
       "       'orcamento_realizado'],\n",
       "      dtype='object')"
      ]
     },
     "execution_count": 66,
     "metadata": {},
     "output_type": "execute_result"
    }
   ],
   "source": [
    "df_2014.columns"
   ]
  },
  {
   "cell_type": "markdown",
   "id": "0f7e73a9",
   "metadata": {},
   "source": [
    "<font color='green' size=6> Por simplicidade, excluirei as variáveis com código pra ficar mais fácil a leitura do dataset <font>"
   ]
  },
  {
   "cell_type": "code",
   "execution_count": 67,
   "id": "edd6a6b9",
   "metadata": {},
   "outputs": [
    {
     "data": {
      "text/plain": [
       "Index(['exercicios', 'nome_orgao_sup', 'nome_orgao_sub', 'nome_unid_orcament',\n",
       "       'nome_funcao', 'nome_subfuncao', 'nome_prog_orcament', 'nome_acao',\n",
       "       'nome_categ_econo', 'nome_grp_despesa', 'nome_element_despesa',\n",
       "       'orcamento_inicial', 'orcamento_atualizado', 'orcamento_empenhado',\n",
       "       'orcamento_realizado'],\n",
       "      dtype='object')"
      ]
     },
     "execution_count": 67,
     "metadata": {},
     "output_type": "execute_result"
    }
   ],
   "source": [
    "df_2014 = df_2014.drop(columns=df_2014.columns[df_2014.columns.str.contains(r'^cod_')])\n",
    "df_2014.columns"
   ]
  },
  {
   "cell_type": "markdown",
   "id": "a2bfc60b",
   "metadata": {},
   "source": [
    "## 2.3 Ajuste dos tipos das variáveis"
   ]
  },
  {
   "cell_type": "code",
   "execution_count": 68,
   "id": "5907a119",
   "metadata": {},
   "outputs": [
    {
     "data": {
      "text/plain": [
       "exercicios               int64\n",
       "nome_orgao_sup          object\n",
       "nome_orgao_sub          object\n",
       "nome_unid_orcament      object\n",
       "nome_funcao             object\n",
       "nome_subfuncao          object\n",
       "nome_prog_orcament      object\n",
       "nome_acao               object\n",
       "nome_categ_econo        object\n",
       "nome_grp_despesa        object\n",
       "nome_element_despesa    object\n",
       "orcamento_inicial       object\n",
       "orcamento_atualizado    object\n",
       "orcamento_empenhado     object\n",
       "orcamento_realizado     object\n",
       "dtype: object"
      ]
     },
     "execution_count": 68,
     "metadata": {},
     "output_type": "execute_result"
    }
   ],
   "source": [
    "df_2014.dtypes"
   ]
  },
  {
   "cell_type": "code",
   "execution_count": 69,
   "id": "2f9dca50",
   "metadata": {},
   "outputs": [],
   "source": [
    "df_2014['exercicios'] = pd.to_datetime(df_2014['exercicios'], format='%Y')\n",
    "\n",
    "df_2014['orcamento_inicial'] = df_2014['orcamento_inicial'].str.replace(',','.').astype(float)\n",
    "df_2014['orcamento_atualizado'] = df_2014['orcamento_atualizado'].str.replace(',','.').astype(float)\n",
    "df_2014['orcamento_empenhado'] = df_2014['orcamento_empenhado'].str.replace(',','.').astype(float)\n",
    "df_2014['orcamento_realizado'] = df_2014['orcamento_realizado'].str.replace(',','.').astype(float)"
   ]
  },
  {
   "cell_type": "code",
   "execution_count": 70,
   "id": "9ce09ad3",
   "metadata": {},
   "outputs": [
    {
     "data": {
      "text/html": [
       "<div>\n",
       "<style scoped>\n",
       "    .dataframe tbody tr th:only-of-type {\n",
       "        vertical-align: middle;\n",
       "    }\n",
       "\n",
       "    .dataframe tbody tr th {\n",
       "        vertical-align: top;\n",
       "    }\n",
       "\n",
       "    .dataframe thead th {\n",
       "        text-align: right;\n",
       "    }\n",
       "</style>\n",
       "<table border=\"1\" class=\"dataframe\">\n",
       "  <thead>\n",
       "    <tr style=\"text-align: right;\">\n",
       "      <th></th>\n",
       "      <th>10234</th>\n",
       "      <th>20676</th>\n",
       "      <th>11459</th>\n",
       "    </tr>\n",
       "  </thead>\n",
       "  <tbody>\n",
       "    <tr>\n",
       "      <th>exercicios</th>\n",
       "      <td>2014-01-01 00:00:00</td>\n",
       "      <td>2014-01-01 00:00:00</td>\n",
       "      <td>2014-01-01 00:00:00</td>\n",
       "    </tr>\n",
       "    <tr>\n",
       "      <th>nome_orgao_sup</th>\n",
       "      <td>Ministério da Educação</td>\n",
       "      <td>Ministério da Infraestrutura</td>\n",
       "      <td>Ministério da Educação</td>\n",
       "    </tr>\n",
       "    <tr>\n",
       "      <th>nome_orgao_sub</th>\n",
       "      <td>Fundação Coordenação de Aperfeiçoamento de Pes...</td>\n",
       "      <td>Departamento Nacional de Infraestrutura de Tra...</td>\n",
       "      <td>Instituto Federal do Rio de Janeiro</td>\n",
       "    </tr>\n",
       "    <tr>\n",
       "      <th>nome_unid_orcament</th>\n",
       "      <td>FUND.COORD.DE APERF.DE PESSOAL NIVEL SUPERIOR</td>\n",
       "      <td>DEPTO.NAC.DE INFRA±ESTRUT.DE TRANSPORTES-DNIT</td>\n",
       "      <td>INST.FED.DE EDUC.,CIENC.E TEC.DO R.DE JANEIRO</td>\n",
       "    </tr>\n",
       "    <tr>\n",
       "      <th>nome_funcao</th>\n",
       "      <td>Educação</td>\n",
       "      <td>Transporte</td>\n",
       "      <td>Educação</td>\n",
       "    </tr>\n",
       "    <tr>\n",
       "      <th>nome_subfuncao</th>\n",
       "      <td>Proteção e benefícios ao trabalhador</td>\n",
       "      <td>Transporte rodoviário</td>\n",
       "      <td>Ensino profissional</td>\n",
       "    </tr>\n",
       "    <tr>\n",
       "      <th>nome_prog_orcament</th>\n",
       "      <td>PROGRAMA DE GESTAO E MANUTENCAO DO MINISTERIO ...</td>\n",
       "      <td>TRANSPORTE RODOVIARIO</td>\n",
       "      <td>EDUCACAO PROFISSIONAL E TECNOLOGICA</td>\n",
       "    </tr>\n",
       "    <tr>\n",
       "      <th>nome_acao</th>\n",
       "      <td>AUXILIO-TRANSPORTE AOS SERVIDORES CIVIS, EMPRE...</td>\n",
       "      <td>CONSTRUCAO DE CONTORNO RODOVIARIO EM MOSSORO -...</td>\n",
       "      <td>FUNCIONAMENTO DE INSTITUICOES FEDERAIS DE EDUC...</td>\n",
       "    </tr>\n",
       "    <tr>\n",
       "      <th>nome_categ_econo</th>\n",
       "      <td>DESPESA CORRENTE</td>\n",
       "      <td>DESPESA DE CAPITAL</td>\n",
       "      <td>DESPESA DE CAPITAL</td>\n",
       "    </tr>\n",
       "    <tr>\n",
       "      <th>nome_grp_despesa</th>\n",
       "      <td>Outras Despesas Correntes</td>\n",
       "      <td>Investimentos</td>\n",
       "      <td>Investimentos</td>\n",
       "    </tr>\n",
       "    <tr>\n",
       "      <th>nome_element_despesa</th>\n",
       "      <td>Auxílio-Transporte</td>\n",
       "      <td>Outros Serviços de Terceiros - Pessoa Jurídica</td>\n",
       "      <td>Equipamentos e Material Permanente</td>\n",
       "    </tr>\n",
       "    <tr>\n",
       "      <th>orcamento_inicial</th>\n",
       "      <td>42548</td>\n",
       "      <td>2.5333e+06</td>\n",
       "      <td>6.74335e+06</td>\n",
       "    </tr>\n",
       "    <tr>\n",
       "      <th>orcamento_atualizado</th>\n",
       "      <td>42548</td>\n",
       "      <td>2.5333e+06</td>\n",
       "      <td>6.74335e+06</td>\n",
       "    </tr>\n",
       "    <tr>\n",
       "      <th>orcamento_empenhado</th>\n",
       "      <td>37466.3</td>\n",
       "      <td>2.5333e+06</td>\n",
       "      <td>6.2372e+06</td>\n",
       "    </tr>\n",
       "    <tr>\n",
       "      <th>orcamento_realizado</th>\n",
       "      <td>37466.3</td>\n",
       "      <td>946692</td>\n",
       "      <td>1.06303e+06</td>\n",
       "    </tr>\n",
       "  </tbody>\n",
       "</table>\n",
       "</div>"
      ],
      "text/plain": [
       "                                                                  10234  \\\n",
       "exercicios                                          2014-01-01 00:00:00   \n",
       "nome_orgao_sup                                   Ministério da Educação   \n",
       "nome_orgao_sub        Fundação Coordenação de Aperfeiçoamento de Pes...   \n",
       "nome_unid_orcament        FUND.COORD.DE APERF.DE PESSOAL NIVEL SUPERIOR   \n",
       "nome_funcao                                                    Educação   \n",
       "nome_subfuncao                     Proteção e benefícios ao trabalhador   \n",
       "nome_prog_orcament    PROGRAMA DE GESTAO E MANUTENCAO DO MINISTERIO ...   \n",
       "nome_acao             AUXILIO-TRANSPORTE AOS SERVIDORES CIVIS, EMPRE...   \n",
       "nome_categ_econo                                       DESPESA CORRENTE   \n",
       "nome_grp_despesa                              Outras Despesas Correntes   \n",
       "nome_element_despesa                                 Auxílio-Transporte   \n",
       "orcamento_inicial                                                 42548   \n",
       "orcamento_atualizado                                              42548   \n",
       "orcamento_empenhado                                             37466.3   \n",
       "orcamento_realizado                                             37466.3   \n",
       "\n",
       "                                                                  20676  \\\n",
       "exercicios                                          2014-01-01 00:00:00   \n",
       "nome_orgao_sup                             Ministério da Infraestrutura   \n",
       "nome_orgao_sub        Departamento Nacional de Infraestrutura de Tra...   \n",
       "nome_unid_orcament        DEPTO.NAC.DE INFRA±ESTRUT.DE TRANSPORTES-DNIT   \n",
       "nome_funcao                                                  Transporte   \n",
       "nome_subfuncao                                    Transporte rodoviário   \n",
       "nome_prog_orcament                                TRANSPORTE RODOVIARIO   \n",
       "nome_acao             CONSTRUCAO DE CONTORNO RODOVIARIO EM MOSSORO -...   \n",
       "nome_categ_econo                                     DESPESA DE CAPITAL   \n",
       "nome_grp_despesa                                          Investimentos   \n",
       "nome_element_despesa     Outros Serviços de Terceiros - Pessoa Jurídica   \n",
       "orcamento_inicial                                            2.5333e+06   \n",
       "orcamento_atualizado                                         2.5333e+06   \n",
       "orcamento_empenhado                                          2.5333e+06   \n",
       "orcamento_realizado                                              946692   \n",
       "\n",
       "                                                                  11459  \n",
       "exercicios                                          2014-01-01 00:00:00  \n",
       "nome_orgao_sup                                   Ministério da Educação  \n",
       "nome_orgao_sub                      Instituto Federal do Rio de Janeiro  \n",
       "nome_unid_orcament        INST.FED.DE EDUC.,CIENC.E TEC.DO R.DE JANEIRO  \n",
       "nome_funcao                                                    Educação  \n",
       "nome_subfuncao                                      Ensino profissional  \n",
       "nome_prog_orcament                  EDUCACAO PROFISSIONAL E TECNOLOGICA  \n",
       "nome_acao             FUNCIONAMENTO DE INSTITUICOES FEDERAIS DE EDUC...  \n",
       "nome_categ_econo                                     DESPESA DE CAPITAL  \n",
       "nome_grp_despesa                                          Investimentos  \n",
       "nome_element_despesa                 Equipamentos e Material Permanente  \n",
       "orcamento_inicial                                           6.74335e+06  \n",
       "orcamento_atualizado                                        6.74335e+06  \n",
       "orcamento_empenhado                                          6.2372e+06  \n",
       "orcamento_realizado                                         1.06303e+06  "
      ]
     },
     "execution_count": 70,
     "metadata": {},
     "output_type": "execute_result"
    }
   ],
   "source": [
    "df_2014.sample(3).T"
   ]
  }
 ],
 "metadata": {
  "interpreter": {
   "hash": "26500ebbcbffca6e23cb93dcf291cd1e2800fd786fdb769a70d6b5fdb6c74cdb"
  },
  "kernelspec": {
   "display_name": "Python 3.8.5 64-bit ('base': conda)",
   "name": "python3"
  },
  "language_info": {
   "codemirror_mode": {
    "name": "ipython",
    "version": 3
   },
   "file_extension": ".py",
   "mimetype": "text/x-python",
   "name": "python",
   "nbconvert_exporter": "python",
   "pygments_lexer": "ipython3",
   "version": "3.7.0"
  },
  "toc": {
   "base_numbering": 1,
   "nav_menu": {},
   "number_sections": true,
   "sideBar": true,
   "skip_h1_title": false,
   "title_cell": "Table of Contents",
   "title_sidebar": "Contents",
   "toc_cell": false,
   "toc_position": {
    "height": "calc(100% - 180px)",
    "left": "10px",
    "top": "150px",
    "width": "340.355px"
   },
   "toc_section_display": true,
   "toc_window_display": true
  },
  "varInspector": {
   "cols": {
    "lenName": 16,
    "lenType": 16,
    "lenVar": 40
   },
   "kernels_config": {
    "python": {
     "delete_cmd_postfix": "",
     "delete_cmd_prefix": "del ",
     "library": "var_list.py",
     "varRefreshCmd": "print(var_dic_list())"
    },
    "r": {
     "delete_cmd_postfix": ") ",
     "delete_cmd_prefix": "rm(",
     "library": "var_list.r",
     "varRefreshCmd": "cat(var_dic_list()) "
    }
   },
   "types_to_exclude": [
    "module",
    "function",
    "builtin_function_or_method",
    "instance",
    "_Feature"
   ],
   "window_display": false
  }
 },
 "nbformat": 4,
 "nbformat_minor": 5
}
