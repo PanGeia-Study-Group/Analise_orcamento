{
 "cells": [
  {
   "cell_type": "markdown",
   "id": "743875d8-8721-41d8-a2d0-a92dfe2d3443",
   "metadata": {},
   "source": [
    "# Sanity Check "
   ]
  },
  {
   "cell_type": "code",
   "execution_count": 46,
   "id": "3012aa08-f68e-453e-aa1c-ed46c0047f82",
   "metadata": {},
   "outputs": [],
   "source": [
    "import os,sys\n",
    "import numpy as np\n",
    "import pandas as pd\n",
    "import seaborn as sns\n",
    "import matplotlib.pyplot as plt\n",
    "\n",
    "pd.set_option('display.max.columns',500)\n",
    "\n",
    "sys.path.append('..\\\\..')"
   ]
  },
  {
   "cell_type": "code",
   "execution_count": 47,
   "id": "05ec89c0-bbe9-48dc-9221-005c845c1c58",
   "metadata": {},
   "outputs": [],
   "source": [
    "DATA_PATH_ENTRADA = \"../../dados/1_dados_entrada\"\n",
    "DATA_PATH_TRATADOS = \"../../dados/2_dados_tratados\"\n",
    "DATA_PATH_ENTRADA_CSVS = os.path.join(DATA_PATH_ENTRADA, 'CSVs')"
   ]
  },
  {
   "cell_type": "code",
   "execution_count": 48,
   "id": "55a3745a-e54a-49c3-877d-f8ecd5ee5060",
   "metadata": {},
   "outputs": [],
   "source": [
    "lista_csvs = os.listdir(DATA_PATH_ENTRADA_CSVS)"
   ]
  },
  {
   "cell_type": "code",
   "execution_count": 49,
   "id": "abc549d4-4c91-46a2-8c03-e1c64a2d8cb8",
   "metadata": {},
   "outputs": [],
   "source": [
    "lista_concat = []\n",
    "for csv in lista_csvs:\n",
    "    df = pd.read_csv(os.path.join(DATA_PATH_ENTRADA_CSVS, csv), sep=';', encoding='latin-1')\n",
    "    lista_concat.append(df)\n",
    "\n",
    "df = pd.concat(lista_concat)"
   ]
  },
  {
   "cell_type": "code",
   "execution_count": 50,
   "id": "e6b2edda-1527-4a9c-af31-f128e3d40bc0",
   "metadata": {},
   "outputs": [
    {
     "data": {
      "text/plain": [
       "2014    28641\n",
       "2015    27988\n",
       "2020    27365\n",
       "2016    27117\n",
       "2019    26429\n",
       "2017    26085\n",
       "2018    25845\n",
       "2021    24215\n",
       "Name: EXERCÍCIO, dtype: int64"
      ]
     },
     "execution_count": 50,
     "metadata": {},
     "output_type": "execute_result"
    }
   ],
   "source": [
    "df['EXERCÍCIO'].value_counts()"
   ]
  },
  {
   "cell_type": "markdown",
   "id": "eb7b43b1-2f1d-4a32-9655-f2a7c43ca05b",
   "metadata": {},
   "source": [
    "# 1 Importação e definição dos dados"
   ]
  },
  {
   "cell_type": "markdown",
   "id": "049092e8-5d6d-4ae2-b719-2d12283b4997",
   "metadata": {},
   "source": [
    "A minha análise se absterá apenas as colunas após \"NOME PROGRAMA ORÇAMENTÁRIO\""
   ]
  },
  {
   "cell_type": "code",
   "execution_count": 51,
   "id": "5e5bc976-df99-4874-8820-a2922cf0ed85",
   "metadata": {},
   "outputs": [
    {
     "name": "stdout",
     "output_type": "stream",
     "text": [
      "<class 'pandas.core.frame.DataFrame'>\n",
      "Int64Index: 213685 entries, 0 to 24214\n",
      "Data columns (total 25 columns):\n",
      " #   Column                        Non-Null Count   Dtype \n",
      "---  ------                        --------------   ----- \n",
      " 0   EXERCÍCIO                     213685 non-null  int64 \n",
      " 1   CÓDIGO ÓRGÃO SUPERIOR         213685 non-null  int64 \n",
      " 2   NOME ÓRGÃO SUPERIOR           213685 non-null  object\n",
      " 3   CÓDIGO ÓRGÃO SUBORDINADO      213685 non-null  int64 \n",
      " 4   NOME ÓRGÃO SUBORDINADO        213685 non-null  object\n",
      " 5   CÓDIGO UNIDADE ORÇAMENTÁRIA   213685 non-null  int64 \n",
      " 6   NOME UNIDADE ORÇAMENTÁRIA     213685 non-null  object\n",
      " 7   CÓDIGO FUNÇÃO                 213685 non-null  int64 \n",
      " 8   NOME FUNÇÃO                   213685 non-null  object\n",
      " 9   CÓDIGO SUBFUNÇÃO              213685 non-null  int64 \n",
      " 10  NOME SUBFUNÇÃO                213685 non-null  object\n",
      " 11  CÓDIGO PROGRAMA ORÇAMENTÁRIO  213685 non-null  int64 \n",
      " 12  NOME PROGRAMA ORÇAMENTÁRIO    213685 non-null  object\n",
      " 13  CÓDIGO AÇÃO                   213685 non-null  object\n",
      " 14  NOME AÇÃO                     213685 non-null  object\n",
      " 15  CÓDIGO CATEGORIA ECONÔMICA    213685 non-null  object\n",
      " 16  NOME CATEGORIA ECONÔMICA      213685 non-null  object\n",
      " 17  CÓDIGO GRUPO DE DESPESA       213685 non-null  object\n",
      " 18  NOME GRUPO DE DESPESA         213685 non-null  object\n",
      " 19  CÓDIGO ELEMENTO DE DESPESA    213685 non-null  int64 \n",
      " 20  NOME ELEMENTO DE DESPESA      213685 non-null  object\n",
      " 21  ORÇAMENTO INICIAL (R$)        213685 non-null  object\n",
      " 22  ORÇAMENTO ATUALIZADO (R$)     213685 non-null  object\n",
      " 23  ORÇAMENTO EMPENHADO (R$)      213685 non-null  object\n",
      " 24  ORÇAMENTO REALIZADO (R$)      213685 non-null  object\n",
      "dtypes: int64(8), object(17)\n",
      "memory usage: 42.4+ MB\n"
     ]
    }
   ],
   "source": [
    "df.info()"
   ]
  },
  {
   "cell_type": "markdown",
   "id": "54e83c3f-af3b-406b-a301-90c0b2050c67",
   "metadata": {},
   "source": [
    "# 2 Reformulação dos dados"
   ]
  },
  {
   "cell_type": "markdown",
   "id": "894beeda-3ee5-4210-b07d-225ae340f9cd",
   "metadata": {},
   "source": [
    "## 2.1 renomeando colunas"
   ]
  },
  {
   "cell_type": "code",
   "execution_count": 52,
   "id": "ca89f697-5f23-48cd-a697-4d2c8604e32a",
   "metadata": {},
   "outputs": [],
   "source": [
    "# Renomeando as colunas para facilitar o trabalho no código\n",
    "df.columns = ['exercicios', 'cod_orgao_sup', 'nome_orgao_sup', 'cod_orgao_sub', 'nome_orgao_sub', 'cod_unid_orcament', 'nome_unid_orcament',\n",
    "                   'cod_funcao', 'nome_funcao', 'cod_subfuncao', 'nome_subfuncao', 'cod_prog_orcament', 'nome_prog_orcament', 'cod_acao', 'nome_acao',\n",
    "                   'cod_categ_econo', 'nome_categ_econo', 'cod_grp_despesa', 'nome_grp_despesa',  'cod_element_despesa', 'nome_element_despesa',\n",
    "                   'orcamento_inicial', 'orcamento_atualizado', 'orcamento_empenhado', 'orcamento_realizado']"
   ]
  },
  {
   "cell_type": "markdown",
   "id": "11a9c073-3d95-4e00-be8b-396ee0a521ef",
   "metadata": {},
   "source": [
    "## 2.2 dropando valores desnecessários"
   ]
  },
  {
   "cell_type": "markdown",
   "id": "12c4412e-bd7f-4e29-8fd5-5e2e70f3773e",
   "metadata": {},
   "source": [
    "Existem muitas colunasnas quais os valores presentes se referem ao código da função, setor, ministério, etc. Acredito que para fatores administrativos esses dados sejam válidos, porém não serão necessários nessa análise"
   ]
  },
  {
   "cell_type": "code",
   "execution_count": 53,
   "id": "b5900029-a370-4fb8-8835-f39fb7681266",
   "metadata": {},
   "outputs": [
    {
     "data": {
      "text/plain": [
       "Index(['exercicios', 'nome_orgao_sup', 'nome_orgao_sub', 'nome_unid_orcament',\n",
       "       'nome_funcao', 'nome_subfuncao', 'nome_prog_orcament', 'nome_acao',\n",
       "       'nome_categ_econo', 'nome_grp_despesa', 'nome_element_despesa',\n",
       "       'orcamento_inicial', 'orcamento_atualizado', 'orcamento_empenhado',\n",
       "       'orcamento_realizado'],\n",
       "      dtype='object')"
      ]
     },
     "execution_count": 53,
     "metadata": {},
     "output_type": "execute_result"
    }
   ],
   "source": [
    "df = df.drop(columns=df.columns[df.columns.str.contains(r'^cod_')])\n",
    "df.columns"
   ]
  },
  {
   "cell_type": "markdown",
   "id": "7a50b4b5-60e5-413b-a25d-8b4ea39350ec",
   "metadata": {},
   "source": [
    "## 2.3 Verificação da existência de valores faltantes"
   ]
  },
  {
   "cell_type": "code",
   "execution_count": 54,
   "id": "27d5676c-c4a4-44ae-a178-ac946c15d3fc",
   "metadata": {},
   "outputs": [
    {
     "data": {
      "text/plain": [
       "exercicios              0\n",
       "nome_orgao_sup          0\n",
       "nome_orgao_sub          0\n",
       "nome_unid_orcament      0\n",
       "nome_funcao             0\n",
       "nome_subfuncao          0\n",
       "nome_prog_orcament      0\n",
       "nome_acao               0\n",
       "nome_categ_econo        0\n",
       "nome_grp_despesa        0\n",
       "nome_element_despesa    0\n",
       "orcamento_inicial       0\n",
       "orcamento_atualizado    0\n",
       "orcamento_empenhado     0\n",
       "orcamento_realizado     0\n",
       "dtype: int64"
      ]
     },
     "metadata": {},
     "output_type": "display_data"
    }
   ],
   "source": [
    "display(df.isnull().sum())"
   ]
  },
  {
   "cell_type": "markdown",
   "id": "74779233-0bad-4b9d-81af-4cb32869789e",
   "metadata": {},
   "source": [
    "Como podemos ver não existe nenhum valor faltante. Em vista de que são dados do governo,percebemos os dados receberam um tratamento prévio, os valores que provavelmente seriam faltantes são substituidos por valores como \"Não cadastrado\", etc."
   ]
  },
  {
   "cell_type": "markdown",
   "id": "3434f3e6-76fd-4efa-a738-a63fab952f31",
   "metadata": {},
   "source": [
    "## 2.4 Casting de colunas"
   ]
  },
  {
   "cell_type": "markdown",
   "id": "266f6528-ea29-42b7-a0fb-6615dbe8083f",
   "metadata": {},
   "source": [
    "### 2.4.1 Verificação do formato das colunas"
   ]
  },
  {
   "cell_type": "code",
   "execution_count": 55,
   "id": "a6dd7796-c698-4d4a-b54e-f8d2fce1e3b0",
   "metadata": {},
   "outputs": [
    {
     "data": {
      "text/plain": [
       "exercicios               int64\n",
       "nome_orgao_sup          object\n",
       "nome_orgao_sub          object\n",
       "nome_unid_orcament      object\n",
       "nome_funcao             object\n",
       "nome_subfuncao          object\n",
       "nome_prog_orcament      object\n",
       "nome_acao               object\n",
       "nome_categ_econo        object\n",
       "nome_grp_despesa        object\n",
       "nome_element_despesa    object\n",
       "orcamento_inicial       object\n",
       "orcamento_atualizado    object\n",
       "orcamento_empenhado     object\n",
       "orcamento_realizado     object\n",
       "dtype: object"
      ]
     },
     "execution_count": 55,
     "metadata": {},
     "output_type": "execute_result"
    }
   ],
   "source": [
    "df.dtypes"
   ]
  },
  {
   "cell_type": "code",
   "execution_count": 56,
   "id": "dc6d380e-e234-4362-bae7-f999c560f521",
   "metadata": {},
   "outputs": [
    {
     "data": {
      "text/html": [
       "<div>\n",
       "<style scoped>\n",
       "    .dataframe tbody tr th:only-of-type {\n",
       "        vertical-align: middle;\n",
       "    }\n",
       "\n",
       "    .dataframe tbody tr th {\n",
       "        vertical-align: top;\n",
       "    }\n",
       "\n",
       "    .dataframe thead th {\n",
       "        text-align: right;\n",
       "    }\n",
       "</style>\n",
       "<table border=\"1\" class=\"dataframe\">\n",
       "  <thead>\n",
       "    <tr style=\"text-align: right;\">\n",
       "      <th></th>\n",
       "      <th>exercicios</th>\n",
       "      <th>nome_orgao_sup</th>\n",
       "      <th>nome_orgao_sub</th>\n",
       "      <th>nome_unid_orcament</th>\n",
       "      <th>nome_funcao</th>\n",
       "      <th>nome_subfuncao</th>\n",
       "      <th>nome_prog_orcament</th>\n",
       "      <th>nome_acao</th>\n",
       "      <th>nome_categ_econo</th>\n",
       "      <th>nome_grp_despesa</th>\n",
       "      <th>nome_element_despesa</th>\n",
       "      <th>orcamento_inicial</th>\n",
       "      <th>orcamento_atualizado</th>\n",
       "      <th>orcamento_empenhado</th>\n",
       "      <th>orcamento_realizado</th>\n",
       "    </tr>\n",
       "  </thead>\n",
       "  <tbody>\n",
       "    <tr>\n",
       "      <th>0</th>\n",
       "      <td>2014</td>\n",
       "      <td>Presidência da República</td>\n",
       "      <td>Secretaria de Políticas de Promoção da Igualda...</td>\n",
       "      <td>SEC.DE POLITICAS DE PROM.DA IGUALDADE RACIAL</td>\n",
       "      <td>Direitos da cidadania</td>\n",
       "      <td>Proteção e benefícios ao trabalhador</td>\n",
       "      <td>PROGRAMA DE GESTAO E MANUTENCAO DA SECRETARIA ...</td>\n",
       "      <td>AUXILIO-ALIMENTACAO AOS SERVIDORES CIVIS, EMPR...</td>\n",
       "      <td>DESPESA CORRENTE</td>\n",
       "      <td>Outras Despesas Correntes</td>\n",
       "      <td>Despesas de Exercícios Anteriores</td>\n",
       "      <td>2834,83</td>\n",
       "      <td>2834,83</td>\n",
       "      <td>0,00</td>\n",
       "      <td>0,00</td>\n",
       "    </tr>\n",
       "    <tr>\n",
       "      <th>1</th>\n",
       "      <td>2014</td>\n",
       "      <td>Presidência da República</td>\n",
       "      <td>Secretaria de Políticas de Promoção da Igualda...</td>\n",
       "      <td>SEC.DE POLITICAS DE PROM.DA IGUALDADE RACIAL</td>\n",
       "      <td>Direitos da cidadania</td>\n",
       "      <td>Proteção e benefícios ao trabalhador</td>\n",
       "      <td>PROGRAMA DE GESTAO E MANUTENCAO DA SECRETARIA ...</td>\n",
       "      <td>AUXILIO-ALIMENTACAO AOS SERVIDORES CIVIS, EMPR...</td>\n",
       "      <td>DESPESA CORRENTE</td>\n",
       "      <td>Outras Despesas Correntes</td>\n",
       "      <td>Auxílio-Alimentação</td>\n",
       "      <td>223457,90</td>\n",
       "      <td>223457,90</td>\n",
       "      <td>0,00</td>\n",
       "      <td>0,00</td>\n",
       "    </tr>\n",
       "    <tr>\n",
       "      <th>2</th>\n",
       "      <td>2014</td>\n",
       "      <td>Presidência da República</td>\n",
       "      <td>Secretaria de Políticas de Promoção da Igualda...</td>\n",
       "      <td>SEC.DE POLITICAS DE PROM.DA IGUALDADE RACIAL</td>\n",
       "      <td>Direitos da cidadania</td>\n",
       "      <td>Proteção e benefícios ao trabalhador</td>\n",
       "      <td>PROGRAMA DE GESTAO E MANUTENCAO DA SECRETARIA ...</td>\n",
       "      <td>AUXILIO-ALIMENTACAO AOS SERVIDORES CIVIS, EMPR...</td>\n",
       "      <td>DESPESA CORRENTE</td>\n",
       "      <td>Outras Despesas Correntes</td>\n",
       "      <td>Não informado</td>\n",
       "      <td>-11672,73</td>\n",
       "      <td>8327,27</td>\n",
       "      <td>0,00</td>\n",
       "      <td>0,00</td>\n",
       "    </tr>\n",
       "  </tbody>\n",
       "</table>\n",
       "</div>"
      ],
      "text/plain": [
       "   exercicios            nome_orgao_sup  \\\n",
       "0        2014  Presidência da República   \n",
       "1        2014  Presidência da República   \n",
       "2        2014  Presidência da República   \n",
       "\n",
       "                                      nome_orgao_sub  \\\n",
       "0  Secretaria de Políticas de Promoção da Igualda...   \n",
       "1  Secretaria de Políticas de Promoção da Igualda...   \n",
       "2  Secretaria de Políticas de Promoção da Igualda...   \n",
       "\n",
       "                             nome_unid_orcament            nome_funcao  \\\n",
       "0  SEC.DE POLITICAS DE PROM.DA IGUALDADE RACIAL  Direitos da cidadania   \n",
       "1  SEC.DE POLITICAS DE PROM.DA IGUALDADE RACIAL  Direitos da cidadania   \n",
       "2  SEC.DE POLITICAS DE PROM.DA IGUALDADE RACIAL  Direitos da cidadania   \n",
       "\n",
       "                         nome_subfuncao  \\\n",
       "0  Proteção e benefícios ao trabalhador   \n",
       "1  Proteção e benefícios ao trabalhador   \n",
       "2  Proteção e benefícios ao trabalhador   \n",
       "\n",
       "                                  nome_prog_orcament  \\\n",
       "0  PROGRAMA DE GESTAO E MANUTENCAO DA SECRETARIA ...   \n",
       "1  PROGRAMA DE GESTAO E MANUTENCAO DA SECRETARIA ...   \n",
       "2  PROGRAMA DE GESTAO E MANUTENCAO DA SECRETARIA ...   \n",
       "\n",
       "                                           nome_acao  nome_categ_econo  \\\n",
       "0  AUXILIO-ALIMENTACAO AOS SERVIDORES CIVIS, EMPR...  DESPESA CORRENTE   \n",
       "1  AUXILIO-ALIMENTACAO AOS SERVIDORES CIVIS, EMPR...  DESPESA CORRENTE   \n",
       "2  AUXILIO-ALIMENTACAO AOS SERVIDORES CIVIS, EMPR...  DESPESA CORRENTE   \n",
       "\n",
       "            nome_grp_despesa               nome_element_despesa  \\\n",
       "0  Outras Despesas Correntes  Despesas de Exercícios Anteriores   \n",
       "1  Outras Despesas Correntes                Auxílio-Alimentação   \n",
       "2  Outras Despesas Correntes                      Não informado   \n",
       "\n",
       "  orcamento_inicial orcamento_atualizado orcamento_empenhado  \\\n",
       "0           2834,83              2834,83                0,00   \n",
       "1         223457,90            223457,90                0,00   \n",
       "2         -11672,73              8327,27                0,00   \n",
       "\n",
       "  orcamento_realizado  \n",
       "0                0,00  \n",
       "1                0,00  \n",
       "2                0,00  "
      ]
     },
     "metadata": {},
     "output_type": "display_data"
    }
   ],
   "source": [
    "display(df.head(3))"
   ]
  },
  {
   "cell_type": "markdown",
   "id": "f5966e31-4c8d-46df-89aa-22e87751a701",
   "metadata": {},
   "source": [
    "### 2.4.2 Tratamento dos formatos"
   ]
  },
  {
   "cell_type": "markdown",
   "id": "c59b8906-6eb9-4959-8b01-7fcca8e936b1",
   "metadata": {},
   "source": [
    "Remoção da vírgula presente nos valores das colunas numéricas que se referem a valores em dinheiro"
   ]
  },
  {
   "cell_type": "code",
   "execution_count": 57,
   "id": "7d3e2196-1406-45d2-9480-3d73752111b5",
   "metadata": {},
   "outputs": [],
   "source": [
    "df['exercicios'] = pd.to_datetime(df['exercicios'], format='%Y')\n",
    "df['orcamento_inicial'] = df['orcamento_inicial'].str.replace(',','.').astype(float)\n",
    "df['orcamento_atualizado'] = df['orcamento_atualizado'].str.replace(',','.').astype(float)\n",
    "df['orcamento_empenhado'] = df['orcamento_empenhado'].str.replace(',','.').astype(float)\n",
    "df['orcamento_realizado'] = df['orcamento_realizado'].str.replace(',','.').astype(float)"
   ]
  },
  {
   "cell_type": "markdown",
   "id": "91526d21-08e7-4acb-9f1e-6372567c1bb7",
   "metadata": {},
   "source": [
    "Agora após a remoção da vírgula, e o casting dos valores para float, podemos vizualizar o resultado no dataset"
   ]
  },
  {
   "cell_type": "code",
   "execution_count": 58,
   "id": "ddb2cdfa-1e51-4800-add6-e9d70eea81ed",
   "metadata": {},
   "outputs": [
    {
     "data": {
      "text/plain": [
       "exercicios              datetime64[ns]\n",
       "nome_orgao_sup                  object\n",
       "nome_orgao_sub                  object\n",
       "nome_unid_orcament              object\n",
       "nome_funcao                     object\n",
       "nome_subfuncao                  object\n",
       "nome_prog_orcament              object\n",
       "nome_acao                       object\n",
       "nome_categ_econo                object\n",
       "nome_grp_despesa                object\n",
       "nome_element_despesa            object\n",
       "orcamento_inicial              float64\n",
       "orcamento_atualizado           float64\n",
       "orcamento_empenhado            float64\n",
       "orcamento_realizado            float64\n",
       "dtype: object"
      ]
     },
     "execution_count": 58,
     "metadata": {},
     "output_type": "execute_result"
    }
   ],
   "source": [
    "df.dtypes"
   ]
  },
  {
   "cell_type": "markdown",
   "id": "99c02796-eff9-42be-a1f7-cb8fe169f6c1",
   "metadata": {},
   "source": [
    "## 2.5 Ordenando os dados"
   ]
  },
  {
   "cell_type": "code",
   "execution_count": 59,
   "id": "d415583a-bb6b-4376-9798-a142baea4bd4",
   "metadata": {},
   "outputs": [
    {
     "data": {
      "text/html": [
       "<div>\n",
       "<style scoped>\n",
       "    .dataframe tbody tr th:only-of-type {\n",
       "        vertical-align: middle;\n",
       "    }\n",
       "\n",
       "    .dataframe tbody tr th {\n",
       "        vertical-align: top;\n",
       "    }\n",
       "\n",
       "    .dataframe thead th {\n",
       "        text-align: right;\n",
       "    }\n",
       "</style>\n",
       "<table border=\"1\" class=\"dataframe\">\n",
       "  <thead>\n",
       "    <tr style=\"text-align: right;\">\n",
       "      <th></th>\n",
       "      <th>exercicios</th>\n",
       "      <th>nome_orgao_sup</th>\n",
       "      <th>nome_orgao_sub</th>\n",
       "      <th>nome_unid_orcament</th>\n",
       "      <th>nome_funcao</th>\n",
       "      <th>nome_subfuncao</th>\n",
       "      <th>nome_prog_orcament</th>\n",
       "      <th>nome_acao</th>\n",
       "      <th>nome_categ_econo</th>\n",
       "      <th>nome_grp_despesa</th>\n",
       "      <th>nome_element_despesa</th>\n",
       "      <th>orcamento_inicial</th>\n",
       "      <th>orcamento_atualizado</th>\n",
       "      <th>orcamento_empenhado</th>\n",
       "      <th>orcamento_realizado</th>\n",
       "    </tr>\n",
       "  </thead>\n",
       "  <tbody>\n",
       "    <tr>\n",
       "      <th>0</th>\n",
       "      <td>2014-01-01</td>\n",
       "      <td>Presidência da República</td>\n",
       "      <td>Secretaria de Políticas de Promoção da Igualda...</td>\n",
       "      <td>SEC.DE POLITICAS DE PROM.DA IGUALDADE RACIAL</td>\n",
       "      <td>Direitos da cidadania</td>\n",
       "      <td>Proteção e benefícios ao trabalhador</td>\n",
       "      <td>PROGRAMA DE GESTAO E MANUTENCAO DA SECRETARIA ...</td>\n",
       "      <td>AUXILIO-ALIMENTACAO AOS SERVIDORES CIVIS, EMPR...</td>\n",
       "      <td>DESPESA CORRENTE</td>\n",
       "      <td>Outras Despesas Correntes</td>\n",
       "      <td>Despesas de Exercícios Anteriores</td>\n",
       "      <td>2.834830e+03</td>\n",
       "      <td>2.834830e+03</td>\n",
       "      <td>0.00</td>\n",
       "      <td>0.00</td>\n",
       "    </tr>\n",
       "    <tr>\n",
       "      <th>19100</th>\n",
       "      <td>2014-01-01</td>\n",
       "      <td>Ministério da Saúde</td>\n",
       "      <td>Ministério da Saúde - Unidades com vínculo direto</td>\n",
       "      <td>FUNDO NACIONAL DE SAUDE</td>\n",
       "      <td>Saúde</td>\n",
       "      <td>Normatização e fiscalização</td>\n",
       "      <td>APERFEICOAMENTO DO SISTEMA UNICO DE SAUDE (SUS)</td>\n",
       "      <td>AUDITORIA DO SISTEMA UNICO DE SAUDE</td>\n",
       "      <td>DESPESA CORRENTE</td>\n",
       "      <td>Outras Despesas Correntes</td>\n",
       "      <td>Contribuições</td>\n",
       "      <td>1.500000e+06</td>\n",
       "      <td>1.500000e+06</td>\n",
       "      <td>1500000.00</td>\n",
       "      <td>1500000.00</td>\n",
       "    </tr>\n",
       "    <tr>\n",
       "      <th>19099</th>\n",
       "      <td>2014-01-01</td>\n",
       "      <td>Ministério da Saúde</td>\n",
       "      <td>Ministério da Saúde - Unidades com vínculo direto</td>\n",
       "      <td>FUNDO NACIONAL DE SAUDE</td>\n",
       "      <td>Saúde</td>\n",
       "      <td>Suporte profilático e terapêutico</td>\n",
       "      <td>APERFEICOAMENTO DO SISTEMA UNICO DE SAUDE (SUS)</td>\n",
       "      <td>PARTICIPACAO DA UNIAO NO CAPITAL SOCIAL - EMPR...</td>\n",
       "      <td>DESPESA DE CAPITAL</td>\n",
       "      <td>Inversões Financeiras</td>\n",
       "      <td>Constituição ou Aumento de Capital de Empresas</td>\n",
       "      <td>1.000000e+08</td>\n",
       "      <td>1.000000e+08</td>\n",
       "      <td>30000000.00</td>\n",
       "      <td>0.00</td>\n",
       "    </tr>\n",
       "    <tr>\n",
       "      <th>19098</th>\n",
       "      <td>2014-01-01</td>\n",
       "      <td>Ministério da Saúde</td>\n",
       "      <td>Ministério da Saúde - Unidades com vínculo direto</td>\n",
       "      <td>FUNDO NACIONAL DE SAUDE</td>\n",
       "      <td>Saúde</td>\n",
       "      <td>Direitos individuais, coletivos e difusos</td>\n",
       "      <td>APERFEICOAMENTO DO SISTEMA UNICO DE SAUDE (SUS)</td>\n",
       "      <td>OUVIDORIA NACIONAL DE SAUDE</td>\n",
       "      <td>DESPESA CORRENTE</td>\n",
       "      <td>Outras Despesas Correntes</td>\n",
       "      <td>Diárias - Civil</td>\n",
       "      <td>7.230000e+04</td>\n",
       "      <td>7.230000e+04</td>\n",
       "      <td>48344.85</td>\n",
       "      <td>48344.85</td>\n",
       "    </tr>\n",
       "    <tr>\n",
       "      <th>19097</th>\n",
       "      <td>2014-01-01</td>\n",
       "      <td>Ministério da Saúde</td>\n",
       "      <td>Ministério da Saúde - Unidades com vínculo direto</td>\n",
       "      <td>FUNDO NACIONAL DE SAUDE</td>\n",
       "      <td>Saúde</td>\n",
       "      <td>Direitos individuais, coletivos e difusos</td>\n",
       "      <td>APERFEICOAMENTO DO SISTEMA UNICO DE SAUDE (SUS)</td>\n",
       "      <td>OUVIDORIA NACIONAL DE SAUDE</td>\n",
       "      <td>DESPESA CORRENTE</td>\n",
       "      <td>Outras Despesas Correntes</td>\n",
       "      <td>Material de Consumo</td>\n",
       "      <td>7.500000e+02</td>\n",
       "      <td>7.500000e+02</td>\n",
       "      <td>750.00</td>\n",
       "      <td>0.00</td>\n",
       "    </tr>\n",
       "    <tr>\n",
       "      <th>...</th>\n",
       "      <td>...</td>\n",
       "      <td>...</td>\n",
       "      <td>...</td>\n",
       "      <td>...</td>\n",
       "      <td>...</td>\n",
       "      <td>...</td>\n",
       "      <td>...</td>\n",
       "      <td>...</td>\n",
       "      <td>...</td>\n",
       "      <td>...</td>\n",
       "      <td>...</td>\n",
       "      <td>...</td>\n",
       "      <td>...</td>\n",
       "      <td>...</td>\n",
       "      <td>...</td>\n",
       "    </tr>\n",
       "    <tr>\n",
       "      <th>8067</th>\n",
       "      <td>2021-01-01</td>\n",
       "      <td>Ministério da Educação</td>\n",
       "      <td>Universidade Federal do Sul e Sudeste do Pará</td>\n",
       "      <td>UNIV.FED.DO SUL E SUDESTE DO PARA - UNIFESSPA</td>\n",
       "      <td>Encargos especiais</td>\n",
       "      <td>Outros encargos especiais</td>\n",
       "      <td>OPERACOES ESPECIAIS: GESTAO DA PARTICIPACAO EM...</td>\n",
       "      <td>CONTRIBUICOES A ORGANISMOS INTERNACIONAIS SEM ...</td>\n",
       "      <td>DESPESAS CORRENTES</td>\n",
       "      <td>Outras Despesas Correntes</td>\n",
       "      <td>Não informado</td>\n",
       "      <td>-3.307600e+03</td>\n",
       "      <td>1.634000e+02</td>\n",
       "      <td>0.00</td>\n",
       "      <td>0.00</td>\n",
       "    </tr>\n",
       "    <tr>\n",
       "      <th>8066</th>\n",
       "      <td>2021-01-01</td>\n",
       "      <td>Ministério da Educação</td>\n",
       "      <td>Universidade Federal do Rio Grande</td>\n",
       "      <td>UNIVERSIDADE FEDERAL DO RIO GRANDE - FURG</td>\n",
       "      <td>Encargos especiais</td>\n",
       "      <td>Outros encargos especiais</td>\n",
       "      <td>OPERACOES ESPECIAIS: GESTAO DA PARTICIPACAO EM...</td>\n",
       "      <td>CONTRIBUICOES A ORGANISMOS INTERNACIONAIS SEM ...</td>\n",
       "      <td>DESPESAS CORRENTES</td>\n",
       "      <td>Outras Despesas Correntes</td>\n",
       "      <td>Não informado</td>\n",
       "      <td>-8.980500e+03</td>\n",
       "      <td>3.635000e+02</td>\n",
       "      <td>0.00</td>\n",
       "      <td>0.00</td>\n",
       "    </tr>\n",
       "    <tr>\n",
       "      <th>8065</th>\n",
       "      <td>2021-01-01</td>\n",
       "      <td>Ministério da Educação</td>\n",
       "      <td>Universidade Federal do Rio de Janeiro</td>\n",
       "      <td>UNIVERSIDADE FEDERAL DO RIO DE JANEIRO</td>\n",
       "      <td>Encargos especiais</td>\n",
       "      <td>Outros encargos especiais</td>\n",
       "      <td>OPERACOES ESPECIAIS: GESTAO DA PARTICIPACAO EM...</td>\n",
       "      <td>CONTRIBUICOES A ORGANISMOS INTERNACIONAIS SEM ...</td>\n",
       "      <td>DESPESAS CORRENTES</td>\n",
       "      <td>Outras Despesas Correntes</td>\n",
       "      <td>Contribuições</td>\n",
       "      <td>9.348048e+04</td>\n",
       "      <td>9.348048e+04</td>\n",
       "      <td>93480.48</td>\n",
       "      <td>33452.96</td>\n",
       "    </tr>\n",
       "    <tr>\n",
       "      <th>8074</th>\n",
       "      <td>2021-01-01</td>\n",
       "      <td>Ministério da Educação</td>\n",
       "      <td>Centro Federal de Educação Tecnológica Celso S...</td>\n",
       "      <td>CENTRO FED.DE EDUC.TECNOL.CELSO S.DA FONSECA</td>\n",
       "      <td>Encargos especiais</td>\n",
       "      <td>Outros encargos especiais</td>\n",
       "      <td>OPERACOES ESPECIAIS: GESTAO DA PARTICIPACAO EM...</td>\n",
       "      <td>CONTRIBUICOES A ORGANISMOS INTERNACIONAIS SEM ...</td>\n",
       "      <td>DESPESAS CORRENTES</td>\n",
       "      <td>Outras Despesas Correntes</td>\n",
       "      <td>Contribuições</td>\n",
       "      <td>2.145100e+04</td>\n",
       "      <td>2.145100e+04</td>\n",
       "      <td>21451.00</td>\n",
       "      <td>0.00</td>\n",
       "    </tr>\n",
       "    <tr>\n",
       "      <th>24214</th>\n",
       "      <td>2021-01-01</td>\n",
       "      <td>Ministério da Mulher, Família e Direitos Humanos</td>\n",
       "      <td>Ministério da Mulher, Família e Direitos Human...</td>\n",
       "      <td>MINISTERIO DOS DIREITOS HUMANOS - MDH</td>\n",
       "      <td>Direitos da cidadania</td>\n",
       "      <td>Assistência à criança e ao adolescente</td>\n",
       "      <td>PROTECAO A VIDA, FORTALECIMENTO DA FAMILIA, PR...</td>\n",
       "      <td>CONSTRUCAO, REFORMA, EQUIPAGEM E AMPLIACAO DE ...</td>\n",
       "      <td>DESPESAS DE CAPITAL</td>\n",
       "      <td>Investimentos</td>\n",
       "      <td>Não informado</td>\n",
       "      <td>2.500000e+05</td>\n",
       "      <td>2.500000e+05</td>\n",
       "      <td>0.00</td>\n",
       "      <td>0.00</td>\n",
       "    </tr>\n",
       "  </tbody>\n",
       "</table>\n",
       "<p>213685 rows × 15 columns</p>\n",
       "</div>"
      ],
      "text/plain": [
       "      exercicios                                    nome_orgao_sup  \\\n",
       "0     2014-01-01                          Presidência da República   \n",
       "19100 2014-01-01                               Ministério da Saúde   \n",
       "19099 2014-01-01                               Ministério da Saúde   \n",
       "19098 2014-01-01                               Ministério da Saúde   \n",
       "19097 2014-01-01                               Ministério da Saúde   \n",
       "...          ...                                               ...   \n",
       "8067  2021-01-01                            Ministério da Educação   \n",
       "8066  2021-01-01                            Ministério da Educação   \n",
       "8065  2021-01-01                            Ministério da Educação   \n",
       "8074  2021-01-01                            Ministério da Educação   \n",
       "24214 2021-01-01  Ministério da Mulher, Família e Direitos Humanos   \n",
       "\n",
       "                                          nome_orgao_sub  \\\n",
       "0      Secretaria de Políticas de Promoção da Igualda...   \n",
       "19100  Ministério da Saúde - Unidades com vínculo direto   \n",
       "19099  Ministério da Saúde - Unidades com vínculo direto   \n",
       "19098  Ministério da Saúde - Unidades com vínculo direto   \n",
       "19097  Ministério da Saúde - Unidades com vínculo direto   \n",
       "...                                                  ...   \n",
       "8067       Universidade Federal do Sul e Sudeste do Pará   \n",
       "8066                  Universidade Federal do Rio Grande   \n",
       "8065              Universidade Federal do Rio de Janeiro   \n",
       "8074   Centro Federal de Educação Tecnológica Celso S...   \n",
       "24214  Ministério da Mulher, Família e Direitos Human...   \n",
       "\n",
       "                                  nome_unid_orcament            nome_funcao  \\\n",
       "0       SEC.DE POLITICAS DE PROM.DA IGUALDADE RACIAL  Direitos da cidadania   \n",
       "19100                        FUNDO NACIONAL DE SAUDE                  Saúde   \n",
       "19099                        FUNDO NACIONAL DE SAUDE                  Saúde   \n",
       "19098                        FUNDO NACIONAL DE SAUDE                  Saúde   \n",
       "19097                        FUNDO NACIONAL DE SAUDE                  Saúde   \n",
       "...                                              ...                    ...   \n",
       "8067   UNIV.FED.DO SUL E SUDESTE DO PARA - UNIFESSPA     Encargos especiais   \n",
       "8066       UNIVERSIDADE FEDERAL DO RIO GRANDE - FURG     Encargos especiais   \n",
       "8065          UNIVERSIDADE FEDERAL DO RIO DE JANEIRO     Encargos especiais   \n",
       "8074    CENTRO FED.DE EDUC.TECNOL.CELSO S.DA FONSECA     Encargos especiais   \n",
       "24214          MINISTERIO DOS DIREITOS HUMANOS - MDH  Direitos da cidadania   \n",
       "\n",
       "                                  nome_subfuncao  \\\n",
       "0           Proteção e benefícios ao trabalhador   \n",
       "19100                Normatização e fiscalização   \n",
       "19099          Suporte profilático e terapêutico   \n",
       "19098  Direitos individuais, coletivos e difusos   \n",
       "19097  Direitos individuais, coletivos e difusos   \n",
       "...                                          ...   \n",
       "8067                   Outros encargos especiais   \n",
       "8066                   Outros encargos especiais   \n",
       "8065                   Outros encargos especiais   \n",
       "8074                   Outros encargos especiais   \n",
       "24214     Assistência à criança e ao adolescente   \n",
       "\n",
       "                                      nome_prog_orcament  \\\n",
       "0      PROGRAMA DE GESTAO E MANUTENCAO DA SECRETARIA ...   \n",
       "19100    APERFEICOAMENTO DO SISTEMA UNICO DE SAUDE (SUS)   \n",
       "19099    APERFEICOAMENTO DO SISTEMA UNICO DE SAUDE (SUS)   \n",
       "19098    APERFEICOAMENTO DO SISTEMA UNICO DE SAUDE (SUS)   \n",
       "19097    APERFEICOAMENTO DO SISTEMA UNICO DE SAUDE (SUS)   \n",
       "...                                                  ...   \n",
       "8067   OPERACOES ESPECIAIS: GESTAO DA PARTICIPACAO EM...   \n",
       "8066   OPERACOES ESPECIAIS: GESTAO DA PARTICIPACAO EM...   \n",
       "8065   OPERACOES ESPECIAIS: GESTAO DA PARTICIPACAO EM...   \n",
       "8074   OPERACOES ESPECIAIS: GESTAO DA PARTICIPACAO EM...   \n",
       "24214  PROTECAO A VIDA, FORTALECIMENTO DA FAMILIA, PR...   \n",
       "\n",
       "                                               nome_acao     nome_categ_econo  \\\n",
       "0      AUXILIO-ALIMENTACAO AOS SERVIDORES CIVIS, EMPR...     DESPESA CORRENTE   \n",
       "19100                AUDITORIA DO SISTEMA UNICO DE SAUDE     DESPESA CORRENTE   \n",
       "19099  PARTICIPACAO DA UNIAO NO CAPITAL SOCIAL - EMPR...   DESPESA DE CAPITAL   \n",
       "19098                        OUVIDORIA NACIONAL DE SAUDE     DESPESA CORRENTE   \n",
       "19097                        OUVIDORIA NACIONAL DE SAUDE     DESPESA CORRENTE   \n",
       "...                                                  ...                  ...   \n",
       "8067   CONTRIBUICOES A ORGANISMOS INTERNACIONAIS SEM ...   DESPESAS CORRENTES   \n",
       "8066   CONTRIBUICOES A ORGANISMOS INTERNACIONAIS SEM ...   DESPESAS CORRENTES   \n",
       "8065   CONTRIBUICOES A ORGANISMOS INTERNACIONAIS SEM ...   DESPESAS CORRENTES   \n",
       "8074   CONTRIBUICOES A ORGANISMOS INTERNACIONAIS SEM ...   DESPESAS CORRENTES   \n",
       "24214  CONSTRUCAO, REFORMA, EQUIPAGEM E AMPLIACAO DE ...  DESPESAS DE CAPITAL   \n",
       "\n",
       "                nome_grp_despesa  \\\n",
       "0      Outras Despesas Correntes   \n",
       "19100  Outras Despesas Correntes   \n",
       "19099      Inversões Financeiras   \n",
       "19098  Outras Despesas Correntes   \n",
       "19097  Outras Despesas Correntes   \n",
       "...                          ...   \n",
       "8067   Outras Despesas Correntes   \n",
       "8066   Outras Despesas Correntes   \n",
       "8065   Outras Despesas Correntes   \n",
       "8074   Outras Despesas Correntes   \n",
       "24214              Investimentos   \n",
       "\n",
       "                                 nome_element_despesa  orcamento_inicial  \\\n",
       "0                   Despesas de Exercícios Anteriores       2.834830e+03   \n",
       "19100                                   Contribuições       1.500000e+06   \n",
       "19099  Constituição ou Aumento de Capital de Empresas       1.000000e+08   \n",
       "19098                                 Diárias - Civil       7.230000e+04   \n",
       "19097                             Material de Consumo       7.500000e+02   \n",
       "...                                               ...                ...   \n",
       "8067                                    Não informado      -3.307600e+03   \n",
       "8066                                    Não informado      -8.980500e+03   \n",
       "8065                                    Contribuições       9.348048e+04   \n",
       "8074                                    Contribuições       2.145100e+04   \n",
       "24214                                   Não informado       2.500000e+05   \n",
       "\n",
       "       orcamento_atualizado  orcamento_empenhado  orcamento_realizado  \n",
       "0              2.834830e+03                 0.00                 0.00  \n",
       "19100          1.500000e+06           1500000.00           1500000.00  \n",
       "19099          1.000000e+08          30000000.00                 0.00  \n",
       "19098          7.230000e+04             48344.85             48344.85  \n",
       "19097          7.500000e+02               750.00                 0.00  \n",
       "...                     ...                  ...                  ...  \n",
       "8067           1.634000e+02                 0.00                 0.00  \n",
       "8066           3.635000e+02                 0.00                 0.00  \n",
       "8065           9.348048e+04             93480.48             33452.96  \n",
       "8074           2.145100e+04             21451.00                 0.00  \n",
       "24214          2.500000e+05                 0.00                 0.00  \n",
       "\n",
       "[213685 rows x 15 columns]"
      ]
     },
     "metadata": {},
     "output_type": "display_data"
    }
   ],
   "source": [
    "# Ordenando os dados pelo ano \n",
    "df = df.sort_values(by=['exercicios'],ascending=True)\n",
    "display(df)"
   ]
  },
  {
   "cell_type": "markdown",
   "id": "02036469-d01c-4bbf-a3f5-0e5b46e4ea1b",
   "metadata": {},
   "source": [
    "# 3 Entendimento dos dados"
   ]
  },
  {
   "cell_type": "markdown",
   "id": "aea1c5c9-1e7c-4914-8610-afeb90973eb8",
   "metadata": {},
   "source": [
    "## 3.1 Colunas categóricas"
   ]
  },
  {
   "cell_type": "code",
   "execution_count": 60,
   "id": "a32d068e-3c60-46e3-b079-713303b50c24",
   "metadata": {},
   "outputs": [],
   "source": [
    "categoricas = ['nome_acao','nome_categ_econo','nome_grp_despesa','nome_element_despesa']"
   ]
  },
  {
   "cell_type": "code",
   "execution_count": 61,
   "id": "45a63027-3554-4e8f-a26d-b09eeb25c7a6",
   "metadata": {},
   "outputs": [
    {
     "data": {
      "text/plain": [
       "3585"
      ]
     },
     "execution_count": 61,
     "metadata": {},
     "output_type": "execute_result"
    }
   ],
   "source": [
    "df[categoricas[0]].value_counts().count()"
   ]
  },
  {
   "cell_type": "code",
   "execution_count": 62,
   "id": "335bdbe8-e6ba-4b45-a9df-84ec1d93ff18",
   "metadata": {},
   "outputs": [
    {
     "data": {
      "text/plain": [
       "ADMINISTRACAO DA UNIDADE                                                                            16013\n",
       "FUNCIONAMENTO DE INSTITUICOES FEDERAIS DE ENSINO SUPERIOR                                           10546\n",
       "ATIVOS CIVIS DA UNIAO                                                                                8713\n",
       "ASSISTENCIA MEDICA E ODONTOLOGICA AOS SERVIDORES CIVIS, EMPREGADOS, MILITARES E SEUS DEPENDENTES     7394\n",
       "CAPACITACAO DE SERVIDORES PUBLICOS FEDERAIS EM PROCESSO DE QUALIFICACAO E REQUALIFICACAO             7012\n",
       "                                                                                                    ...  \n",
       "CONTRIBUICAO AO CENTRO REGIONAL DE SISMOLOGIA PARA A AMERICA DO SUL - CERESIS (MCTI)                    1\n",
       "ADEQUACAO DE TRECHO RODOVIARIO - ERECHIM - PASSO FUNDO - NA BR-285/RS                                   1\n",
       "ADEQUACOES SOB LINHA FERREA EM SAO CARLOS - NA EF-364/SP                                                1\n",
       "ADEQUACAO DE LINHA FERREA EM NOVA ODESSA - NA EF-364/SP                                                 1\n",
       "REESTRUTURACAO DO COMPLEXO DA POLICIA FEDERAL NO SETOR POLICIAL SUL DO DISTRITO FEDERAL                 1\n",
       "Name: nome_acao, Length: 3585, dtype: int64"
      ]
     },
     "execution_count": 62,
     "metadata": {},
     "output_type": "execute_result"
    }
   ],
   "source": [
    "df[categoricas[0]].value_counts()"
   ]
  },
  {
   "cell_type": "markdown",
   "id": "7e9eb8d5-b721-4e62-a05f-e54fcd3b31d5",
   "metadata": {},
   "source": [
    "<font color='red'> Como podemos verificar, não é possível validar manualmente os valores de 'nome_acao', no entanto não foi verificado nenhum valor anormal nos máximos nem mínimos valores"
   ]
  },
  {
   "cell_type": "code",
   "execution_count": 63,
   "id": "28c4710f-5775-420f-91a4-c73507c2bce5",
   "metadata": {},
   "outputs": [
    {
     "data": {
      "text/plain": [
       "DESPESAS CORRENTES         151155\n",
       "DESPESAS DE CAPITAL         33400\n",
       "DESPESA CORRENTE            22730\n",
       "DESPESA DE CAPITAL           5862\n",
       "RESERVA DE CONTINGENCIA       537\n",
       "Inválido                        1\n",
       "Name: nome_categ_econo, dtype: int64"
      ]
     },
     "execution_count": 63,
     "metadata": {},
     "output_type": "execute_result"
    }
   ],
   "source": [
    "df[categoricas[1]].value_counts()"
   ]
  },
  {
   "cell_type": "code",
   "execution_count": 64,
   "id": "c578e9cc-959c-4fd7-ac6b-74adc3b87dfc",
   "metadata": {},
   "outputs": [
    {
     "data": {
      "text/plain": [
       "Outras Despesas Correntes                139890\n",
       "Investimentos                             37705\n",
       "Pessoal e Encargos Sociais                33705\n",
       "Inversões Financeiras                      1339\n",
       "Reserva de Contingência                     537\n",
       "Juros e Encargos da Dívida                  290\n",
       "Amortização/Refinanciamento da Dívida       218\n",
       "Inválido                                      1\n",
       "Name: nome_grp_despesa, dtype: int64"
      ]
     },
     "execution_count": 64,
     "metadata": {},
     "output_type": "execute_result"
    }
   ],
   "source": [
    "df[categoricas[2]].value_counts()"
   ]
  },
  {
   "cell_type": "code",
   "execution_count": 65,
   "id": "214ff513-9098-476d-b134-41452c714727",
   "metadata": {},
   "outputs": [
    {
     "data": {
      "text/plain": [
       "Não informado                                                       54422\n",
       "Outros Serviços de Terceiros - Pessoa Jurídica                      20905\n",
       "Despesas de Exercícios Anteriores                                   14147\n",
       "Material de Consumo                                                  8747\n",
       "Indenizações e Restituições                                          8692\n",
       "                                                                    ...  \n",
       "Aquisição de Títulos Representativos de Capital já Integralizado        4\n",
       "A Classificar                                                           3\n",
       "Arrendamento mercantil                                                  3\n",
       "Remuneração de Cotas de Fundos Autárquicos                              3\n",
       "Inválido                                                                1\n",
       "Name: nome_element_despesa, Length: 77, dtype: int64"
      ]
     },
     "execution_count": 65,
     "metadata": {},
     "output_type": "execute_result"
    }
   ],
   "source": [
    "df[categoricas[3]].value_counts()"
   ]
  },
  {
   "cell_type": "code",
   "execution_count": 66,
   "id": "2fcc5d2c-2739-4a62-aa71-991edb6a6284",
   "metadata": {},
   "outputs": [],
   "source": [
    "# Definir True apenas caso necessário verificar todos os valores manualmente\n",
    "rodar = False\n",
    "if rodar:\n",
    "    for dados in df[categoricas[3]].value_counts().index:\n",
    "        print(dados)"
   ]
  },
  {
   "cell_type": "markdown",
   "id": "73bcba15-4c89-422e-a131-98ec4c67b9cf",
   "metadata": {},
   "source": [
    "<font color='red'> Nas três colunas acima está presente um valor estranho :'Inválido'. Verifiquei manualmente as 77 colunas de 'nome_element_despesa', e existe apenas esse valor que é aparentemente errado"
   ]
  },
  {
   "cell_type": "code",
   "execution_count": 67,
   "id": "fdab590e-c463-4da4-81b0-74e2625deef1",
   "metadata": {},
   "outputs": [
    {
     "data": {
      "text/html": [
       "<div>\n",
       "<style scoped>\n",
       "    .dataframe tbody tr th:only-of-type {\n",
       "        vertical-align: middle;\n",
       "    }\n",
       "\n",
       "    .dataframe tbody tr th {\n",
       "        vertical-align: top;\n",
       "    }\n",
       "\n",
       "    .dataframe thead th {\n",
       "        text-align: right;\n",
       "    }\n",
       "</style>\n",
       "<table border=\"1\" class=\"dataframe\">\n",
       "  <thead>\n",
       "    <tr style=\"text-align: right;\">\n",
       "      <th></th>\n",
       "      <th>exercicios</th>\n",
       "      <th>nome_orgao_sup</th>\n",
       "      <th>nome_orgao_sub</th>\n",
       "      <th>nome_unid_orcament</th>\n",
       "      <th>nome_funcao</th>\n",
       "      <th>nome_subfuncao</th>\n",
       "      <th>nome_prog_orcament</th>\n",
       "      <th>nome_acao</th>\n",
       "      <th>nome_categ_econo</th>\n",
       "      <th>nome_grp_despesa</th>\n",
       "      <th>nome_element_despesa</th>\n",
       "      <th>orcamento_inicial</th>\n",
       "      <th>orcamento_atualizado</th>\n",
       "      <th>orcamento_empenhado</th>\n",
       "      <th>orcamento_realizado</th>\n",
       "    </tr>\n",
       "  </thead>\n",
       "  <tbody>\n",
       "    <tr>\n",
       "      <th>3846</th>\n",
       "      <td>2020-01-01</td>\n",
       "      <td>Ministério da Economia</td>\n",
       "      <td>Ministério da Economia - Unidades com vínculo ...</td>\n",
       "      <td>REC.SOB SUPERV. DO ME - DIVIDA PUB FED</td>\n",
       "      <td>Encargos especiais</td>\n",
       "      <td>Outros encargos especiais</td>\n",
       "      <td>OPERACOES ESPECIAIS: OUTROS ENCARGOS ESPECIAIS</td>\n",
       "      <td>ASSUNCAO E NOVACAO DE DIVIDAS DO FUNDO DE COMP...</td>\n",
       "      <td>Inválido</td>\n",
       "      <td>Inválido</td>\n",
       "      <td>Inválido</td>\n",
       "      <td>94000000.0</td>\n",
       "      <td>94000000.0</td>\n",
       "      <td>94000000.0</td>\n",
       "      <td>0.0</td>\n",
       "    </tr>\n",
       "  </tbody>\n",
       "</table>\n",
       "</div>"
      ],
      "text/plain": [
       "     exercicios          nome_orgao_sup  \\\n",
       "3846 2020-01-01  Ministério da Economia   \n",
       "\n",
       "                                         nome_orgao_sub  \\\n",
       "3846  Ministério da Economia - Unidades com vínculo ...   \n",
       "\n",
       "                          nome_unid_orcament         nome_funcao  \\\n",
       "3846  REC.SOB SUPERV. DO ME - DIVIDA PUB FED  Encargos especiais   \n",
       "\n",
       "                 nome_subfuncao  \\\n",
       "3846  Outros encargos especiais   \n",
       "\n",
       "                                  nome_prog_orcament  \\\n",
       "3846  OPERACOES ESPECIAIS: OUTROS ENCARGOS ESPECIAIS   \n",
       "\n",
       "                                              nome_acao nome_categ_econo  \\\n",
       "3846  ASSUNCAO E NOVACAO DE DIVIDAS DO FUNDO DE COMP...         Inválido   \n",
       "\n",
       "     nome_grp_despesa nome_element_despesa  orcamento_inicial  \\\n",
       "3846         Inválido             Inválido         94000000.0   \n",
       "\n",
       "      orcamento_atualizado  orcamento_empenhado  orcamento_realizado  \n",
       "3846            94000000.0           94000000.0                  0.0  "
      ]
     },
     "metadata": {},
     "output_type": "display_data"
    }
   ],
   "source": [
    "valor_invalido = df[(df[categoricas[3]] == 'Inválido')|(df[categoricas[2]] == 'Inválido')|(df[categoricas[1]] == 'Inválido')]\n",
    "display(valor_invalido)"
   ]
  },
  {
   "cell_type": "markdown",
   "id": "7a8e1039-7c06-4e16-9f84-bffe94fb6d1b",
   "metadata": {},
   "source": [
    "Ao verificar as colunas que tem esse valor presente, penso que é melhor não removê-lo "
   ]
  },
  {
   "cell_type": "code",
   "execution_count": 68,
   "id": "7ebef566-675e-4423-a92f-1f2cb7aa454b",
   "metadata": {},
   "outputs": [
    {
     "data": {
      "text/plain": [
       "3846    94000000.0\n",
       "Name: orcamento_inicial, dtype: float64"
      ]
     },
     "metadata": {},
     "output_type": "display_data"
    },
    {
     "data": {
      "text/plain": [
       "3846    94000000.0\n",
       "Name: orcamento_atualizado, dtype: float64"
      ]
     },
     "metadata": {},
     "output_type": "display_data"
    },
    {
     "data": {
      "text/plain": [
       "3846    94000000.0\n",
       "Name: orcamento_empenhado, dtype: float64"
      ]
     },
     "metadata": {},
     "output_type": "display_data"
    },
    {
     "data": {
      "text/plain": [
       "3846    0.0\n",
       "Name: orcamento_realizado, dtype: float64"
      ]
     },
     "metadata": {},
     "output_type": "display_data"
    }
   ],
   "source": [
    "display(valor_invalido.orcamento_inicial)\n",
    "display(valor_invalido.orcamento_atualizado)\n",
    "display(valor_invalido.orcamento_empenhado)\n",
    "display(valor_invalido.orcamento_realizado)"
   ]
  },
  {
   "cell_type": "markdown",
   "id": "83453d08-97fd-4bda-97bb-cf87e6870d33",
   "metadata": {},
   "source": [
    "Pois como vemos acima ele tinha um orçamento muito alto , 94 milhões de R$. Com isso, acredito que vale a pena estudar o motivo deste valor"
   ]
  },
  {
   "cell_type": "markdown",
   "id": "52caebf0-4adb-42e8-8c7d-81db830376ec",
   "metadata": {},
   "source": [
    "## 3.2 Colunas numéricas"
   ]
  },
  {
   "cell_type": "code",
   "execution_count": 69,
   "id": "f83bcfd9-8b43-4015-97f5-99d177b07caf",
   "metadata": {},
   "outputs": [],
   "source": [
    "numericas = ['orcamento_inicial','orcamento_atualizado','orcamento_empenhado','orcamento_realizado']"
   ]
  },
  {
   "cell_type": "markdown",
   "id": "63b9b9a3-25fa-475a-b100-582db0c42809",
   "metadata": {},
   "source": [
    "Nos tópicos abaixo veremos a distribuição e evolução pelos anos dos valores"
   ]
  },
  {
   "cell_type": "code",
   "execution_count": 70,
   "id": "a503e18b-1546-4be2-a487-f2c5a75dfa1c",
   "metadata": {},
   "outputs": [],
   "source": [
    "acumulado_orcamento_anos = df.groupby('exercicios').sum()"
   ]
  },
  {
   "cell_type": "markdown",
   "id": "7a649137-df9f-4a7e-98b8-999029032970",
   "metadata": {},
   "source": [
    "Verificando agora a existência de valores faltantes"
   ]
  },
  {
   "cell_type": "code",
   "execution_count": 71,
   "id": "360bfff2-7c5c-4b90-acf8-af8ceb1cda80",
   "metadata": {},
   "outputs": [
    {
     "data": {
      "text/plain": [
       "(0, 0, 0, 0)"
      ]
     },
     "execution_count": 71,
     "metadata": {},
     "output_type": "execute_result"
    }
   ],
   "source": [
    "df[numericas[0]].isnull().sum(), df[numericas[1]].isnull().sum(), df[numericas[2]].isnull().sum(), df[numericas[3]].isnull().sum()"
   ]
  },
  {
   "cell_type": "markdown",
   "id": "4d0c6f4c-8966-4b55-a9c8-c3d0193e8991",
   "metadata": {},
   "source": [
    "Como vemos, não existem valores faltantes nas colunas numéricas"
   ]
  },
  {
   "cell_type": "markdown",
   "id": "597671db-5ce8-40e4-8861-ab1eff1e72b6",
   "metadata": {},
   "source": [
    "### 3.2.1 Orçamento anos"
   ]
  },
  {
   "cell_type": "code",
   "execution_count": 72,
   "id": "cdc19d1f-2a9c-4ccf-9f50-8f6f5c9d160f",
   "metadata": {},
   "outputs": [
    {
     "data": {
      "text/plain": [
       "<AxesSubplot:xlabel='orcamento_inicial'>"
      ]
     },
     "execution_count": 72,
     "metadata": {},
     "output_type": "execute_result"
    },
    {
     "data": {
      "image/png": "[encoded data removed]",
      "text/plain": [
       "<Figure size 432x288 with 1 Axes>"
      ]
     },
     "metadata": {
      "needs_background": "light"
     },
     "output_type": "display_data"
    }
   ],
   "source": [
    "sns.boxplot(x=df['orcamento_inicial'])"
   ]
  },
  {
   "cell_type": "code",
   "execution_count": 73,
   "id": "45a07827-c14d-4fd0-b9ac-78825831396e",
   "metadata": {},
   "outputs": [
    {
     "data": {
      "application/vnd.plotly.v1+json": {
       "config": {
        "plotlyServerURL": "https://plot.ly"
       },
       "data": [
        {
         "marker": {
          "color": "green"
         },
         "type": "scatter",
         "x": [
          "2014-01-01T00:00:00",
          "2015-01-01T00:00:00",
          "2016-01-01T00:00:00",
          "2017-01-01T00:00:00",
          "2018-01-01T00:00:00",
          "2019-01-01T00:00:00",
          "2020-01-01T00:00:00",
          "2021-01-01T00:00:00"
         ],
         "y": [
          2332616220276,
          2820627660546,
          2897885317918.98,
          3350828763917,
          3437199404007.41,
          3191471686382.87,
          3496239089282.85,
          4088988801597.05
         ]
        }
       ],
       "layout": {
        "template": {
         "data": {
          "bar": [
           {
            "error_x": {
             "color": "#2a3f5f"
            },
            "error_y": {
             "color": "#2a3f5f"
            },
            "marker": {
             "line": {
              "color": "#E5ECF6",
              "width": 0.5
             },
             "pattern": {
              "fillmode": "overlay",
              "size": 10,
              "solidity": 0.2
             }
            },
            "type": "bar"
           }
          ],
          "barpolar": [
           {
            "marker": {
             "line": {
              "color": "#E5ECF6",
              "width": 0.5
             },
             "pattern": {
              "fillmode": "overlay",
              "size": 10,
              "solidity": 0.2
             }
            },
            "type": "barpolar"
           }
          ],
          "carpet": [
           {
            "aaxis": {
             "endlinecolor": "#2a3f5f",
             "gridcolor": "white",
             "linecolor": "white",
             "minorgridcolor": "white",
             "startlinecolor": "#2a3f5f"
            },
            "baxis": {
             "endlinecolor": "#2a3f5f",
             "gridcolor": "white",
             "linecolor": "white",
             "minorgridcolor": "white",
             "startlinecolor": "#2a3f5f"
            },
            "type": "carpet"
           }
          ],
          "choropleth": [
           {
            "colorbar": {
             "outlinewidth": 0,
             "ticks": ""
            },
            "type": "choropleth"
           }
          ],
          "contour": [
           {
            "colorbar": {
             "outlinewidth": 0,
             "ticks": ""
            },
            "colorscale": [
             [
              0,
              "#0d0887"
             ],
             [
              0.1111111111111111,
              "#46039f"
             ],
             [
              0.2222222222222222,
              "#7201a8"
             ],
             [
              0.3333333333333333,
              "#9c179e"
             ],
             [
              0.4444444444444444,
              "#bd3786"
             ],
             [
              0.5555555555555556,
              "#d8576b"
             ],
             [
              0.6666666666666666,
              "#ed7953"
             ],
             [
              0.7777777777777778,
              "#fb9f3a"
             ],
             [
              0.8888888888888888,
              "#fdca26"
             ],
             [
              1,
              "#f0f921"
             ]
            ],
            "type": "contour"
           }
          ],
          "contourcarpet": [
           {
            "colorbar": {
             "outlinewidth": 0,
             "ticks": ""
            },
            "type": "contourcarpet"
           }
          ],
          "heatmap": [
           {
            "colorbar": {
             "outlinewidth": 0,
             "ticks": ""
            },
            "colorscale": [
             [
              0,
              "#0d0887"
             ],
             [
              0.1111111111111111,
              "#46039f"
             ],
             [
              0.2222222222222222,
              "#7201a8"
             ],
             [
              0.3333333333333333,
              "#9c179e"
             ],
             [
              0.4444444444444444,
              "#bd3786"
             ],
             [
              0.5555555555555556,
              "#d8576b"
             ],
             [
              0.6666666666666666,
              "#ed7953"
             ],
             [
              0.7777777777777778,
              "#fb9f3a"
             ],
             [
              0.8888888888888888,
              "#fdca26"
             ],
             [
              1,
              "#f0f921"
             ]
            ],
            "type": "heatmap"
           }
          ],
          "heatmapgl": [
           {
            "colorbar": {
             "outlinewidth": 0,
             "ticks": ""
            },
            "colorscale": [
             [
              0,
              "#0d0887"
             ],
             [
              0.1111111111111111,
              "#46039f"
             ],
             [
              0.2222222222222222,
              "#7201a8"
             ],
             [
              0.3333333333333333,
              "#9c179e"
             ],
             [
              0.4444444444444444,
              "#bd3786"
             ],
             [
              0.5555555555555556,
              "#d8576b"
             ],
             [
              0.6666666666666666,
              "#ed7953"
             ],
             [
              0.7777777777777778,
              "#fb9f3a"
             ],
             [
              0.8888888888888888,
              "#fdca26"
             ],
             [
              1,
              "#f0f921"
             ]
            ],
            "type": "heatmapgl"
           }
          ],
          "histogram": [
           {
            "marker": {
             "pattern": {
              "fillmode": "overlay",
              "size": 10,
              "solidity": 0.2
             }
            },
            "type": "histogram"
           }
          ],
          "histogram2d": [
           {
            "colorbar": {
             "outlinewidth": 0,
             "ticks": ""
            },
            "colorscale": [
             [
              0,
              "#0d0887"
             ],
             [
              0.1111111111111111,
              "#46039f"
             ],
             [
              0.2222222222222222,
              "#7201a8"
             ],
             [
              0.3333333333333333,
              "#9c179e"
             ],
             [
              0.4444444444444444,
              "#bd3786"
             ],
             [
              0.5555555555555556,
              "#d8576b"
             ],
             [
              0.6666666666666666,
              "#ed7953"
             ],
             [
              0.7777777777777778,
              "#fb9f3a"
             ],
             [
              0.8888888888888888,
              "#fdca26"
             ],
             [
              1,
              "#f0f921"
             ]
            ],
            "type": "histogram2d"
           }
          ],
          "histogram2dcontour": [
           {
            "colorbar": {
             "outlinewidth": 0,
             "ticks": ""
            },
            "colorscale": [
             [
              0,
              "#0d0887"
             ],
             [
              0.1111111111111111,
              "#46039f"
             ],
             [
              0.2222222222222222,
              "#7201a8"
             ],
             [
              0.3333333333333333,
              "#9c179e"
             ],
             [
              0.4444444444444444,
              "#bd3786"
             ],
             [
              0.5555555555555556,
              "#d8576b"
             ],
             [
              0.6666666666666666,
              "#ed7953"
             ],
             [
              0.7777777777777778,
              "#fb9f3a"
             ],
             [
              0.8888888888888888,
              "#fdca26"
             ],
             [
              1,
              "#f0f921"
             ]
            ],
            "type": "histogram2dcontour"
           }
          ],
          "mesh3d": [
           {
            "colorbar": {
             "outlinewidth": 0,
             "ticks": ""
            },
            "type": "mesh3d"
           }
          ],
          "parcoords": [
           {
            "line": {
             "colorbar": {
              "outlinewidth": 0,
              "ticks": ""
             }
            },
            "type": "parcoords"
           }
          ],
          "pie": [
           {
            "automargin": true,
            "type": "pie"
           }
          ],
          "scatter": [
           {
            "marker": {
             "colorbar": {
              "outlinewidth": 0,
              "ticks": ""
             }
            },
            "type": "scatter"
           }
          ],
          "scatter3d": [
           {
            "line": {
             "colorbar": {
              "outlinewidth": 0,
              "ticks": ""
             }
            },
            "marker": {
             "colorbar": {
              "outlinewidth": 0,
              "ticks": ""
             }
            },
            "type": "scatter3d"
           }
          ],
          "scattercarpet": [
           {
            "marker": {
             "colorbar": {
              "outlinewidth": 0,
              "ticks": ""
             }
            },
            "type": "scattercarpet"
           }
          ],
          "scattergeo": [
           {
            "marker": {
             "colorbar": {
              "outlinewidth": 0,
              "ticks": ""
             }
            },
            "type": "scattergeo"
           }
          ],
          "scattergl": [
           {
            "marker": {
             "colorbar": {
              "outlinewidth": 0,
              "ticks": ""
             }
            },
            "type": "scattergl"
           }
          ],
          "scattermapbox": [
           {
            "marker": {
             "colorbar": {
              "outlinewidth": 0,
              "ticks": ""
             }
            },
            "type": "scattermapbox"
           }
          ],
          "scatterpolar": [
           {
            "marker": {
             "colorbar": {
              "outlinewidth": 0,
              "ticks": ""
             }
            },
            "type": "scatterpolar"
           }
          ],
          "scatterpolargl": [
           {
            "marker": {
             "colorbar": {
              "outlinewidth": 0,
              "ticks": ""
             }
            },
            "type": "scatterpolargl"
           }
          ],
          "scatterternary": [
           {
            "marker": {
             "colorbar": {
              "outlinewidth": 0,
              "ticks": ""
             }
            },
            "type": "scatterternary"
           }
          ],
          "surface": [
           {
            "colorbar": {
             "outlinewidth": 0,
             "ticks": ""
            },
            "colorscale": [
             [
              0,
              "#0d0887"
             ],
             [
              0.1111111111111111,
              "#46039f"
             ],
             [
              0.2222222222222222,
              "#7201a8"
             ],
             [
              0.3333333333333333,
              "#9c179e"
             ],
             [
              0.4444444444444444,
              "#bd3786"
             ],
             [
              0.5555555555555556,
              "#d8576b"
             ],
             [
              0.6666666666666666,
              "#ed7953"
             ],
             [
              0.7777777777777778,
              "#fb9f3a"
             ],
             [
              0.8888888888888888,
              "#fdca26"
             ],
             [
              1,
              "#f0f921"
             ]
            ],
            "type": "surface"
           }
          ],
          "table": [
           {
            "cells": {
             "fill": {
              "color": "#EBF0F8"
             },
             "line": {
              "color": "white"
             }
            },
            "header": {
             "fill": {
              "color": "#C8D4E3"
             },
             "line": {
              "color": "white"
             }
            },
            "type": "table"
           }
          ]
         },
         "layout": {
          "annotationdefaults": {
           "arrowcolor": "#2a3f5f",
           "arrowhead": 0,
           "arrowwidth": 1
          },
          "autotypenumbers": "strict",
          "coloraxis": {
           "colorbar": {
            "outlinewidth": 0,
            "ticks": ""
           }
          },
          "colorscale": {
           "diverging": [
            [
             0,
             "#8e0152"
            ],
            [
             0.1,
             "#c51b7d"
            ],
            [
             0.2,
             "#de77ae"
            ],
            [
             0.3,
             "#f1b6da"
            ],
            [
             0.4,
             "#fde0ef"
            ],
            [
             0.5,
             "#f7f7f7"
            ],
            [
             0.6,
             "#e6f5d0"
            ],
            [
             0.7,
             "#b8e186"
            ],
            [
             0.8,
             "#7fbc41"
            ],
            [
             0.9,
             "#4d9221"
            ],
            [
             1,
             "#276419"
            ]
           ],
           "sequential": [
            [
             0,
             "#0d0887"
            ],
            [
             0.1111111111111111,
             "#46039f"
            ],
            [
             0.2222222222222222,
             "#7201a8"
            ],
            [
             0.3333333333333333,
             "#9c179e"
            ],
            [
             0.4444444444444444,
             "#bd3786"
            ],
            [
             0.5555555555555556,
             "#d8576b"
            ],
            [
             0.6666666666666666,
             "#ed7953"
            ],
            [
             0.7777777777777778,
             "#fb9f3a"
            ],
            [
             0.8888888888888888,
             "#fdca26"
            ],
            [
             1,
             "#f0f921"
            ]
           ],
           "sequentialminus": [
            [
             0,
             "#0d0887"
            ],
            [
             0.1111111111111111,
             "#46039f"
            ],
            [
             0.2222222222222222,
             "#7201a8"
            ],
            [
             0.3333333333333333,
             "#9c179e"
            ],
            [
             0.4444444444444444,
             "#bd3786"
            ],
            [
             0.5555555555555556,
             "#d8576b"
            ],
            [
             0.6666666666666666,
             "#ed7953"
            ],
            [
             0.7777777777777778,
             "#fb9f3a"
            ],
            [
             0.8888888888888888,
             "#fdca26"
            ],
            [
             1,
             "#f0f921"
            ]
           ]
          },
          "colorway": [
           "#636efa",
           "#EF553B",
           "#00cc96",
           "#ab63fa",
           "#FFA15A",
           "#19d3f3",
           "#FF6692",
           "#B6E880",
           "#FF97FF",
           "#FECB52"
          ],
          "font": {
           "color": "#2a3f5f"
          },
          "geo": {
           "bgcolor": "white",
           "lakecolor": "white",
           "landcolor": "#E5ECF6",
           "showlakes": true,
           "showland": true,
           "subunitcolor": "white"
          },
          "hoverlabel": {
           "align": "left"
          },
          "hovermode": "closest",
          "mapbox": {
           "style": "light"
          },
          "paper_bgcolor": "white",
          "plot_bgcolor": "#E5ECF6",
          "polar": {
           "angularaxis": {
            "gridcolor": "white",
            "linecolor": "white",
            "ticks": ""
           },
           "bgcolor": "#E5ECF6",
           "radialaxis": {
            "gridcolor": "white",
            "linecolor": "white",
            "ticks": ""
           }
          },
          "scene": {
           "xaxis": {
            "backgroundcolor": "#E5ECF6",
            "gridcolor": "white",
            "gridwidth": 2,
            "linecolor": "white",
            "showbackground": true,
            "ticks": "",
            "zerolinecolor": "white"
           },
           "yaxis": {
            "backgroundcolor": "#E5ECF6",
            "gridcolor": "white",
            "gridwidth": 2,
            "linecolor": "white",
            "showbackground": true,
            "ticks": "",
            "zerolinecolor": "white"
           },
           "zaxis": {
            "backgroundcolor": "#E5ECF6",
            "gridcolor": "white",
            "gridwidth": 2,
            "linecolor": "white",
            "showbackground": true,
            "ticks": "",
            "zerolinecolor": "white"
           }
          },
          "shapedefaults": {
           "line": {
            "color": "#2a3f5f"
           }
          },
          "ternary": {
           "aaxis": {
            "gridcolor": "white",
            "linecolor": "white",
            "ticks": ""
           },
           "baxis": {
            "gridcolor": "white",
            "linecolor": "white",
            "ticks": ""
           },
           "bgcolor": "#E5ECF6",
           "caxis": {
            "gridcolor": "white",
            "linecolor": "white",
            "ticks": ""
           }
          },
          "title": {
           "x": 0.05
          },
          "xaxis": {
           "automargin": true,
           "gridcolor": "white",
           "linecolor": "white",
           "ticks": "",
           "title": {
            "standoff": 15
           },
           "zerolinecolor": "white",
           "zerolinewidth": 2
          },
          "yaxis": {
           "automargin": true,
           "gridcolor": "white",
           "linecolor": "white",
           "ticks": "",
           "title": {
            "standoff": 15
           },
           "zerolinecolor": "white",
           "zerolinewidth": 2
          }
         }
        }
       }
      }
     },
     "metadata": {},
     "output_type": "display_data"
    }
   ],
   "source": [
    "import plotly.graph_objects as go\n",
    "\n",
    "\n",
    "fig = go.Figure([go.Scatter(x=acumulado_orcamento_anos.index\n",
    "                            , y=acumulado_orcamento_anos.orcamento_inicial,marker = {'color' : 'green'})])\n",
    "fig.show()"
   ]
  },
  {
   "cell_type": "markdown",
   "id": "f1751550-300d-4eb4-9ff9-ab4a00a89763",
   "metadata": {},
   "source": [
    "### 3.2.2 Orçamento atualizado"
   ]
  },
  {
   "cell_type": "code",
   "execution_count": 74,
   "id": "84fa74f7-e035-4dc7-8158-12c9752e31d9",
   "metadata": {},
   "outputs": [
    {
     "data": {
      "text/plain": [
       "<AxesSubplot:xlabel='orcamento_atualizado'>"
      ]
     },
     "execution_count": 74,
     "metadata": {},
     "output_type": "execute_result"
    },
    {
     "data": {
      "image/png": "[encoded data removed]",
      "text/plain": [
       "<Figure size 432x288 with 1 Axes>"
      ]
     },
     "metadata": {
      "needs_background": "light"
     },
     "output_type": "display_data"
    }
   ],
   "source": [
    "sns.boxplot(x=df['orcamento_atualizado'])"
   ]
  },
  {
   "cell_type": "code",
   "execution_count": 75,
   "id": "639faadc-2819-4a36-8c16-b65a3ef8e4a4",
   "metadata": {},
   "outputs": [
    {
     "data": {
      "application/vnd.plotly.v1+json": {
       "config": {
        "plotlyServerURL": "https://plot.ly"
       },
       "data": [
        {
         "marker": {
          "color": "violet"
         },
         "type": "scatter",
         "x": [
          "2014-01-01T00:00:00",
          "2015-01-01T00:00:00",
          "2016-01-01T00:00:00",
          "2017-01-01T00:00:00",
          "2018-01-01T00:00:00",
          "2019-01-01T00:00:00",
          "2020-01-01T00:00:00",
          "2021-01-01T00:00:00"
         ],
         "y": [
          2556929416302.92,
          2881129343468.28,
          2945013210313.98,
          3350607251386,
          3459694695823.41,
          3243349516844.87,
          4127855664613.85,
          4315554412616.05
         ]
        }
       ],
       "layout": {
        "template": {
         "data": {
          "bar": [
           {
            "error_x": {
             "color": "#2a3f5f"
            },
            "error_y": {
             "color": "#2a3f5f"
            },
            "marker": {
             "line": {
              "color": "#E5ECF6",
              "width": 0.5
             },
             "pattern": {
              "fillmode": "overlay",
              "size": 10,
              "solidity": 0.2
             }
            },
            "type": "bar"
           }
          ],
          "barpolar": [
           {
            "marker": {
             "line": {
              "color": "#E5ECF6",
              "width": 0.5
             },
             "pattern": {
              "fillmode": "overlay",
              "size": 10,
              "solidity": 0.2
             }
            },
            "type": "barpolar"
           }
          ],
          "carpet": [
           {
            "aaxis": {
             "endlinecolor": "#2a3f5f",
             "gridcolor": "white",
             "linecolor": "white",
             "minorgridcolor": "white",
             "startlinecolor": "#2a3f5f"
            },
            "baxis": {
             "endlinecolor": "#2a3f5f",
             "gridcolor": "white",
             "linecolor": "white",
             "minorgridcolor": "white",
             "startlinecolor": "#2a3f5f"
            },
            "type": "carpet"
           }
          ],
          "choropleth": [
           {
            "colorbar": {
             "outlinewidth": 0,
             "ticks": ""
            },
            "type": "choropleth"
           }
          ],
          "contour": [
           {
            "colorbar": {
             "outlinewidth": 0,
             "ticks": ""
            },
            "colorscale": [
             [
              0,
              "#0d0887"
             ],
             [
              0.1111111111111111,
              "#46039f"
             ],
             [
              0.2222222222222222,
              "#7201a8"
             ],
             [
              0.3333333333333333,
              "#9c179e"
             ],
             [
              0.4444444444444444,
              "#bd3786"
             ],
             [
              0.5555555555555556,
              "#d8576b"
             ],
             [
              0.6666666666666666,
              "#ed7953"
             ],
             [
              0.7777777777777778,
              "#fb9f3a"
             ],
             [
              0.8888888888888888,
              "#fdca26"
             ],
             [
              1,
              "#f0f921"
             ]
            ],
            "type": "contour"
           }
          ],
          "contourcarpet": [
           {
            "colorbar": {
             "outlinewidth": 0,
             "ticks": ""
            },
            "type": "contourcarpet"
           }
          ],
          "heatmap": [
           {
            "colorbar": {
             "outlinewidth": 0,
             "ticks": ""
            },
            "colorscale": [
             [
              0,
              "#0d0887"
             ],
             [
              0.1111111111111111,
              "#46039f"
             ],
             [
              0.2222222222222222,
              "#7201a8"
             ],
             [
              0.3333333333333333,
              "#9c179e"
             ],
             [
              0.4444444444444444,
              "#bd3786"
             ],
             [
              0.5555555555555556,
              "#d8576b"
             ],
             [
              0.6666666666666666,
              "#ed7953"
             ],
             [
              0.7777777777777778,
              "#fb9f3a"
             ],
             [
              0.8888888888888888,
              "#fdca26"
             ],
             [
              1,
              "#f0f921"
             ]
            ],
            "type": "heatmap"
           }
          ],
          "heatmapgl": [
           {
            "colorbar": {
             "outlinewidth": 0,
             "ticks": ""
            },
            "colorscale": [
             [
              0,
              "#0d0887"
             ],
             [
              0.1111111111111111,
              "#46039f"
             ],
             [
              0.2222222222222222,
              "#7201a8"
             ],
             [
              0.3333333333333333,
              "#9c179e"
             ],
             [
              0.4444444444444444,
              "#bd3786"
             ],
             [
              0.5555555555555556,
              "#d8576b"
             ],
             [
              0.6666666666666666,
              "#ed7953"
             ],
             [
              0.7777777777777778,
              "#fb9f3a"
             ],
             [
              0.8888888888888888,
              "#fdca26"
             ],
             [
              1,
              "#f0f921"
             ]
            ],
            "type": "heatmapgl"
           }
          ],
          "histogram": [
           {
            "marker": {
             "pattern": {
              "fillmode": "overlay",
              "size": 10,
              "solidity": 0.2
             }
            },
            "type": "histogram"
           }
          ],
          "histogram2d": [
           {
            "colorbar": {
             "outlinewidth": 0,
             "ticks": ""
            },
            "colorscale": [
             [
              0,
              "#0d0887"
             ],
             [
              0.1111111111111111,
              "#46039f"
             ],
             [
              0.2222222222222222,
              "#7201a8"
             ],
             [
              0.3333333333333333,
              "#9c179e"
             ],
             [
              0.4444444444444444,
              "#bd3786"
             ],
             [
              0.5555555555555556,
              "#d8576b"
             ],
             [
              0.6666666666666666,
              "#ed7953"
             ],
             [
              0.7777777777777778,
              "#fb9f3a"
             ],
             [
              0.8888888888888888,
              "#fdca26"
             ],
             [
              1,
              "#f0f921"
             ]
            ],
            "type": "histogram2d"
           }
          ],
          "histogram2dcontour": [
           {
            "colorbar": {
             "outlinewidth": 0,
             "ticks": ""
            },
            "colorscale": [
             [
              0,
              "#0d0887"
             ],
             [
              0.1111111111111111,
              "#46039f"
             ],
             [
              0.2222222222222222,
              "#7201a8"
             ],
             [
              0.3333333333333333,
              "#9c179e"
             ],
             [
              0.4444444444444444,
              "#bd3786"
             ],
             [
              0.5555555555555556,
              "#d8576b"
             ],
             [
              0.6666666666666666,
              "#ed7953"
             ],
             [
              0.7777777777777778,
              "#fb9f3a"
             ],
             [
              0.8888888888888888,
              "#fdca26"
             ],
             [
              1,
              "#f0f921"
             ]
            ],
            "type": "histogram2dcontour"
           }
          ],
          "mesh3d": [
           {
            "colorbar": {
             "outlinewidth": 0,
             "ticks": ""
            },
            "type": "mesh3d"
           }
          ],
          "parcoords": [
           {
            "line": {
             "colorbar": {
              "outlinewidth": 0,
              "ticks": ""
             }
            },
            "type": "parcoords"
           }
          ],
          "pie": [
           {
            "automargin": true,
            "type": "pie"
           }
          ],
          "scatter": [
           {
            "marker": {
             "colorbar": {
              "outlinewidth": 0,
              "ticks": ""
             }
            },
            "type": "scatter"
           }
          ],
          "scatter3d": [
           {
            "line": {
             "colorbar": {
              "outlinewidth": 0,
              "ticks": ""
             }
            },
            "marker": {
             "colorbar": {
              "outlinewidth": 0,
              "ticks": ""
             }
            },
            "type": "scatter3d"
           }
          ],
          "scattercarpet": [
           {
            "marker": {
             "colorbar": {
              "outlinewidth": 0,
              "ticks": ""
             }
            },
            "type": "scattercarpet"
           }
          ],
          "scattergeo": [
           {
            "marker": {
             "colorbar": {
              "outlinewidth": 0,
              "ticks": ""
             }
            },
            "type": "scattergeo"
           }
          ],
          "scattergl": [
           {
            "marker": {
             "colorbar": {
              "outlinewidth": 0,
              "ticks": ""
             }
            },
            "type": "scattergl"
           }
          ],
          "scattermapbox": [
           {
            "marker": {
             "colorbar": {
              "outlinewidth": 0,
              "ticks": ""
             }
            },
            "type": "scattermapbox"
           }
          ],
          "scatterpolar": [
           {
            "marker": {
             "colorbar": {
              "outlinewidth": 0,
              "ticks": ""
             }
            },
            "type": "scatterpolar"
           }
          ],
          "scatterpolargl": [
           {
            "marker": {
             "colorbar": {
              "outlinewidth": 0,
              "ticks": ""
             }
            },
            "type": "scatterpolargl"
           }
          ],
          "scatterternary": [
           {
            "marker": {
             "colorbar": {
              "outlinewidth": 0,
              "ticks": ""
             }
            },
            "type": "scatterternary"
           }
          ],
          "surface": [
           {
            "colorbar": {
             "outlinewidth": 0,
             "ticks": ""
            },
            "colorscale": [
             [
              0,
              "#0d0887"
             ],
             [
              0.1111111111111111,
              "#46039f"
             ],
             [
              0.2222222222222222,
              "#7201a8"
             ],
             [
              0.3333333333333333,
              "#9c179e"
             ],
             [
              0.4444444444444444,
              "#bd3786"
             ],
             [
              0.5555555555555556,
              "#d8576b"
             ],
             [
              0.6666666666666666,
              "#ed7953"
             ],
             [
              0.7777777777777778,
              "#fb9f3a"
             ],
             [
              0.8888888888888888,
              "#fdca26"
             ],
             [
              1,
              "#f0f921"
             ]
            ],
            "type": "surface"
           }
          ],
          "table": [
           {
            "cells": {
             "fill": {
              "color": "#EBF0F8"
             },
             "line": {
              "color": "white"
             }
            },
            "header": {
             "fill": {
              "color": "#C8D4E3"
             },
             "line": {
              "color": "white"
             }
            },
            "type": "table"
           }
          ]
         },
         "layout": {
          "annotationdefaults": {
           "arrowcolor": "#2a3f5f",
           "arrowhead": 0,
           "arrowwidth": 1
          },
          "autotypenumbers": "strict",
          "coloraxis": {
           "colorbar": {
            "outlinewidth": 0,
            "ticks": ""
           }
          },
          "colorscale": {
           "diverging": [
            [
             0,
             "#8e0152"
            ],
            [
             0.1,
             "#c51b7d"
            ],
            [
             0.2,
             "#de77ae"
            ],
            [
             0.3,
             "#f1b6da"
            ],
            [
             0.4,
             "#fde0ef"
            ],
            [
             0.5,
             "#f7f7f7"
            ],
            [
             0.6,
             "#e6f5d0"
            ],
            [
             0.7,
             "#b8e186"
            ],
            [
             0.8,
             "#7fbc41"
            ],
            [
             0.9,
             "#4d9221"
            ],
            [
             1,
             "#276419"
            ]
           ],
           "sequential": [
            [
             0,
             "#0d0887"
            ],
            [
             0.1111111111111111,
             "#46039f"
            ],
            [
             0.2222222222222222,
             "#7201a8"
            ],
            [
             0.3333333333333333,
             "#9c179e"
            ],
            [
             0.4444444444444444,
             "#bd3786"
            ],
            [
             0.5555555555555556,
             "#d8576b"
            ],
            [
             0.6666666666666666,
             "#ed7953"
            ],
            [
             0.7777777777777778,
             "#fb9f3a"
            ],
            [
             0.8888888888888888,
             "#fdca26"
            ],
            [
             1,
             "#f0f921"
            ]
           ],
           "sequentialminus": [
            [
             0,
             "#0d0887"
            ],
            [
             0.1111111111111111,
             "#46039f"
            ],
            [
             0.2222222222222222,
             "#7201a8"
            ],
            [
             0.3333333333333333,
             "#9c179e"
            ],
            [
             0.4444444444444444,
             "#bd3786"
            ],
            [
             0.5555555555555556,
             "#d8576b"
            ],
            [
             0.6666666666666666,
             "#ed7953"
            ],
            [
             0.7777777777777778,
             "#fb9f3a"
            ],
            [
             0.8888888888888888,
             "#fdca26"
            ],
            [
             1,
             "#f0f921"
            ]
           ]
          },
          "colorway": [
           "#636efa",
           "#EF553B",
           "#00cc96",
           "#ab63fa",
           "#FFA15A",
           "#19d3f3",
           "#FF6692",
           "#B6E880",
           "#FF97FF",
           "#FECB52"
          ],
          "font": {
           "color": "#2a3f5f"
          },
          "geo": {
           "bgcolor": "white",
           "lakecolor": "white",
           "landcolor": "#E5ECF6",
           "showlakes": true,
           "showland": true,
           "subunitcolor": "white"
          },
          "hoverlabel": {
           "align": "left"
          },
          "hovermode": "closest",
          "mapbox": {
           "style": "light"
          },
          "paper_bgcolor": "white",
          "plot_bgcolor": "#E5ECF6",
          "polar": {
           "angularaxis": {
            "gridcolor": "white",
            "linecolor": "white",
            "ticks": ""
           },
           "bgcolor": "#E5ECF6",
           "radialaxis": {
            "gridcolor": "white",
            "linecolor": "white",
            "ticks": ""
           }
          },
          "scene": {
           "xaxis": {
            "backgroundcolor": "#E5ECF6",
            "gridcolor": "white",
            "gridwidth": 2,
            "linecolor": "white",
            "showbackground": true,
            "ticks": "",
            "zerolinecolor": "white"
           },
           "yaxis": {
            "backgroundcolor": "#E5ECF6",
            "gridcolor": "white",
            "gridwidth": 2,
            "linecolor": "white",
            "showbackground": true,
            "ticks": "",
            "zerolinecolor": "white"
           },
           "zaxis": {
            "backgroundcolor": "#E5ECF6",
            "gridcolor": "white",
            "gridwidth": 2,
            "linecolor": "white",
            "showbackground": true,
            "ticks": "",
            "zerolinecolor": "white"
           }
          },
          "shapedefaults": {
           "line": {
            "color": "#2a3f5f"
           }
          },
          "ternary": {
           "aaxis": {
            "gridcolor": "white",
            "linecolor": "white",
            "ticks": ""
           },
           "baxis": {
            "gridcolor": "white",
            "linecolor": "white",
            "ticks": ""
           },
           "bgcolor": "#E5ECF6",
           "caxis": {
            "gridcolor": "white",
            "linecolor": "white",
            "ticks": ""
           }
          },
          "title": {
           "x": 0.05
          },
          "xaxis": {
           "automargin": true,
           "gridcolor": "white",
           "linecolor": "white",
           "ticks": "",
           "title": {
            "standoff": 15
           },
           "zerolinecolor": "white",
           "zerolinewidth": 2
          },
          "yaxis": {
           "automargin": true,
           "gridcolor": "white",
           "linecolor": "white",
           "ticks": "",
           "title": {
            "standoff": 15
           },
           "zerolinecolor": "white",
           "zerolinewidth": 2
          }
         }
        }
       }
      }
     },
     "metadata": {},
     "output_type": "display_data"
    }
   ],
   "source": [
    "import plotly.graph_objects as go\n",
    "\n",
    "\n",
    "fig = go.Figure([go.Scatter(x=acumulado_orcamento_anos.index\n",
    "                            , y=acumulado_orcamento_anos.orcamento_atualizado,marker = {'color' : 'violet'})])\n",
    "fig.show()"
   ]
  },
  {
   "cell_type": "markdown",
   "id": "e89105c0-8583-437a-abaf-854d871ceb20",
   "metadata": {},
   "source": [
    "### 3.2.3 Orçamento empenhado"
   ]
  },
  {
   "cell_type": "code",
   "execution_count": 76,
   "id": "837a29bf-a2fa-4bd6-ba32-17458ad9951b",
   "metadata": {},
   "outputs": [
    {
     "data": {
      "text/plain": [
       "<AxesSubplot:xlabel='orcamento_empenhado'>"
      ]
     },
     "execution_count": 76,
     "metadata": {},
     "output_type": "execute_result"
    },
    {
     "data": {
      "image/png": "[encoded data removed]",
      "text/plain": [
       "<Figure size 432x288 with 1 Axes>"
      ]
     },
     "metadata": {
      "needs_background": "light"
     },
     "output_type": "display_data"
    }
   ],
   "source": [
    "sns.boxplot(x=df['orcamento_empenhado'])"
   ]
  },
  {
   "cell_type": "code",
   "execution_count": 77,
   "id": "fdcfc7fa-1e01-4bc1-b7d1-27328e45c149",
   "metadata": {},
   "outputs": [
    {
     "data": {
      "application/vnd.plotly.v1+json": {
       "config": {
        "plotlyServerURL": "https://plot.ly"
       },
       "data": [
        {
         "marker": {
          "color": "blue"
         },
         "type": "scatter",
         "x": [
          "2014-01-01T00:00:00",
          "2015-01-01T00:00:00",
          "2016-01-01T00:00:00",
          "2017-01-01T00:00:00",
          "2018-01-01T00:00:00",
          "2019-01-01T00:00:00",
          "2020-01-01T00:00:00",
          "2021-01-01T00:00:00"
         ],
         "y": [
          2183662240589.8901,
          2244805951268.54,
          2508772166684.74,
          2421305909308.41,
          2576352621170.05,
          2634386133364.61,
          3466604855522.43,
          3692054860292.69
         ]
        }
       ],
       "layout": {
        "template": {
         "data": {
          "bar": [
           {
            "error_x": {
             "color": "#2a3f5f"
            },
            "error_y": {
             "color": "#2a3f5f"
            },
            "marker": {
             "line": {
              "color": "#E5ECF6",
              "width": 0.5
             },
             "pattern": {
              "fillmode": "overlay",
              "size": 10,
              "solidity": 0.2
             }
            },
            "type": "bar"
           }
          ],
          "barpolar": [
           {
            "marker": {
             "line": {
              "color": "#E5ECF6",
              "width": 0.5
             },
             "pattern": {
              "fillmode": "overlay",
              "size": 10,
              "solidity": 0.2
             }
            },
            "type": "barpolar"
           }
          ],
          "carpet": [
           {
            "aaxis": {
             "endlinecolor": "#2a3f5f",
             "gridcolor": "white",
             "linecolor": "white",
             "minorgridcolor": "white",
             "startlinecolor": "#2a3f5f"
            },
            "baxis": {
             "endlinecolor": "#2a3f5f",
             "gridcolor": "white",
             "linecolor": "white",
             "minorgridcolor": "white",
             "startlinecolor": "#2a3f5f"
            },
            "type": "carpet"
           }
          ],
          "choropleth": [
           {
            "colorbar": {
             "outlinewidth": 0,
             "ticks": ""
            },
            "type": "choropleth"
           }
          ],
          "contour": [
           {
            "colorbar": {
             "outlinewidth": 0,
             "ticks": ""
            },
            "colorscale": [
             [
              0,
              "#0d0887"
             ],
             [
              0.1111111111111111,
              "#46039f"
             ],
             [
              0.2222222222222222,
              "#7201a8"
             ],
             [
              0.3333333333333333,
              "#9c179e"
             ],
             [
              0.4444444444444444,
              "#bd3786"
             ],
             [
              0.5555555555555556,
              "#d8576b"
             ],
             [
              0.6666666666666666,
              "#ed7953"
             ],
             [
              0.7777777777777778,
              "#fb9f3a"
             ],
             [
              0.8888888888888888,
              "#fdca26"
             ],
             [
              1,
              "#f0f921"
             ]
            ],
            "type": "contour"
           }
          ],
          "contourcarpet": [
           {
            "colorbar": {
             "outlinewidth": 0,
             "ticks": ""
            },
            "type": "contourcarpet"
           }
          ],
          "heatmap": [
           {
            "colorbar": {
             "outlinewidth": 0,
             "ticks": ""
            },
            "colorscale": [
             [
              0,
              "#0d0887"
             ],
             [
              0.1111111111111111,
              "#46039f"
             ],
             [
              0.2222222222222222,
              "#7201a8"
             ],
             [
              0.3333333333333333,
              "#9c179e"
             ],
             [
              0.4444444444444444,
              "#bd3786"
             ],
             [
              0.5555555555555556,
              "#d8576b"
             ],
             [
              0.6666666666666666,
              "#ed7953"
             ],
             [
              0.7777777777777778,
              "#fb9f3a"
             ],
             [
              0.8888888888888888,
              "#fdca26"
             ],
             [
              1,
              "#f0f921"
             ]
            ],
            "type": "heatmap"
           }
          ],
          "heatmapgl": [
           {
            "colorbar": {
             "outlinewidth": 0,
             "ticks": ""
            },
            "colorscale": [
             [
              0,
              "#0d0887"
             ],
             [
              0.1111111111111111,
              "#46039f"
             ],
             [
              0.2222222222222222,
              "#7201a8"
             ],
             [
              0.3333333333333333,
              "#9c179e"
             ],
             [
              0.4444444444444444,
              "#bd3786"
             ],
             [
              0.5555555555555556,
              "#d8576b"
             ],
             [
              0.6666666666666666,
              "#ed7953"
             ],
             [
              0.7777777777777778,
              "#fb9f3a"
             ],
             [
              0.8888888888888888,
              "#fdca26"
             ],
             [
              1,
              "#f0f921"
             ]
            ],
            "type": "heatmapgl"
           }
          ],
          "histogram": [
           {
            "marker": {
             "pattern": {
              "fillmode": "overlay",
              "size": 10,
              "solidity": 0.2
             }
            },
            "type": "histogram"
           }
          ],
          "histogram2d": [
           {
            "colorbar": {
             "outlinewidth": 0,
             "ticks": ""
            },
            "colorscale": [
             [
              0,
              "#0d0887"
             ],
             [
              0.1111111111111111,
              "#46039f"
             ],
             [
              0.2222222222222222,
              "#7201a8"
             ],
             [
              0.3333333333333333,
              "#9c179e"
             ],
             [
              0.4444444444444444,
              "#bd3786"
             ],
             [
              0.5555555555555556,
              "#d8576b"
             ],
             [
              0.6666666666666666,
              "#ed7953"
             ],
             [
              0.7777777777777778,
              "#fb9f3a"
             ],
             [
              0.8888888888888888,
              "#fdca26"
             ],
             [
              1,
              "#f0f921"
             ]
            ],
            "type": "histogram2d"
           }
          ],
          "histogram2dcontour": [
           {
            "colorbar": {
             "outlinewidth": 0,
             "ticks": ""
            },
            "colorscale": [
             [
              0,
              "#0d0887"
             ],
             [
              0.1111111111111111,
              "#46039f"
             ],
             [
              0.2222222222222222,
              "#7201a8"
             ],
             [
              0.3333333333333333,
              "#9c179e"
             ],
             [
              0.4444444444444444,
              "#bd3786"
             ],
             [
              0.5555555555555556,
              "#d8576b"
             ],
             [
              0.6666666666666666,
              "#ed7953"
             ],
             [
              0.7777777777777778,
              "#fb9f3a"
             ],
             [
              0.8888888888888888,
              "#fdca26"
             ],
             [
              1,
              "#f0f921"
             ]
            ],
            "type": "histogram2dcontour"
           }
          ],
          "mesh3d": [
           {
            "colorbar": {
             "outlinewidth": 0,
             "ticks": ""
            },
            "type": "mesh3d"
           }
          ],
          "parcoords": [
           {
            "line": {
             "colorbar": {
              "outlinewidth": 0,
              "ticks": ""
             }
            },
            "type": "parcoords"
           }
          ],
          "pie": [
           {
            "automargin": true,
            "type": "pie"
           }
          ],
          "scatter": [
           {
            "marker": {
             "colorbar": {
              "outlinewidth": 0,
              "ticks": ""
             }
            },
            "type": "scatter"
           }
          ],
          "scatter3d": [
           {
            "line": {
             "colorbar": {
              "outlinewidth": 0,
              "ticks": ""
             }
            },
            "marker": {
             "colorbar": {
              "outlinewidth": 0,
              "ticks": ""
             }
            },
            "type": "scatter3d"
           }
          ],
          "scattercarpet": [
           {
            "marker": {
             "colorbar": {
              "outlinewidth": 0,
              "ticks": ""
             }
            },
            "type": "scattercarpet"
           }
          ],
          "scattergeo": [
           {
            "marker": {
             "colorbar": {
              "outlinewidth": 0,
              "ticks": ""
             }
            },
            "type": "scattergeo"
           }
          ],
          "scattergl": [
           {
            "marker": {
             "colorbar": {
              "outlinewidth": 0,
              "ticks": ""
             }
            },
            "type": "scattergl"
           }
          ],
          "scattermapbox": [
           {
            "marker": {
             "colorbar": {
              "outlinewidth": 0,
              "ticks": ""
             }
            },
            "type": "scattermapbox"
           }
          ],
          "scatterpolar": [
           {
            "marker": {
             "colorbar": {
              "outlinewidth": 0,
              "ticks": ""
             }
            },
            "type": "scatterpolar"
           }
          ],
          "scatterpolargl": [
           {
            "marker": {
             "colorbar": {
              "outlinewidth": 0,
              "ticks": ""
             }
            },
            "type": "scatterpolargl"
           }
          ],
          "scatterternary": [
           {
            "marker": {
             "colorbar": {
              "outlinewidth": 0,
              "ticks": ""
             }
            },
            "type": "scatterternary"
           }
          ],
          "surface": [
           {
            "colorbar": {
             "outlinewidth": 0,
             "ticks": ""
            },
            "colorscale": [
             [
              0,
              "#0d0887"
             ],
             [
              0.1111111111111111,
              "#46039f"
             ],
             [
              0.2222222222222222,
              "#7201a8"
             ],
             [
              0.3333333333333333,
              "#9c179e"
             ],
             [
              0.4444444444444444,
              "#bd3786"
             ],
             [
              0.5555555555555556,
              "#d8576b"
             ],
             [
              0.6666666666666666,
              "#ed7953"
             ],
             [
              0.7777777777777778,
              "#fb9f3a"
             ],
             [
              0.8888888888888888,
              "#fdca26"
             ],
             [
              1,
              "#f0f921"
             ]
            ],
            "type": "surface"
           }
          ],
          "table": [
           {
            "cells": {
             "fill": {
              "color": "#EBF0F8"
             },
             "line": {
              "color": "white"
             }
            },
            "header": {
             "fill": {
              "color": "#C8D4E3"
             },
             "line": {
              "color": "white"
             }
            },
            "type": "table"
           }
          ]
         },
         "layout": {
          "annotationdefaults": {
           "arrowcolor": "#2a3f5f",
           "arrowhead": 0,
           "arrowwidth": 1
          },
          "autotypenumbers": "strict",
          "coloraxis": {
           "colorbar": {
            "outlinewidth": 0,
            "ticks": ""
           }
          },
          "colorscale": {
           "diverging": [
            [
             0,
             "#8e0152"
            ],
            [
             0.1,
             "#c51b7d"
            ],
            [
             0.2,
             "#de77ae"
            ],
            [
             0.3,
             "#f1b6da"
            ],
            [
             0.4,
             "#fde0ef"
            ],
            [
             0.5,
             "#f7f7f7"
            ],
            [
             0.6,
             "#e6f5d0"
            ],
            [
             0.7,
             "#b8e186"
            ],
            [
             0.8,
             "#7fbc41"
            ],
            [
             0.9,
             "#4d9221"
            ],
            [
             1,
             "#276419"
            ]
           ],
           "sequential": [
            [
             0,
             "#0d0887"
            ],
            [
             0.1111111111111111,
             "#46039f"
            ],
            [
             0.2222222222222222,
             "#7201a8"
            ],
            [
             0.3333333333333333,
             "#9c179e"
            ],
            [
             0.4444444444444444,
             "#bd3786"
            ],
            [
             0.5555555555555556,
             "#d8576b"
            ],
            [
             0.6666666666666666,
             "#ed7953"
            ],
            [
             0.7777777777777778,
             "#fb9f3a"
            ],
            [
             0.8888888888888888,
             "#fdca26"
            ],
            [
             1,
             "#f0f921"
            ]
           ],
           "sequentialminus": [
            [
             0,
             "#0d0887"
            ],
            [
             0.1111111111111111,
             "#46039f"
            ],
            [
             0.2222222222222222,
             "#7201a8"
            ],
            [
             0.3333333333333333,
             "#9c179e"
            ],
            [
             0.4444444444444444,
             "#bd3786"
            ],
            [
             0.5555555555555556,
             "#d8576b"
            ],
            [
             0.6666666666666666,
             "#ed7953"
            ],
            [
             0.7777777777777778,
             "#fb9f3a"
            ],
            [
             0.8888888888888888,
             "#fdca26"
            ],
            [
             1,
             "#f0f921"
            ]
           ]
          },
          "colorway": [
           "#636efa",
           "#EF553B",
           "#00cc96",
           "#ab63fa",
           "#FFA15A",
           "#19d3f3",
           "#FF6692",
           "#B6E880",
           "#FF97FF",
           "#FECB52"
          ],
          "font": {
           "color": "#2a3f5f"
          },
          "geo": {
           "bgcolor": "white",
           "lakecolor": "white",
           "landcolor": "#E5ECF6",
           "showlakes": true,
           "showland": true,
           "subunitcolor": "white"
          },
          "hoverlabel": {
           "align": "left"
          },
          "hovermode": "closest",
          "mapbox": {
           "style": "light"
          },
          "paper_bgcolor": "white",
          "plot_bgcolor": "#E5ECF6",
          "polar": {
           "angularaxis": {
            "gridcolor": "white",
            "linecolor": "white",
            "ticks": ""
           },
           "bgcolor": "#E5ECF6",
           "radialaxis": {
            "gridcolor": "white",
            "linecolor": "white",
            "ticks": ""
           }
          },
          "scene": {
           "xaxis": {
            "backgroundcolor": "#E5ECF6",
            "gridcolor": "white",
            "gridwidth": 2,
            "linecolor": "white",
            "showbackground": true,
            "ticks": "",
            "zerolinecolor": "white"
           },
           "yaxis": {
            "backgroundcolor": "#E5ECF6",
            "gridcolor": "white",
            "gridwidth": 2,
            "linecolor": "white",
            "showbackground": true,
            "ticks": "",
            "zerolinecolor": "white"
           },
           "zaxis": {
            "backgroundcolor": "#E5ECF6",
            "gridcolor": "white",
            "gridwidth": 2,
            "linecolor": "white",
            "showbackground": true,
            "ticks": "",
            "zerolinecolor": "white"
           }
          },
          "shapedefaults": {
           "line": {
            "color": "#2a3f5f"
           }
          },
          "ternary": {
           "aaxis": {
            "gridcolor": "white",
            "linecolor": "white",
            "ticks": ""
           },
           "baxis": {
            "gridcolor": "white",
            "linecolor": "white",
            "ticks": ""
           },
           "bgcolor": "#E5ECF6",
           "caxis": {
            "gridcolor": "white",
            "linecolor": "white",
            "ticks": ""
           }
          },
          "title": {
           "x": 0.05
          },
          "xaxis": {
           "automargin": true,
           "gridcolor": "white",
           "linecolor": "white",
           "ticks": "",
           "title": {
            "standoff": 15
           },
           "zerolinecolor": "white",
           "zerolinewidth": 2
          },
          "yaxis": {
           "automargin": true,
           "gridcolor": "white",
           "linecolor": "white",
           "ticks": "",
           "title": {
            "standoff": 15
           },
           "zerolinecolor": "white",
           "zerolinewidth": 2
          }
         }
        }
       }
      }
     },
     "metadata": {},
     "output_type": "display_data"
    }
   ],
   "source": [
    "import plotly.graph_objects as go\n",
    "\n",
    "\n",
    "fig = go.Figure([go.Scatter(x=acumulado_orcamento_anos.index\n",
    "                            , y=acumulado_orcamento_anos.orcamento_empenhado,marker = {'color' : 'blue'})])\n",
    "fig.show()"
   ]
  },
  {
   "cell_type": "markdown",
   "id": "395001d5-4793-4763-b0cd-782ea5f24456",
   "metadata": {},
   "source": [
    "### 3.2.4 Orçamento realizado"
   ]
  },
  {
   "cell_type": "code",
   "execution_count": 78,
   "id": "d46f1f46-3015-40ae-bfba-16459cb681b2",
   "metadata": {},
   "outputs": [
    {
     "data": {
      "text/plain": [
       "<AxesSubplot:xlabel='orcamento_realizado'>"
      ]
     },
     "execution_count": 78,
     "metadata": {},
     "output_type": "execute_result"
    },
    {
     "data": {
      "image/png": "[encoded data removed]",
      "text/plain": [
       "<Figure size 432x288 with 1 Axes>"
      ]
     },
     "metadata": {
      "needs_background": "light"
     },
     "output_type": "display_data"
    }
   ],
   "source": [
    "sns.boxplot(x=df['orcamento_realizado'])"
   ]
  },
  {
   "cell_type": "code",
   "execution_count": 79,
   "id": "58ae0db9-2744-490d-8424-3dd6983fad37",
   "metadata": {},
   "outputs": [
    {
     "data": {
      "application/vnd.plotly.v1+json": {
       "config": {
        "plotlyServerURL": "https://plot.ly"
       },
       "data": [
        {
         "marker": {
          "color": "red"
         },
         "type": "scatter",
         "x": [
          "2014-01-01T00:00:00",
          "2015-01-01T00:00:00",
          "2016-01-01T00:00:00",
          "2017-01-01T00:00:00",
          "2018-01-01T00:00:00",
          "2019-01-01T00:00:00",
          "2020-01-01T00:00:00",
          "2021-01-01T00:00:00"
         ],
         "y": [
          2056334092644.06,
          2140254760555.46,
          2425356613459.08,
          2330216902313.84,
          2450779702393.52,
          2513508967275.2397,
          3306354990037.59,
          3438725878328.96
         ]
        }
       ],
       "layout": {
        "template": {
         "data": {
          "bar": [
           {
            "error_x": {
             "color": "#2a3f5f"
            },
            "error_y": {
             "color": "#2a3f5f"
            },
            "marker": {
             "line": {
              "color": "#E5ECF6",
              "width": 0.5
             },
             "pattern": {
              "fillmode": "overlay",
              "size": 10,
              "solidity": 0.2
             }
            },
            "type": "bar"
           }
          ],
          "barpolar": [
           {
            "marker": {
             "line": {
              "color": "#E5ECF6",
              "width": 0.5
             },
             "pattern": {
              "fillmode": "overlay",
              "size": 10,
              "solidity": 0.2
             }
            },
            "type": "barpolar"
           }
          ],
          "carpet": [
           {
            "aaxis": {
             "endlinecolor": "#2a3f5f",
             "gridcolor": "white",
             "linecolor": "white",
             "minorgridcolor": "white",
             "startlinecolor": "#2a3f5f"
            },
            "baxis": {
             "endlinecolor": "#2a3f5f",
             "gridcolor": "white",
             "linecolor": "white",
             "minorgridcolor": "white",
             "startlinecolor": "#2a3f5f"
            },
            "type": "carpet"
           }
          ],
          "choropleth": [
           {
            "colorbar": {
             "outlinewidth": 0,
             "ticks": ""
            },
            "type": "choropleth"
           }
          ],
          "contour": [
           {
            "colorbar": {
             "outlinewidth": 0,
             "ticks": ""
            },
            "colorscale": [
             [
              0,
              "#0d0887"
             ],
             [
              0.1111111111111111,
              "#46039f"
             ],
             [
              0.2222222222222222,
              "#7201a8"
             ],
             [
              0.3333333333333333,
              "#9c179e"
             ],
             [
              0.4444444444444444,
              "#bd3786"
             ],
             [
              0.5555555555555556,
              "#d8576b"
             ],
             [
              0.6666666666666666,
              "#ed7953"
             ],
             [
              0.7777777777777778,
              "#fb9f3a"
             ],
             [
              0.8888888888888888,
              "#fdca26"
             ],
             [
              1,
              "#f0f921"
             ]
            ],
            "type": "contour"
           }
          ],
          "contourcarpet": [
           {
            "colorbar": {
             "outlinewidth": 0,
             "ticks": ""
            },
            "type": "contourcarpet"
           }
          ],
          "heatmap": [
           {
            "colorbar": {
             "outlinewidth": 0,
             "ticks": ""
            },
            "colorscale": [
             [
              0,
              "#0d0887"
             ],
             [
              0.1111111111111111,
              "#46039f"
             ],
             [
              0.2222222222222222,
              "#7201a8"
             ],
             [
              0.3333333333333333,
              "#9c179e"
             ],
             [
              0.4444444444444444,
              "#bd3786"
             ],
             [
              0.5555555555555556,
              "#d8576b"
             ],
             [
              0.6666666666666666,
              "#ed7953"
             ],
             [
              0.7777777777777778,
              "#fb9f3a"
             ],
             [
              0.8888888888888888,
              "#fdca26"
             ],
             [
              1,
              "#f0f921"
             ]
            ],
            "type": "heatmap"
           }
          ],
          "heatmapgl": [
           {
            "colorbar": {
             "outlinewidth": 0,
             "ticks": ""
            },
            "colorscale": [
             [
              0,
              "#0d0887"
             ],
             [
              0.1111111111111111,
              "#46039f"
             ],
             [
              0.2222222222222222,
              "#7201a8"
             ],
             [
              0.3333333333333333,
              "#9c179e"
             ],
             [
              0.4444444444444444,
              "#bd3786"
             ],
             [
              0.5555555555555556,
              "#d8576b"
             ],
             [
              0.6666666666666666,
              "#ed7953"
             ],
             [
              0.7777777777777778,
              "#fb9f3a"
             ],
             [
              0.8888888888888888,
              "#fdca26"
             ],
             [
              1,
              "#f0f921"
             ]
            ],
            "type": "heatmapgl"
           }
          ],
          "histogram": [
           {
            "marker": {
             "pattern": {
              "fillmode": "overlay",
              "size": 10,
              "solidity": 0.2
             }
            },
            "type": "histogram"
           }
          ],
          "histogram2d": [
           {
            "colorbar": {
             "outlinewidth": 0,
             "ticks": ""
            },
            "colorscale": [
             [
              0,
              "#0d0887"
             ],
             [
              0.1111111111111111,
              "#46039f"
             ],
             [
              0.2222222222222222,
              "#7201a8"
             ],
             [
              0.3333333333333333,
              "#9c179e"
             ],
             [
              0.4444444444444444,
              "#bd3786"
             ],
             [
              0.5555555555555556,
              "#d8576b"
             ],
             [
              0.6666666666666666,
              "#ed7953"
             ],
             [
              0.7777777777777778,
              "#fb9f3a"
             ],
             [
              0.8888888888888888,
              "#fdca26"
             ],
             [
              1,
              "#f0f921"
             ]
            ],
            "type": "histogram2d"
           }
          ],
          "histogram2dcontour": [
           {
            "colorbar": {
             "outlinewidth": 0,
             "ticks": ""
            },
            "colorscale": [
             [
              0,
              "#0d0887"
             ],
             [
              0.1111111111111111,
              "#46039f"
             ],
             [
              0.2222222222222222,
              "#7201a8"
             ],
             [
              0.3333333333333333,
              "#9c179e"
             ],
             [
              0.4444444444444444,
              "#bd3786"
             ],
             [
              0.5555555555555556,
              "#d8576b"
             ],
             [
              0.6666666666666666,
              "#ed7953"
             ],
             [
              0.7777777777777778,
              "#fb9f3a"
             ],
             [
              0.8888888888888888,
              "#fdca26"
             ],
             [
              1,
              "#f0f921"
             ]
            ],
            "type": "histogram2dcontour"
           }
          ],
          "mesh3d": [
           {
            "colorbar": {
             "outlinewidth": 0,
             "ticks": ""
            },
            "type": "mesh3d"
           }
          ],
          "parcoords": [
           {
            "line": {
             "colorbar": {
              "outlinewidth": 0,
              "ticks": ""
             }
            },
            "type": "parcoords"
           }
          ],
          "pie": [
           {
            "automargin": true,
            "type": "pie"
           }
          ],
          "scatter": [
           {
            "marker": {
             "colorbar": {
              "outlinewidth": 0,
              "ticks": ""
             }
            },
            "type": "scatter"
           }
          ],
          "scatter3d": [
           {
            "line": {
             "colorbar": {
              "outlinewidth": 0,
              "ticks": ""
             }
            },
            "marker": {
             "colorbar": {
              "outlinewidth": 0,
              "ticks": ""
             }
            },
            "type": "scatter3d"
           }
          ],
          "scattercarpet": [
           {
            "marker": {
             "colorbar": {
              "outlinewidth": 0,
              "ticks": ""
             }
            },
            "type": "scattercarpet"
           }
          ],
          "scattergeo": [
           {
            "marker": {
             "colorbar": {
              "outlinewidth": 0,
              "ticks": ""
             }
            },
            "type": "scattergeo"
           }
          ],
          "scattergl": [
           {
            "marker": {
             "colorbar": {
              "outlinewidth": 0,
              "ticks": ""
             }
            },
            "type": "scattergl"
           }
          ],
          "scattermapbox": [
           {
            "marker": {
             "colorbar": {
              "outlinewidth": 0,
              "ticks": ""
             }
            },
            "type": "scattermapbox"
           }
          ],
          "scatterpolar": [
           {
            "marker": {
             "colorbar": {
              "outlinewidth": 0,
              "ticks": ""
             }
            },
            "type": "scatterpolar"
           }
          ],
          "scatterpolargl": [
           {
            "marker": {
             "colorbar": {
              "outlinewidth": 0,
              "ticks": ""
             }
            },
            "type": "scatterpolargl"
           }
          ],
          "scatterternary": [
           {
            "marker": {
             "colorbar": {
              "outlinewidth": 0,
              "ticks": ""
             }
            },
            "type": "scatterternary"
           }
          ],
          "surface": [
           {
            "colorbar": {
             "outlinewidth": 0,
             "ticks": ""
            },
            "colorscale": [
             [
              0,
              "#0d0887"
             ],
             [
              0.1111111111111111,
              "#46039f"
             ],
             [
              0.2222222222222222,
              "#7201a8"
             ],
             [
              0.3333333333333333,
              "#9c179e"
             ],
             [
              0.4444444444444444,
              "#bd3786"
             ],
             [
              0.5555555555555556,
              "#d8576b"
             ],
             [
              0.6666666666666666,
              "#ed7953"
             ],
             [
              0.7777777777777778,
              "#fb9f3a"
             ],
             [
              0.8888888888888888,
              "#fdca26"
             ],
             [
              1,
              "#f0f921"
             ]
            ],
            "type": "surface"
           }
          ],
          "table": [
           {
            "cells": {
             "fill": {
              "color": "#EBF0F8"
             },
             "line": {
              "color": "white"
             }
            },
            "header": {
             "fill": {
              "color": "#C8D4E3"
             },
             "line": {
              "color": "white"
             }
            },
            "type": "table"
           }
          ]
         },
         "layout": {
          "annotationdefaults": {
           "arrowcolor": "#2a3f5f",
           "arrowhead": 0,
           "arrowwidth": 1
          },
          "autotypenumbers": "strict",
          "coloraxis": {
           "colorbar": {
            "outlinewidth": 0,
            "ticks": ""
           }
          },
          "colorscale": {
           "diverging": [
            [
             0,
             "#8e0152"
            ],
            [
             0.1,
             "#c51b7d"
            ],
            [
             0.2,
             "#de77ae"
            ],
            [
             0.3,
             "#f1b6da"
            ],
            [
             0.4,
             "#fde0ef"
            ],
            [
             0.5,
             "#f7f7f7"
            ],
            [
             0.6,
             "#e6f5d0"
            ],
            [
             0.7,
             "#b8e186"
            ],
            [
             0.8,
             "#7fbc41"
            ],
            [
             0.9,
             "#4d9221"
            ],
            [
             1,
             "#276419"
            ]
           ],
           "sequential": [
            [
             0,
             "#0d0887"
            ],
            [
             0.1111111111111111,
             "#46039f"
            ],
            [
             0.2222222222222222,
             "#7201a8"
            ],
            [
             0.3333333333333333,
             "#9c179e"
            ],
            [
             0.4444444444444444,
             "#bd3786"
            ],
            [
             0.5555555555555556,
             "#d8576b"
            ],
            [
             0.6666666666666666,
             "#ed7953"
            ],
            [
             0.7777777777777778,
             "#fb9f3a"
            ],
            [
             0.8888888888888888,
             "#fdca26"
            ],
            [
             1,
             "#f0f921"
            ]
           ],
           "sequentialminus": [
            [
             0,
             "#0d0887"
            ],
            [
             0.1111111111111111,
             "#46039f"
            ],
            [
             0.2222222222222222,
             "#7201a8"
            ],
            [
             0.3333333333333333,
             "#9c179e"
            ],
            [
             0.4444444444444444,
             "#bd3786"
            ],
            [
             0.5555555555555556,
             "#d8576b"
            ],
            [
             0.6666666666666666,
             "#ed7953"
            ],
            [
             0.7777777777777778,
             "#fb9f3a"
            ],
            [
             0.8888888888888888,
             "#fdca26"
            ],
            [
             1,
             "#f0f921"
            ]
           ]
          },
          "colorway": [
           "#636efa",
           "#EF553B",
           "#00cc96",
           "#ab63fa",
           "#FFA15A",
           "#19d3f3",
           "#FF6692",
           "#B6E880",
           "#FF97FF",
           "#FECB52"
          ],
          "font": {
           "color": "#2a3f5f"
          },
          "geo": {
           "bgcolor": "white",
           "lakecolor": "white",
           "landcolor": "#E5ECF6",
           "showlakes": true,
           "showland": true,
           "subunitcolor": "white"
          },
          "hoverlabel": {
           "align": "left"
          },
          "hovermode": "closest",
          "mapbox": {
           "style": "light"
          },
          "paper_bgcolor": "white",
          "plot_bgcolor": "#E5ECF6",
          "polar": {
           "angularaxis": {
            "gridcolor": "white",
            "linecolor": "white",
            "ticks": ""
           },
           "bgcolor": "#E5ECF6",
           "radialaxis": {
            "gridcolor": "white",
            "linecolor": "white",
            "ticks": ""
           }
          },
          "scene": {
           "xaxis": {
            "backgroundcolor": "#E5ECF6",
            "gridcolor": "white",
            "gridwidth": 2,
            "linecolor": "white",
            "showbackground": true,
            "ticks": "",
            "zerolinecolor": "white"
           },
           "yaxis": {
            "backgroundcolor": "#E5ECF6",
            "gridcolor": "white",
            "gridwidth": 2,
            "linecolor": "white",
            "showbackground": true,
            "ticks": "",
            "zerolinecolor": "white"
           },
           "zaxis": {
            "backgroundcolor": "#E5ECF6",
            "gridcolor": "white",
            "gridwidth": 2,
            "linecolor": "white",
            "showbackground": true,
            "ticks": "",
            "zerolinecolor": "white"
           }
          },
          "shapedefaults": {
           "line": {
            "color": "#2a3f5f"
           }
          },
          "ternary": {
           "aaxis": {
            "gridcolor": "white",
            "linecolor": "white",
            "ticks": ""
           },
           "baxis": {
            "gridcolor": "white",
            "linecolor": "white",
            "ticks": ""
           },
           "bgcolor": "#E5ECF6",
           "caxis": {
            "gridcolor": "white",
            "linecolor": "white",
            "ticks": ""
           }
          },
          "title": {
           "x": 0.05
          },
          "xaxis": {
           "automargin": true,
           "gridcolor": "white",
           "linecolor": "white",
           "ticks": "",
           "title": {
            "standoff": 15
           },
           "zerolinecolor": "white",
           "zerolinewidth": 2
          },
          "yaxis": {
           "automargin": true,
           "gridcolor": "white",
           "linecolor": "white",
           "ticks": "",
           "title": {
            "standoff": 15
           },
           "zerolinecolor": "white",
           "zerolinewidth": 2
          }
         }
        }
       }
      }
     },
     "metadata": {},
     "output_type": "display_data"
    }
   ],
   "source": [
    "import plotly.graph_objects as go\n",
    "\n",
    "\n",
    "fig = go.Figure([go.Scatter(x=acumulado_orcamento_anos.index\n",
    "                            , y=acumulado_orcamento_anos.orcamento_realizado,marker = {'color' : 'red'})])\n",
    "fig.show()"
   ]
  },
  {
   "cell_type": "markdown",
   "id": "0ba8b97b-21d7-4845-9db6-de18cee8bdcc",
   "metadata": {},
   "source": [
    "Como vemos, observamos outliers, no entanto não podemos trata-los, pois são dados emitidos pelo governo que descrevem gastos. Acreditamos que os outliers nesse caso devem ser mantidos e não estão incorretos"
   ]
  },
  {
   "cell_type": "code",
   "execution_count": 80,
   "id": "3a16064b",
   "metadata": {},
   "outputs": [],
   "source": [
    "df.to_pickle(os.path.join(DATA_PATH_TRATADOS, 'orcamento_tratado.pkl'))"
   ]
  },
  {
   "cell_type": "markdown",
   "id": "67ebecdd",
   "metadata": {},
   "source": [
    "### 4. Série histórica do PIB brasileiro"
   ]
  },
  {
   "cell_type": "code",
   "execution_count": 94,
   "id": "008ed084-3c4c-4309-bf3e-cb19446c86d6",
   "metadata": {},
   "outputs": [],
   "source": [
    "PIB = pd.read_excel(os.path.join(DATA_PATH_ENTRADA, 'PIB_1996_2021.xlsx'))\n",
    "PIB.to_pickle(os.path.join(DATA_PATH_TRATADOS, 'PIB.pkl'))"
   ]
  },
  {
   "cell_type": "code",
   "execution_count": null,
   "id": "148dd6aa-7af2-4af3-a420-6e4a11d3a3dc",
   "metadata": {},
   "outputs": [],
   "source": []
  },
  {
   "cell_type": "code",
   "execution_count": null,
   "id": "66025ab2-cb03-4c3a-8bb6-b64fa385c20e",
   "metadata": {},
   "outputs": [],
   "source": []
  },
  {
   "cell_type": "code",
   "execution_count": null,
   "id": "f15f7f28-3af3-4b7f-82bc-571efbf0d15a",
   "metadata": {},
   "outputs": [],
   "source": []
  },
  {
   "cell_type": "code",
   "execution_count": null,
   "id": "20019710-e42e-4b88-93a6-e533a9b4f4fd",
   "metadata": {},
   "outputs": [],
   "source": []
  },
  {
   "cell_type": "code",
   "execution_count": null,
   "id": "e258d9bc-38bf-43fd-a948-7f7e68539649",
   "metadata": {},
   "outputs": [],
   "source": []
  },
  {
   "cell_type": "code",
   "execution_count": null,
   "id": "995d9abe-c750-4159-9cd7-35c135f416fa",
   "metadata": {},
   "outputs": [],
   "source": []
  },
  {
   "cell_type": "markdown",
   "id": "7bf47905-aa34-48ea-8e76-65310a4e1cb0",
   "metadata": {},
   "source": [
    "### código experimental, ignorar"
   ]
  },
  {
   "cell_type": "code",
   "execution_count": 82,
   "id": "59e64762-5440-4735-809c-85bc6e169f95",
   "metadata": {},
   "outputs": [],
   "source": [
    "numericas = ['orcamento_inicial','orcamento_atualizado','orcamento_empenhado','orcamento_realizado']"
   ]
  },
  {
   "cell_type": "code",
   "execution_count": 83,
   "id": "37ad89ea-3ed7-43bd-aa24-fb06a0f656fd",
   "metadata": {},
   "outputs": [],
   "source": [
    "lista_ministerios = df.nome_orgao_sup.value_counts().index.tolist()"
   ]
  },
  {
   "cell_type": "code",
   "execution_count": 84,
   "id": "b80da564-149d-4239-92d3-35f65f2d4b05",
   "metadata": {},
   "outputs": [],
   "source": [
    "lista_anos = []\n",
    "for val in df.exercicios.value_counts().index.tolist():\n",
    "    lista_anos.append(val.year)"
   ]
  },
  {
   "cell_type": "code",
   "execution_count": 85,
   "id": "0fcb2a55-fc8d-4280-93c7-2217b2f14ab0",
   "metadata": {},
   "outputs": [
    {
     "data": {
      "text/plain": [
       "[2014, 2015, 2020, 2016, 2019, 2017, 2018, 2021]"
      ]
     },
     "execution_count": 85,
     "metadata": {},
     "output_type": "execute_result"
    }
   ],
   "source": [
    "lista_anos"
   ]
  },
  {
   "cell_type": "code",
   "execution_count": 86,
   "id": "feb244d6-ff12-489f-be59-ed2342acb837",
   "metadata": {},
   "outputs": [],
   "source": [
    "lista_ministerios_df = pd.DataFrame(columns=lista_ministerios,index=lista_anos)"
   ]
  },
  {
   "cell_type": "code",
   "execution_count": 87,
   "id": "489f51b8-80ca-4e56-b51e-0117cf489288",
   "metadata": {},
   "outputs": [],
   "source": [
    "orcamento_inicial = df.copy()"
   ]
  },
  {
   "cell_type": "code",
   "execution_count": 88,
   "id": "88bba3fd-7033-425d-b13b-3b9c91ab217f",
   "metadata": {},
   "outputs": [],
   "source": [
    "orcamento_inicial = orcamento_inicial.groupby([\"nome_orgao_sup\",\"exercicios\"]).sum()\n",
    "orcamento_inicial = orcamento_inicial.fillna(0)"
   ]
  },
  {
   "cell_type": "code",
   "execution_count": 89,
   "id": "05b2d17b-5f95-4d13-929a-090c4d4813c1",
   "metadata": {},
   "outputs": [
    {
     "data": {
      "text/html": [
       "<div>\n",
       "<style scoped>\n",
       "    .dataframe tbody tr th:only-of-type {\n",
       "        vertical-align: middle;\n",
       "    }\n",
       "\n",
       "    .dataframe tbody tr th {\n",
       "        vertical-align: top;\n",
       "    }\n",
       "\n",
       "    .dataframe thead th {\n",
       "        text-align: right;\n",
       "    }\n",
       "</style>\n",
       "<table border=\"1\" class=\"dataframe\">\n",
       "  <thead>\n",
       "    <tr style=\"text-align: right;\">\n",
       "      <th></th>\n",
       "      <th>Ministério da Educação</th>\n",
       "      <th>Ministério da Economia</th>\n",
       "      <th>Ministério da Defesa</th>\n",
       "      <th>Ministério da Saúde</th>\n",
       "      <th>Ministério do Desenvolvimento Regional</th>\n",
       "      <th>Ministério da Infraestrutura</th>\n",
       "      <th>Ministério da Ciência, Tecnologia, Inovações e Comunicações</th>\n",
       "      <th>Ministério da Justiça e Segurança Pública</th>\n",
       "      <th>Ministério de Minas e Energia</th>\n",
       "      <th>Ministério da Agricultura, Pecuária e Abastecimento</th>\n",
       "      <th>Ministério do Turismo</th>\n",
       "      <th>Ministério do Meio Ambiente</th>\n",
       "      <th>Presidência da República</th>\n",
       "      <th>Ministério da Cidadania</th>\n",
       "      <th>Ministério do Planejamento, Desenvolvimento e Gestão</th>\n",
       "      <th>Ministério das Comunicações</th>\n",
       "      <th>Ministério das Relações Exteriores</th>\n",
       "      <th>Ministério do Esporte</th>\n",
       "      <th>Ministério das Cidades</th>\n",
       "      <th>Ministério da Mulher, Família e Direitos Humanos</th>\n",
       "      <th>Ministério da Cultura</th>\n",
       "      <th>Ministério da Indústria, Comércio Exterior e Serviços</th>\n",
       "      <th>Ministério do Desenvolvimento Agrário</th>\n",
       "      <th>Controladoria-Geral da União</th>\n",
       "      <th>Advocacia-Geral da União</th>\n",
       "      <th>Ministério do Trabalho</th>\n",
       "      <th>Ministério das Mulheres, Igualdade Racial, da Juventude e dos Direitos Humanos</th>\n",
       "      <th>Ministério do Trabalho e Emprego</th>\n",
       "      <th>Ministério da Pesca e Aquicultura</th>\n",
       "      <th>Ministério da Previdência Social</th>\n",
       "    </tr>\n",
       "  </thead>\n",
       "  <tbody>\n",
       "    <tr>\n",
       "      <th>2014</th>\n",
       "      <td>NaN</td>\n",
       "      <td>NaN</td>\n",
       "      <td>NaN</td>\n",
       "      <td>NaN</td>\n",
       "      <td>NaN</td>\n",
       "      <td>NaN</td>\n",
       "      <td>NaN</td>\n",
       "      <td>NaN</td>\n",
       "      <td>NaN</td>\n",
       "      <td>NaN</td>\n",
       "      <td>NaN</td>\n",
       "      <td>NaN</td>\n",
       "      <td>NaN</td>\n",
       "      <td>NaN</td>\n",
       "      <td>NaN</td>\n",
       "      <td>NaN</td>\n",
       "      <td>NaN</td>\n",
       "      <td>NaN</td>\n",
       "      <td>NaN</td>\n",
       "      <td>NaN</td>\n",
       "      <td>NaN</td>\n",
       "      <td>NaN</td>\n",
       "      <td>NaN</td>\n",
       "      <td>NaN</td>\n",
       "      <td>NaN</td>\n",
       "      <td>NaN</td>\n",
       "      <td>NaN</td>\n",
       "      <td>NaN</td>\n",
       "      <td>NaN</td>\n",
       "      <td>NaN</td>\n",
       "    </tr>\n",
       "    <tr>\n",
       "      <th>2015</th>\n",
       "      <td>NaN</td>\n",
       "      <td>NaN</td>\n",
       "      <td>NaN</td>\n",
       "      <td>NaN</td>\n",
       "      <td>NaN</td>\n",
       "      <td>NaN</td>\n",
       "      <td>NaN</td>\n",
       "      <td>NaN</td>\n",
       "      <td>NaN</td>\n",
       "      <td>NaN</td>\n",
       "      <td>NaN</td>\n",
       "      <td>NaN</td>\n",
       "      <td>NaN</td>\n",
       "      <td>NaN</td>\n",
       "      <td>NaN</td>\n",
       "      <td>NaN</td>\n",
       "      <td>NaN</td>\n",
       "      <td>NaN</td>\n",
       "      <td>NaN</td>\n",
       "      <td>NaN</td>\n",
       "      <td>NaN</td>\n",
       "      <td>NaN</td>\n",
       "      <td>NaN</td>\n",
       "      <td>NaN</td>\n",
       "      <td>NaN</td>\n",
       "      <td>NaN</td>\n",
       "      <td>NaN</td>\n",
       "      <td>NaN</td>\n",
       "      <td>NaN</td>\n",
       "      <td>NaN</td>\n",
       "    </tr>\n",
       "    <tr>\n",
       "      <th>2020</th>\n",
       "      <td>NaN</td>\n",
       "      <td>NaN</td>\n",
       "      <td>NaN</td>\n",
       "      <td>NaN</td>\n",
       "      <td>NaN</td>\n",
       "      <td>NaN</td>\n",
       "      <td>NaN</td>\n",
       "      <td>NaN</td>\n",
       "      <td>NaN</td>\n",
       "      <td>NaN</td>\n",
       "      <td>NaN</td>\n",
       "      <td>NaN</td>\n",
       "      <td>NaN</td>\n",
       "      <td>NaN</td>\n",
       "      <td>NaN</td>\n",
       "      <td>NaN</td>\n",
       "      <td>NaN</td>\n",
       "      <td>NaN</td>\n",
       "      <td>NaN</td>\n",
       "      <td>NaN</td>\n",
       "      <td>NaN</td>\n",
       "      <td>NaN</td>\n",
       "      <td>NaN</td>\n",
       "      <td>NaN</td>\n",
       "      <td>NaN</td>\n",
       "      <td>NaN</td>\n",
       "      <td>NaN</td>\n",
       "      <td>NaN</td>\n",
       "      <td>NaN</td>\n",
       "      <td>NaN</td>\n",
       "    </tr>\n",
       "    <tr>\n",
       "      <th>2016</th>\n",
       "      <td>NaN</td>\n",
       "      <td>NaN</td>\n",
       "      <td>NaN</td>\n",
       "      <td>NaN</td>\n",
       "      <td>NaN</td>\n",
       "      <td>NaN</td>\n",
       "      <td>NaN</td>\n",
       "      <td>NaN</td>\n",
       "      <td>NaN</td>\n",
       "      <td>NaN</td>\n",
       "      <td>NaN</td>\n",
       "      <td>NaN</td>\n",
       "      <td>NaN</td>\n",
       "      <td>NaN</td>\n",
       "      <td>NaN</td>\n",
       "      <td>NaN</td>\n",
       "      <td>NaN</td>\n",
       "      <td>NaN</td>\n",
       "      <td>NaN</td>\n",
       "      <td>NaN</td>\n",
       "      <td>NaN</td>\n",
       "      <td>NaN</td>\n",
       "      <td>NaN</td>\n",
       "      <td>NaN</td>\n",
       "      <td>NaN</td>\n",
       "      <td>NaN</td>\n",
       "      <td>NaN</td>\n",
       "      <td>NaN</td>\n",
       "      <td>NaN</td>\n",
       "      <td>NaN</td>\n",
       "    </tr>\n",
       "    <tr>\n",
       "      <th>2019</th>\n",
       "      <td>NaN</td>\n",
       "      <td>NaN</td>\n",
       "      <td>NaN</td>\n",
       "      <td>NaN</td>\n",
       "      <td>NaN</td>\n",
       "      <td>NaN</td>\n",
       "      <td>NaN</td>\n",
       "      <td>NaN</td>\n",
       "      <td>NaN</td>\n",
       "      <td>NaN</td>\n",
       "      <td>NaN</td>\n",
       "      <td>NaN</td>\n",
       "      <td>NaN</td>\n",
       "      <td>NaN</td>\n",
       "      <td>NaN</td>\n",
       "      <td>NaN</td>\n",
       "      <td>NaN</td>\n",
       "      <td>NaN</td>\n",
       "      <td>NaN</td>\n",
       "      <td>NaN</td>\n",
       "      <td>NaN</td>\n",
       "      <td>NaN</td>\n",
       "      <td>NaN</td>\n",
       "      <td>NaN</td>\n",
       "      <td>NaN</td>\n",
       "      <td>NaN</td>\n",
       "      <td>NaN</td>\n",
       "      <td>NaN</td>\n",
       "      <td>NaN</td>\n",
       "      <td>NaN</td>\n",
       "    </tr>\n",
       "    <tr>\n",
       "      <th>2017</th>\n",
       "      <td>NaN</td>\n",
       "      <td>NaN</td>\n",
       "      <td>NaN</td>\n",
       "      <td>NaN</td>\n",
       "      <td>NaN</td>\n",
       "      <td>NaN</td>\n",
       "      <td>NaN</td>\n",
       "      <td>NaN</td>\n",
       "      <td>NaN</td>\n",
       "      <td>NaN</td>\n",
       "      <td>NaN</td>\n",
       "      <td>NaN</td>\n",
       "      <td>NaN</td>\n",
       "      <td>NaN</td>\n",
       "      <td>NaN</td>\n",
       "      <td>NaN</td>\n",
       "      <td>NaN</td>\n",
       "      <td>NaN</td>\n",
       "      <td>NaN</td>\n",
       "      <td>NaN</td>\n",
       "      <td>NaN</td>\n",
       "      <td>NaN</td>\n",
       "      <td>NaN</td>\n",
       "      <td>NaN</td>\n",
       "      <td>NaN</td>\n",
       "      <td>NaN</td>\n",
       "      <td>NaN</td>\n",
       "      <td>NaN</td>\n",
       "      <td>NaN</td>\n",
       "      <td>NaN</td>\n",
       "    </tr>\n",
       "    <tr>\n",
       "      <th>2018</th>\n",
       "      <td>NaN</td>\n",
       "      <td>NaN</td>\n",
       "      <td>NaN</td>\n",
       "      <td>NaN</td>\n",
       "      <td>NaN</td>\n",
       "      <td>NaN</td>\n",
       "      <td>NaN</td>\n",
       "      <td>NaN</td>\n",
       "      <td>NaN</td>\n",
       "      <td>NaN</td>\n",
       "      <td>NaN</td>\n",
       "      <td>NaN</td>\n",
       "      <td>NaN</td>\n",
       "      <td>NaN</td>\n",
       "      <td>NaN</td>\n",
       "      <td>NaN</td>\n",
       "      <td>NaN</td>\n",
       "      <td>NaN</td>\n",
       "      <td>NaN</td>\n",
       "      <td>NaN</td>\n",
       "      <td>NaN</td>\n",
       "      <td>NaN</td>\n",
       "      <td>NaN</td>\n",
       "      <td>NaN</td>\n",
       "      <td>NaN</td>\n",
       "      <td>NaN</td>\n",
       "      <td>NaN</td>\n",
       "      <td>NaN</td>\n",
       "      <td>NaN</td>\n",
       "      <td>NaN</td>\n",
       "    </tr>\n",
       "    <tr>\n",
       "      <th>2021</th>\n",
       "      <td>NaN</td>\n",
       "      <td>NaN</td>\n",
       "      <td>NaN</td>\n",
       "      <td>NaN</td>\n",
       "      <td>NaN</td>\n",
       "      <td>NaN</td>\n",
       "      <td>NaN</td>\n",
       "      <td>NaN</td>\n",
       "      <td>NaN</td>\n",
       "      <td>NaN</td>\n",
       "      <td>NaN</td>\n",
       "      <td>NaN</td>\n",
       "      <td>NaN</td>\n",
       "      <td>NaN</td>\n",
       "      <td>NaN</td>\n",
       "      <td>NaN</td>\n",
       "      <td>NaN</td>\n",
       "      <td>NaN</td>\n",
       "      <td>NaN</td>\n",
       "      <td>NaN</td>\n",
       "      <td>NaN</td>\n",
       "      <td>NaN</td>\n",
       "      <td>NaN</td>\n",
       "      <td>NaN</td>\n",
       "      <td>NaN</td>\n",
       "      <td>NaN</td>\n",
       "      <td>NaN</td>\n",
       "      <td>NaN</td>\n",
       "      <td>NaN</td>\n",
       "      <td>NaN</td>\n",
       "    </tr>\n",
       "  </tbody>\n",
       "</table>\n",
       "</div>"
      ],
      "text/plain": [
       "     Ministério da Educação Ministério da Economia Ministério da Defesa  \\\n",
       "2014                    NaN                    NaN                  NaN   \n",
       "2015                    NaN                    NaN                  NaN   \n",
       "2020                    NaN                    NaN                  NaN   \n",
       "2016                    NaN                    NaN                  NaN   \n",
       "2019                    NaN                    NaN                  NaN   \n",
       "2017                    NaN                    NaN                  NaN   \n",
       "2018                    NaN                    NaN                  NaN   \n",
       "2021                    NaN                    NaN                  NaN   \n",
       "\n",
       "     Ministério da Saúde Ministério do Desenvolvimento Regional  \\\n",
       "2014                 NaN                                    NaN   \n",
       "2015                 NaN                                    NaN   \n",
       "2020                 NaN                                    NaN   \n",
       "2016                 NaN                                    NaN   \n",
       "2019                 NaN                                    NaN   \n",
       "2017                 NaN                                    NaN   \n",
       "2018                 NaN                                    NaN   \n",
       "2021                 NaN                                    NaN   \n",
       "\n",
       "     Ministério da Infraestrutura  \\\n",
       "2014                          NaN   \n",
       "2015                          NaN   \n",
       "2020                          NaN   \n",
       "2016                          NaN   \n",
       "2019                          NaN   \n",
       "2017                          NaN   \n",
       "2018                          NaN   \n",
       "2021                          NaN   \n",
       "\n",
       "     Ministério da Ciência, Tecnologia, Inovações e Comunicações  \\\n",
       "2014                                                NaN            \n",
       "2015                                                NaN            \n",
       "2020                                                NaN            \n",
       "2016                                                NaN            \n",
       "2019                                                NaN            \n",
       "2017                                                NaN            \n",
       "2018                                                NaN            \n",
       "2021                                                NaN            \n",
       "\n",
       "     Ministério da Justiça e Segurança Pública Ministério de Minas e Energia  \\\n",
       "2014                                       NaN                           NaN   \n",
       "2015                                       NaN                           NaN   \n",
       "2020                                       NaN                           NaN   \n",
       "2016                                       NaN                           NaN   \n",
       "2019                                       NaN                           NaN   \n",
       "2017                                       NaN                           NaN   \n",
       "2018                                       NaN                           NaN   \n",
       "2021                                       NaN                           NaN   \n",
       "\n",
       "     Ministério da Agricultura, Pecuária e Abastecimento  \\\n",
       "2014                                                NaN    \n",
       "2015                                                NaN    \n",
       "2020                                                NaN    \n",
       "2016                                                NaN    \n",
       "2019                                                NaN    \n",
       "2017                                                NaN    \n",
       "2018                                                NaN    \n",
       "2021                                                NaN    \n",
       "\n",
       "     Ministério do Turismo Ministério do Meio Ambiente  \\\n",
       "2014                   NaN                         NaN   \n",
       "2015                   NaN                         NaN   \n",
       "2020                   NaN                         NaN   \n",
       "2016                   NaN                         NaN   \n",
       "2019                   NaN                         NaN   \n",
       "2017                   NaN                         NaN   \n",
       "2018                   NaN                         NaN   \n",
       "2021                   NaN                         NaN   \n",
       "\n",
       "     Presidência da República Ministério da Cidadania  \\\n",
       "2014                      NaN                     NaN   \n",
       "2015                      NaN                     NaN   \n",
       "2020                      NaN                     NaN   \n",
       "2016                      NaN                     NaN   \n",
       "2019                      NaN                     NaN   \n",
       "2017                      NaN                     NaN   \n",
       "2018                      NaN                     NaN   \n",
       "2021                      NaN                     NaN   \n",
       "\n",
       "     Ministério do Planejamento, Desenvolvimento e Gestão  \\\n",
       "2014                                                NaN     \n",
       "2015                                                NaN     \n",
       "2020                                                NaN     \n",
       "2016                                                NaN     \n",
       "2019                                                NaN     \n",
       "2017                                                NaN     \n",
       "2018                                                NaN     \n",
       "2021                                                NaN     \n",
       "\n",
       "     Ministério das Comunicações Ministério das Relações Exteriores  \\\n",
       "2014                         NaN                                NaN   \n",
       "2015                         NaN                                NaN   \n",
       "2020                         NaN                                NaN   \n",
       "2016                         NaN                                NaN   \n",
       "2019                         NaN                                NaN   \n",
       "2017                         NaN                                NaN   \n",
       "2018                         NaN                                NaN   \n",
       "2021                         NaN                                NaN   \n",
       "\n",
       "     Ministério do Esporte Ministério das Cidades  \\\n",
       "2014                   NaN                    NaN   \n",
       "2015                   NaN                    NaN   \n",
       "2020                   NaN                    NaN   \n",
       "2016                   NaN                    NaN   \n",
       "2019                   NaN                    NaN   \n",
       "2017                   NaN                    NaN   \n",
       "2018                   NaN                    NaN   \n",
       "2021                   NaN                    NaN   \n",
       "\n",
       "     Ministério da Mulher, Família e Direitos Humanos Ministério da Cultura  \\\n",
       "2014                                              NaN                   NaN   \n",
       "2015                                              NaN                   NaN   \n",
       "2020                                              NaN                   NaN   \n",
       "2016                                              NaN                   NaN   \n",
       "2019                                              NaN                   NaN   \n",
       "2017                                              NaN                   NaN   \n",
       "2018                                              NaN                   NaN   \n",
       "2021                                              NaN                   NaN   \n",
       "\n",
       "     Ministério da Indústria, Comércio Exterior e Serviços  \\\n",
       "2014                                                NaN      \n",
       "2015                                                NaN      \n",
       "2020                                                NaN      \n",
       "2016                                                NaN      \n",
       "2019                                                NaN      \n",
       "2017                                                NaN      \n",
       "2018                                                NaN      \n",
       "2021                                                NaN      \n",
       "\n",
       "     Ministério do Desenvolvimento Agrário Controladoria-Geral da União  \\\n",
       "2014                                   NaN                          NaN   \n",
       "2015                                   NaN                          NaN   \n",
       "2020                                   NaN                          NaN   \n",
       "2016                                   NaN                          NaN   \n",
       "2019                                   NaN                          NaN   \n",
       "2017                                   NaN                          NaN   \n",
       "2018                                   NaN                          NaN   \n",
       "2021                                   NaN                          NaN   \n",
       "\n",
       "     Advocacia-Geral da União Ministério do Trabalho  \\\n",
       "2014                      NaN                    NaN   \n",
       "2015                      NaN                    NaN   \n",
       "2020                      NaN                    NaN   \n",
       "2016                      NaN                    NaN   \n",
       "2019                      NaN                    NaN   \n",
       "2017                      NaN                    NaN   \n",
       "2018                      NaN                    NaN   \n",
       "2021                      NaN                    NaN   \n",
       "\n",
       "     Ministério das Mulheres, Igualdade Racial, da Juventude e dos Direitos Humanos  \\\n",
       "2014                                                NaN                               \n",
       "2015                                                NaN                               \n",
       "2020                                                NaN                               \n",
       "2016                                                NaN                               \n",
       "2019                                                NaN                               \n",
       "2017                                                NaN                               \n",
       "2018                                                NaN                               \n",
       "2021                                                NaN                               \n",
       "\n",
       "     Ministério do Trabalho e Emprego Ministério da Pesca e Aquicultura  \\\n",
       "2014                              NaN                               NaN   \n",
       "2015                              NaN                               NaN   \n",
       "2020                              NaN                               NaN   \n",
       "2016                              NaN                               NaN   \n",
       "2019                              NaN                               NaN   \n",
       "2017                              NaN                               NaN   \n",
       "2018                              NaN                               NaN   \n",
       "2021                              NaN                               NaN   \n",
       "\n",
       "     Ministério da Previdência Social  \n",
       "2014                              NaN  \n",
       "2015                              NaN  \n",
       "2020                              NaN  \n",
       "2016                              NaN  \n",
       "2019                              NaN  \n",
       "2017                              NaN  \n",
       "2018                              NaN  \n",
       "2021                              NaN  "
      ]
     },
     "execution_count": 89,
     "metadata": {},
     "output_type": "execute_result"
    }
   ],
   "source": [
    "lista_ministerios_df"
   ]
  },
  {
   "cell_type": "code",
   "execution_count": 90,
   "id": "3659dc50-5953-4000-b2ad-bdcca8f93e84",
   "metadata": {},
   "outputs": [
    {
     "data": {
      "text/plain": [
       "nan"
      ]
     },
     "execution_count": 90,
     "metadata": {},
     "output_type": "execute_result"
    }
   ],
   "source": [
    "lista_ministerios_df['Ministério da Educação'][2014]"
   ]
  },
  {
   "cell_type": "code",
   "execution_count": 91,
   "id": "dc5eef90-331f-4ffe-a4db-0429016b033f",
   "metadata": {},
   "outputs": [
    {
     "ename": "KeyError",
     "evalue": "'2020-01-01'",
     "output_type": "error",
     "traceback": [
      "\u001b[1;31m---------------------------------------------------------------------------\u001b[0m",
      "\u001b[1;31mKeyError\u001b[0m                                  Traceback (most recent call last)",
      "\u001b[1;32m~\\Anaconda3\\lib\\site-packages\\pandas\\_libs\\index.pyx\u001b[0m in \u001b[0;36mpandas._libs.index.DatetimeEngine.get_loc\u001b[1;34m()\u001b[0m\n",
      "\u001b[1;32mpandas\\_libs\\hashtable_class_helper.pxi\u001b[0m in \u001b[0;36mpandas._libs.hashtable.Int64HashTable.get_item\u001b[1;34m()\u001b[0m\n",
      "\u001b[1;32mpandas\\_libs\\hashtable_class_helper.pxi\u001b[0m in \u001b[0;36mpandas._libs.hashtable.Int64HashTable.get_item\u001b[1;34m()\u001b[0m\n",
      "\u001b[1;31mKeyError\u001b[0m: 1577836800000000000",
      "\nDuring handling of the above exception, another exception occurred:\n",
      "\u001b[1;31mKeyError\u001b[0m                                  Traceback (most recent call last)",
      "\u001b[1;32m~\\Anaconda3\\lib\\site-packages\\pandas\\core\\indexes\\base.py\u001b[0m in \u001b[0;36mget_loc\u001b[1;34m(self, key, method, tolerance)\u001b[0m\n\u001b[0;32m   3360\u001b[0m             \u001b[1;32mtry\u001b[0m\u001b[1;33m:\u001b[0m\u001b[1;33m\u001b[0m\u001b[1;33m\u001b[0m\u001b[0m\n\u001b[1;32m-> 3361\u001b[1;33m                 \u001b[1;32mreturn\u001b[0m \u001b[0mself\u001b[0m\u001b[1;33m.\u001b[0m\u001b[0m_engine\u001b[0m\u001b[1;33m.\u001b[0m\u001b[0mget_loc\u001b[0m\u001b[1;33m(\u001b[0m\u001b[0mcasted_key\u001b[0m\u001b[1;33m)\u001b[0m\u001b[1;33m\u001b[0m\u001b[1;33m\u001b[0m\u001b[0m\n\u001b[0m\u001b[0;32m   3362\u001b[0m             \u001b[1;32mexcept\u001b[0m \u001b[0mKeyError\u001b[0m \u001b[1;32mas\u001b[0m \u001b[0merr\u001b[0m\u001b[1;33m:\u001b[0m\u001b[1;33m\u001b[0m\u001b[1;33m\u001b[0m\u001b[0m\n",
      "\u001b[1;32m~\\Anaconda3\\lib\\site-packages\\pandas\\_libs\\index.pyx\u001b[0m in \u001b[0;36mpandas._libs.index.DatetimeEngine.get_loc\u001b[1;34m()\u001b[0m\n",
      "\u001b[1;32m~\\Anaconda3\\lib\\site-packages\\pandas\\_libs\\index.pyx\u001b[0m in \u001b[0;36mpandas._libs.index.DatetimeEngine.get_loc\u001b[1;34m()\u001b[0m\n",
      "\u001b[1;31mKeyError\u001b[0m: Timestamp('2020-01-01 00:00:00')",
      "\nThe above exception was the direct cause of the following exception:\n",
      "\u001b[1;31mKeyError\u001b[0m                                  Traceback (most recent call last)",
      "\u001b[1;32m~\\Anaconda3\\lib\\site-packages\\pandas\\core\\indexes\\datetimes.py\u001b[0m in \u001b[0;36mget_loc\u001b[1;34m(self, key, method, tolerance)\u001b[0m\n\u001b[0;32m    701\u001b[0m         \u001b[1;32mtry\u001b[0m\u001b[1;33m:\u001b[0m\u001b[1;33m\u001b[0m\u001b[1;33m\u001b[0m\u001b[0m\n\u001b[1;32m--> 702\u001b[1;33m             \u001b[1;32mreturn\u001b[0m \u001b[0mIndex\u001b[0m\u001b[1;33m.\u001b[0m\u001b[0mget_loc\u001b[0m\u001b[1;33m(\u001b[0m\u001b[0mself\u001b[0m\u001b[1;33m,\u001b[0m \u001b[0mkey\u001b[0m\u001b[1;33m,\u001b[0m \u001b[0mmethod\u001b[0m\u001b[1;33m,\u001b[0m \u001b[0mtolerance\u001b[0m\u001b[1;33m)\u001b[0m\u001b[1;33m\u001b[0m\u001b[1;33m\u001b[0m\u001b[0m\n\u001b[0m\u001b[0;32m    703\u001b[0m         \u001b[1;32mexcept\u001b[0m \u001b[0mKeyError\u001b[0m \u001b[1;32mas\u001b[0m \u001b[0merr\u001b[0m\u001b[1;33m:\u001b[0m\u001b[1;33m\u001b[0m\u001b[1;33m\u001b[0m\u001b[0m\n",
      "\u001b[1;32m~\\Anaconda3\\lib\\site-packages\\pandas\\core\\indexes\\base.py\u001b[0m in \u001b[0;36mget_loc\u001b[1;34m(self, key, method, tolerance)\u001b[0m\n\u001b[0;32m   3362\u001b[0m             \u001b[1;32mexcept\u001b[0m \u001b[0mKeyError\u001b[0m \u001b[1;32mas\u001b[0m \u001b[0merr\u001b[0m\u001b[1;33m:\u001b[0m\u001b[1;33m\u001b[0m\u001b[1;33m\u001b[0m\u001b[0m\n\u001b[1;32m-> 3363\u001b[1;33m                 \u001b[1;32mraise\u001b[0m \u001b[0mKeyError\u001b[0m\u001b[1;33m(\u001b[0m\u001b[0mkey\u001b[0m\u001b[1;33m)\u001b[0m \u001b[1;32mfrom\u001b[0m \u001b[0merr\u001b[0m\u001b[1;33m\u001b[0m\u001b[1;33m\u001b[0m\u001b[0m\n\u001b[0m\u001b[0;32m   3364\u001b[0m \u001b[1;33m\u001b[0m\u001b[0m\n",
      "\u001b[1;31mKeyError\u001b[0m: Timestamp('2020-01-01 00:00:00')",
      "\nThe above exception was the direct cause of the following exception:\n",
      "\u001b[1;31mKeyError\u001b[0m                                  Traceback (most recent call last)",
      "\u001b[1;32m<ipython-input-91-ff20ed1e3781>\u001b[0m in \u001b[0;36m<module>\u001b[1;34m\u001b[0m\n\u001b[0;32m      1\u001b[0m \u001b[1;32mfor\u001b[0m \u001b[0mcol\u001b[0m \u001b[1;32min\u001b[0m \u001b[0mlista_ministerios_df\u001b[0m\u001b[1;33m.\u001b[0m\u001b[0mcolumns\u001b[0m\u001b[1;33m:\u001b[0m\u001b[1;33m\u001b[0m\u001b[1;33m\u001b[0m\u001b[0m\n\u001b[0;32m      2\u001b[0m     \u001b[1;32mfor\u001b[0m \u001b[0myear\u001b[0m \u001b[1;32min\u001b[0m \u001b[0mlista_anos\u001b[0m\u001b[1;33m:\u001b[0m\u001b[1;33m\u001b[0m\u001b[1;33m\u001b[0m\u001b[0m\n\u001b[1;32m----> 3\u001b[1;33m         \u001b[0mlista_ministerios_df\u001b[0m\u001b[1;33m[\u001b[0m\u001b[0mcol\u001b[0m\u001b[1;33m]\u001b[0m\u001b[1;33m[\u001b[0m\u001b[0myear\u001b[0m\u001b[1;33m]\u001b[0m \u001b[1;33m=\u001b[0m \u001b[0morcamento_inicial\u001b[0m\u001b[1;33m.\u001b[0m\u001b[0mloc\u001b[0m\u001b[1;33m[\u001b[0m\u001b[0mcol\u001b[0m\u001b[1;33m]\u001b[0m\u001b[1;33m.\u001b[0m\u001b[0morcamento_realizado\u001b[0m\u001b[1;33m[\u001b[0m\u001b[1;34mf'{year}-01-01'\u001b[0m\u001b[1;33m]\u001b[0m\u001b[1;33m\u001b[0m\u001b[1;33m\u001b[0m\u001b[0m\n\u001b[0m\u001b[0;32m      4\u001b[0m         \u001b[1;31m#print(orcamento_inicial.loc[col].orcamento_realizado[f'{year}-01-01'])\u001b[0m\u001b[1;33m\u001b[0m\u001b[1;33m\u001b[0m\u001b[1;33m\u001b[0m\u001b[0m\n\u001b[0;32m      5\u001b[0m \u001b[1;33m\u001b[0m\u001b[0m\n",
      "\u001b[1;32m~\\Anaconda3\\lib\\site-packages\\pandas\\core\\series.py\u001b[0m in \u001b[0;36m__getitem__\u001b[1;34m(self, key)\u001b[0m\n\u001b[0;32m    940\u001b[0m \u001b[1;33m\u001b[0m\u001b[0m\n\u001b[0;32m    941\u001b[0m         \u001b[1;32melif\u001b[0m \u001b[0mkey_is_scalar\u001b[0m\u001b[1;33m:\u001b[0m\u001b[1;33m\u001b[0m\u001b[1;33m\u001b[0m\u001b[0m\n\u001b[1;32m--> 942\u001b[1;33m             \u001b[1;32mreturn\u001b[0m \u001b[0mself\u001b[0m\u001b[1;33m.\u001b[0m\u001b[0m_get_value\u001b[0m\u001b[1;33m(\u001b[0m\u001b[0mkey\u001b[0m\u001b[1;33m)\u001b[0m\u001b[1;33m\u001b[0m\u001b[1;33m\u001b[0m\u001b[0m\n\u001b[0m\u001b[0;32m    943\u001b[0m \u001b[1;33m\u001b[0m\u001b[0m\n\u001b[0;32m    944\u001b[0m         \u001b[1;32mif\u001b[0m \u001b[0mis_hashable\u001b[0m\u001b[1;33m(\u001b[0m\u001b[0mkey\u001b[0m\u001b[1;33m)\u001b[0m\u001b[1;33m:\u001b[0m\u001b[1;33m\u001b[0m\u001b[1;33m\u001b[0m\u001b[0m\n",
      "\u001b[1;32m~\\Anaconda3\\lib\\site-packages\\pandas\\core\\series.py\u001b[0m in \u001b[0;36m_get_value\u001b[1;34m(self, label, takeable)\u001b[0m\n\u001b[0;32m   1049\u001b[0m \u001b[1;33m\u001b[0m\u001b[0m\n\u001b[0;32m   1050\u001b[0m         \u001b[1;31m# Similar to Index.get_value, but we do not fall back to positional\u001b[0m\u001b[1;33m\u001b[0m\u001b[1;33m\u001b[0m\u001b[1;33m\u001b[0m\u001b[0m\n\u001b[1;32m-> 1051\u001b[1;33m         \u001b[0mloc\u001b[0m \u001b[1;33m=\u001b[0m \u001b[0mself\u001b[0m\u001b[1;33m.\u001b[0m\u001b[0mindex\u001b[0m\u001b[1;33m.\u001b[0m\u001b[0mget_loc\u001b[0m\u001b[1;33m(\u001b[0m\u001b[0mlabel\u001b[0m\u001b[1;33m)\u001b[0m\u001b[1;33m\u001b[0m\u001b[1;33m\u001b[0m\u001b[0m\n\u001b[0m\u001b[0;32m   1052\u001b[0m         \u001b[1;32mreturn\u001b[0m \u001b[0mself\u001b[0m\u001b[1;33m.\u001b[0m\u001b[0mindex\u001b[0m\u001b[1;33m.\u001b[0m\u001b[0m_get_values_for_loc\u001b[0m\u001b[1;33m(\u001b[0m\u001b[0mself\u001b[0m\u001b[1;33m,\u001b[0m \u001b[0mloc\u001b[0m\u001b[1;33m,\u001b[0m \u001b[0mlabel\u001b[0m\u001b[1;33m)\u001b[0m\u001b[1;33m\u001b[0m\u001b[1;33m\u001b[0m\u001b[0m\n\u001b[0;32m   1053\u001b[0m \u001b[1;33m\u001b[0m\u001b[0m\n",
      "\u001b[1;32m~\\Anaconda3\\lib\\site-packages\\pandas\\core\\indexes\\datetimes.py\u001b[0m in \u001b[0;36mget_loc\u001b[1;34m(self, key, method, tolerance)\u001b[0m\n\u001b[0;32m    702\u001b[0m             \u001b[1;32mreturn\u001b[0m \u001b[0mIndex\u001b[0m\u001b[1;33m.\u001b[0m\u001b[0mget_loc\u001b[0m\u001b[1;33m(\u001b[0m\u001b[0mself\u001b[0m\u001b[1;33m,\u001b[0m \u001b[0mkey\u001b[0m\u001b[1;33m,\u001b[0m \u001b[0mmethod\u001b[0m\u001b[1;33m,\u001b[0m \u001b[0mtolerance\u001b[0m\u001b[1;33m)\u001b[0m\u001b[1;33m\u001b[0m\u001b[1;33m\u001b[0m\u001b[0m\n\u001b[0;32m    703\u001b[0m         \u001b[1;32mexcept\u001b[0m \u001b[0mKeyError\u001b[0m \u001b[1;32mas\u001b[0m \u001b[0merr\u001b[0m\u001b[1;33m:\u001b[0m\u001b[1;33m\u001b[0m\u001b[1;33m\u001b[0m\u001b[0m\n\u001b[1;32m--> 704\u001b[1;33m             \u001b[1;32mraise\u001b[0m \u001b[0mKeyError\u001b[0m\u001b[1;33m(\u001b[0m\u001b[0morig_key\u001b[0m\u001b[1;33m)\u001b[0m \u001b[1;32mfrom\u001b[0m \u001b[0merr\u001b[0m\u001b[1;33m\u001b[0m\u001b[1;33m\u001b[0m\u001b[0m\n\u001b[0m\u001b[0;32m    705\u001b[0m \u001b[1;33m\u001b[0m\u001b[0m\n\u001b[0;32m    706\u001b[0m     \u001b[1;32mdef\u001b[0m \u001b[0m_maybe_cast_for_get_loc\u001b[0m\u001b[1;33m(\u001b[0m\u001b[0mself\u001b[0m\u001b[1;33m,\u001b[0m \u001b[0mkey\u001b[0m\u001b[1;33m)\u001b[0m \u001b[1;33m->\u001b[0m \u001b[0mTimestamp\u001b[0m\u001b[1;33m:\u001b[0m\u001b[1;33m\u001b[0m\u001b[1;33m\u001b[0m\u001b[0m\n",
      "\u001b[1;31mKeyError\u001b[0m: '2020-01-01'"
     ]
    }
   ],
   "source": [
    "\n",
    "for col in lista_ministerios_df.columns:\n",
    "    for year in lista_anos:\n",
    "        lista_ministerios_df[col][year] = orcamento_inicial.loc[col].orcamento_realizado[f'{year}-01-01']\n",
    "        #print(orcamento_inicial.loc[col].orcamento_realizado[f'{year}-01-01'])\n",
    "        "
   ]
  },
  {
   "cell_type": "code",
   "execution_count": null,
   "id": "094b4c34-583b-4288-a63b-b2f7ea389869",
   "metadata": {},
   "outputs": [],
   "source": [
    "orcamento_inicial"
   ]
  },
  {
   "cell_type": "code",
   "execution_count": null,
   "id": "76dad1c8-53d5-494f-b109-e727a9bb570e",
   "metadata": {},
   "outputs": [],
   "source": [
    "orcamento_inicial"
   ]
  },
  {
   "cell_type": "code",
   "execution_count": null,
   "id": "6fefc318-c8ce-4741-880a-86a7f178f01c",
   "metadata": {},
   "outputs": [],
   "source": [
    "teste = df.copy().reset_index()\n",
    "teste = df.melt(id_vars=['nome_orgao_sup', 'exercicios'])"
   ]
  },
  {
   "cell_type": "code",
   "execution_count": null,
   "id": "fe6a5581-7eb2-4fe7-9d86-8cc2142040ef",
   "metadata": {},
   "outputs": [],
   "source": [
    "teste"
   ]
  },
  {
   "cell_type": "code",
   "execution_count": null,
   "id": "3e2d2d54-c4b4-478c-8eb7-00af3f5f2ca4",
   "metadata": {},
   "outputs": [],
   "source": []
  }
 ],
 "metadata": {
  "kernelspec": {
   "display_name": "Python 3 (ipykernel)",
   "language": "python",
   "name": "python3"
  },
  "language_info": {
   "codemirror_mode": {
    "name": "ipython",
    "version": 3
   },
   "file_extension": ".py",
   "mimetype": "text/x-python",
   "name": "python",
   "nbconvert_exporter": "python",
   "pygments_lexer": "ipython3",
   "version": "3.8.5"
  }
 },
 "nbformat": 4,
 "nbformat_minor": 5
}
