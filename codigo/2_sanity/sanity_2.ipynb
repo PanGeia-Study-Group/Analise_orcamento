{
 "cells": [
  {
   "cell_type": "markdown",
   "id": "743875d8-8721-41d8-a2d0-a92dfe2d3443",
   "metadata": {},
   "source": [
    "# Sanity Check "
   ]
  },
  {
   "cell_type": "code",
   "execution_count": 1,
   "id": "3012aa08-f68e-453e-aa1c-ed46c0047f82",
   "metadata": {},
   "outputs": [],
   "source": [
    "import os,sys\n",
    "import numpy as np\n",
    "import pandas as pd\n",
    "import seaborn as sns\n",
    "import matplotlib.pyplot as plt\n",
    "\n",
    "pd.set_option('display.max.columns',500)\n",
    "\n",
    "sys.path.append('..\\\\..')"
   ]
  },
  {
   "cell_type": "code",
   "execution_count": 2,
   "id": "05ec89c0-bbe9-48dc-9221-005c845c1c58",
   "metadata": {},
   "outputs": [],
   "source": [
    "DATA_PATH_ENTRADA = \"../../dados/1_dados_entrada\"\n",
    "DATA_PATH_TRATADOS = \"../../dados/2_dados_tratados\"\n",
    "DATA_PATH_ENTRADA_CSVS = os.path.join(DATA_PATH_ENTRADA, 'CSVs')"
   ]
  },
  {
   "cell_type": "code",
   "execution_count": 3,
   "id": "55a3745a-e54a-49c3-877d-f8ecd5ee5060",
   "metadata": {},
   "outputs": [],
   "source": [
    "lista_csvs = os.listdir(DATA_PATH_ENTRADA_CSVS)"
   ]
  },
  {
   "cell_type": "code",
   "execution_count": 4,
   "id": "abc549d4-4c91-46a2-8c03-e1c64a2d8cb8",
   "metadata": {},
   "outputs": [],
   "source": [
    "lista_concat = []\n",
    "for csv in lista_csvs:\n",
    "    df = pd.read_csv(os.path.join(DATA_PATH_ENTRADA_CSVS, csv), sep=';', encoding='latin-1')\n",
    "    lista_concat.append(df)\n",
    "\n",
    "df = pd.concat(lista_concat)"
   ]
  },
  {
   "cell_type": "code",
   "execution_count": 5,
   "id": "e6b2edda-1527-4a9c-af31-f128e3d40bc0",
   "metadata": {},
   "outputs": [
    {
     "data": {
      "text/plain": [
       "2014    28641\n",
       "2015    27988\n",
       "2020    27365\n",
       "2016    27117\n",
       "2019    26429\n",
       "2017    26085\n",
       "2018    25845\n",
       "2021    24215\n",
       "Name: EXERCÍCIO, dtype: int64"
      ]
     },
     "execution_count": 5,
     "metadata": {},
     "output_type": "execute_result"
    }
   ],
   "source": [
    "df['EXERCÍCIO'].value_counts()"
   ]
  },
  {
   "cell_type": "markdown",
   "id": "eb7b43b1-2f1d-4a32-9655-f2a7c43ca05b",
   "metadata": {},
   "source": [
    "# 1 Importação e definição dos dados"
   ]
  },
  {
   "cell_type": "markdown",
   "id": "049092e8-5d6d-4ae2-b719-2d12283b4997",
   "metadata": {},
   "source": [
    "A minha análise se absterá apenas as colunas após \"NOME PROGRAMA ORÇAMENTÁRIO\""
   ]
  },
  {
   "cell_type": "code",
   "execution_count": 6,
   "id": "5e5bc976-df99-4874-8820-a2922cf0ed85",
   "metadata": {},
   "outputs": [
    {
     "name": "stdout",
     "output_type": "stream",
     "text": [
      "<class 'pandas.core.frame.DataFrame'>\n",
      "Int64Index: 213685 entries, 0 to 27987\n",
      "Data columns (total 25 columns):\n",
      " #   Column                        Non-Null Count   Dtype \n",
      "---  ------                        --------------   ----- \n",
      " 0   EXERCÍCIO                     213685 non-null  int64 \n",
      " 1   CÓDIGO ÓRGÃO SUPERIOR         213685 non-null  int64 \n",
      " 2   NOME ÓRGÃO SUPERIOR           213685 non-null  object\n",
      " 3   CÓDIGO ÓRGÃO SUBORDINADO      213685 non-null  int64 \n",
      " 4   NOME ÓRGÃO SUBORDINADO        213685 non-null  object\n",
      " 5   CÓDIGO UNIDADE ORÇAMENTÁRIA   213685 non-null  int64 \n",
      " 6   NOME UNIDADE ORÇAMENTÁRIA     213685 non-null  object\n",
      " 7   CÓDIGO FUNÇÃO                 213685 non-null  int64 \n",
      " 8   NOME FUNÇÃO                   213685 non-null  object\n",
      " 9   CÓDIGO SUBFUNÇÃO              213685 non-null  int64 \n",
      " 10  NOME SUBFUNÇÃO                213685 non-null  object\n",
      " 11  CÓDIGO PROGRAMA ORÇAMENTÁRIO  213685 non-null  int64 \n",
      " 12  NOME PROGRAMA ORÇAMENTÁRIO    213685 non-null  object\n",
      " 13  CÓDIGO AÇÃO                   213685 non-null  object\n",
      " 14  NOME AÇÃO                     213685 non-null  object\n",
      " 15  CÓDIGO CATEGORIA ECONÔMICA    213685 non-null  object\n",
      " 16  NOME CATEGORIA ECONÔMICA      213685 non-null  object\n",
      " 17  CÓDIGO GRUPO DE DESPESA       213685 non-null  object\n",
      " 18  NOME GRUPO DE DESPESA         213685 non-null  object\n",
      " 19  CÓDIGO ELEMENTO DE DESPESA    213685 non-null  int64 \n",
      " 20  NOME ELEMENTO DE DESPESA      213685 non-null  object\n",
      " 21  ORÇAMENTO INICIAL (R$)        213685 non-null  object\n",
      " 22  ORÇAMENTO ATUALIZADO (R$)     213685 non-null  object\n",
      " 23  ORÇAMENTO EMPENHADO (R$)      213685 non-null  object\n",
      " 24  ORÇAMENTO REALIZADO (R$)      213685 non-null  object\n",
      "dtypes: int64(8), object(17)\n",
      "memory usage: 42.4+ MB\n"
     ]
    }
   ],
   "source": [
    "df.info()"
   ]
  },
  {
   "cell_type": "markdown",
   "id": "54e83c3f-af3b-406b-a301-90c0b2050c67",
   "metadata": {},
   "source": [
    "# 2 Reformulação dos dados"
   ]
  },
  {
   "cell_type": "markdown",
   "id": "894beeda-3ee5-4210-b07d-225ae340f9cd",
   "metadata": {},
   "source": [
    "## 2.1 renomeando colunas"
   ]
  },
  {
   "cell_type": "code",
   "execution_count": 7,
   "id": "ca89f697-5f23-48cd-a697-4d2c8604e32a",
   "metadata": {},
   "outputs": [],
   "source": [
    "# Renomeando as colunas para facilitar o trabalho no código\n",
    "df.columns = ['exercicios', 'cod_orgao_sup', 'nome_orgao_sup', 'cod_orgao_sub', 'nome_orgao_sub', 'cod_unid_orcament', 'nome_unid_orcament',\n",
    "                   'cod_funcao', 'nome_funcao', 'cod_subfuncao', 'nome_subfuncao', 'cod_prog_orcament', 'nome_prog_orcament', 'cod_acao', 'nome_acao',\n",
    "                   'cod_categ_econo', 'nome_categ_econo', 'cod_grp_despesa', 'nome_grp_despesa',  'cod_element_despesa', 'nome_element_despesa',\n",
    "                   'orcamento_inicial', 'orcamento_atualizado', 'orcamento_empenhado', 'orcamento_realizado']"
   ]
  },
  {
   "cell_type": "markdown",
   "id": "11a9c073-3d95-4e00-be8b-396ee0a521ef",
   "metadata": {},
   "source": [
    "## 2.2 dropando valores desnecessários"
   ]
  },
  {
   "cell_type": "markdown",
   "id": "12c4412e-bd7f-4e29-8fd5-5e2e70f3773e",
   "metadata": {},
   "source": [
    "Existem muitas colunasnas quais os valores presentes se referem ao código da função, setor, ministério, etc. Acredito que para fatores administrativos esses dados sejam válidos, porém não serão necessários nessa análise"
   ]
  },
  {
   "cell_type": "code",
   "execution_count": 8,
   "id": "b5900029-a370-4fb8-8835-f39fb7681266",
   "metadata": {},
   "outputs": [
    {
     "data": {
      "text/plain": [
       "Index(['exercicios', 'nome_orgao_sup', 'nome_orgao_sub', 'nome_unid_orcament',\n",
       "       'nome_funcao', 'nome_subfuncao', 'nome_prog_orcament', 'nome_acao',\n",
       "       'nome_categ_econo', 'nome_grp_despesa', 'nome_element_despesa',\n",
       "       'orcamento_inicial', 'orcamento_atualizado', 'orcamento_empenhado',\n",
       "       'orcamento_realizado'],\n",
       "      dtype='object')"
      ]
     },
     "execution_count": 8,
     "metadata": {},
     "output_type": "execute_result"
    }
   ],
   "source": [
    "df = df.drop(columns=df.columns[df.columns.str.contains(r'^cod_')])\n",
    "df.columns"
   ]
  },
  {
   "cell_type": "markdown",
   "id": "7a50b4b5-60e5-413b-a25d-8b4ea39350ec",
   "metadata": {},
   "source": [
    "## 2.3 Verificação da existência de valores faltantes"
   ]
  },
  {
   "cell_type": "code",
   "execution_count": 9,
   "id": "27d5676c-c4a4-44ae-a178-ac946c15d3fc",
   "metadata": {},
   "outputs": [
    {
     "data": {
      "text/plain": [
       "exercicios              0\n",
       "nome_orgao_sup          0\n",
       "nome_orgao_sub          0\n",
       "nome_unid_orcament      0\n",
       "nome_funcao             0\n",
       "nome_subfuncao          0\n",
       "nome_prog_orcament      0\n",
       "nome_acao               0\n",
       "nome_categ_econo        0\n",
       "nome_grp_despesa        0\n",
       "nome_element_despesa    0\n",
       "orcamento_inicial       0\n",
       "orcamento_atualizado    0\n",
       "orcamento_empenhado     0\n",
       "orcamento_realizado     0\n",
       "dtype: int64"
      ]
     },
     "metadata": {},
     "output_type": "display_data"
    }
   ],
   "source": [
    "display(df.isnull().sum())"
   ]
  },
  {
   "cell_type": "markdown",
   "id": "74779233-0bad-4b9d-81af-4cb32869789e",
   "metadata": {},
   "source": [
    "Como podemos ver não existe nenhum valor faltante. Em vista de que são dados do governo,percebemos os dados receberam um tratamento prévio, os valores que provavelmente seriam faltantes são substituidos por valores como \"Não cadastrado\", etc."
   ]
  },
  {
   "cell_type": "markdown",
   "id": "3434f3e6-76fd-4efa-a738-a63fab952f31",
   "metadata": {},
   "source": [
    "## 2.4 Casting de colunas"
   ]
  },
  {
   "cell_type": "markdown",
   "id": "266f6528-ea29-42b7-a0fb-6615dbe8083f",
   "metadata": {},
   "source": [
    "### 2.4.1 Verificação do formato das colunas"
   ]
  },
  {
   "cell_type": "code",
   "execution_count": 10,
   "id": "a6dd7796-c698-4d4a-b54e-f8d2fce1e3b0",
   "metadata": {},
   "outputs": [
    {
     "data": {
      "text/plain": [
       "exercicios               int64\n",
       "nome_orgao_sup          object\n",
       "nome_orgao_sub          object\n",
       "nome_unid_orcament      object\n",
       "nome_funcao             object\n",
       "nome_subfuncao          object\n",
       "nome_prog_orcament      object\n",
       "nome_acao               object\n",
       "nome_categ_econo        object\n",
       "nome_grp_despesa        object\n",
       "nome_element_despesa    object\n",
       "orcamento_inicial       object\n",
       "orcamento_atualizado    object\n",
       "orcamento_empenhado     object\n",
       "orcamento_realizado     object\n",
       "dtype: object"
      ]
     },
     "execution_count": 10,
     "metadata": {},
     "output_type": "execute_result"
    }
   ],
   "source": [
    "df.dtypes"
   ]
  },
  {
   "cell_type": "code",
   "execution_count": 11,
   "id": "dc6d380e-e234-4362-bae7-f999c560f521",
   "metadata": {},
   "outputs": [
    {
     "data": {
      "text/html": [
       "<div>\n",
       "<style scoped>\n",
       "    .dataframe tbody tr th:only-of-type {\n",
       "        vertical-align: middle;\n",
       "    }\n",
       "\n",
       "    .dataframe tbody tr th {\n",
       "        vertical-align: top;\n",
       "    }\n",
       "\n",
       "    .dataframe thead th {\n",
       "        text-align: right;\n",
       "    }\n",
       "</style>\n",
       "<table border=\"1\" class=\"dataframe\">\n",
       "  <thead>\n",
       "    <tr style=\"text-align: right;\">\n",
       "      <th></th>\n",
       "      <th>exercicios</th>\n",
       "      <th>nome_orgao_sup</th>\n",
       "      <th>nome_orgao_sub</th>\n",
       "      <th>nome_unid_orcament</th>\n",
       "      <th>nome_funcao</th>\n",
       "      <th>nome_subfuncao</th>\n",
       "      <th>nome_prog_orcament</th>\n",
       "      <th>nome_acao</th>\n",
       "      <th>nome_categ_econo</th>\n",
       "      <th>nome_grp_despesa</th>\n",
       "      <th>nome_element_despesa</th>\n",
       "      <th>orcamento_inicial</th>\n",
       "      <th>orcamento_atualizado</th>\n",
       "      <th>orcamento_empenhado</th>\n",
       "      <th>orcamento_realizado</th>\n",
       "    </tr>\n",
       "  </thead>\n",
       "  <tbody>\n",
       "    <tr>\n",
       "      <th>0</th>\n",
       "      <td>2020</td>\n",
       "      <td>Presidência da República</td>\n",
       "      <td>Presidência da República</td>\n",
       "      <td>FUNDO SOCIAL - FS</td>\n",
       "      <td>Encargos especiais</td>\n",
       "      <td>Outros encargos especiais</td>\n",
       "      <td>OPERACOES ESPECIAIS: OUTROS ENCARGOS ESPECIAIS</td>\n",
       "      <td>PROMOCAO DE INVESTIMENTOS NO BRASIL E NO EXTER...</td>\n",
       "      <td>DESPESAS DE CAPITAL</td>\n",
       "      <td>Inversões Financeiras</td>\n",
       "      <td>Não informado</td>\n",
       "      <td>10334929859,00</td>\n",
       "      <td>10334929859,00</td>\n",
       "      <td>0,00</td>\n",
       "      <td>0,00</td>\n",
       "    </tr>\n",
       "    <tr>\n",
       "      <th>1</th>\n",
       "      <td>2020</td>\n",
       "      <td>Presidência da República</td>\n",
       "      <td>Presidência da República</td>\n",
       "      <td>PRESIDENCIA DA REPUBLICA</td>\n",
       "      <td>Administração</td>\n",
       "      <td>Administração geral</td>\n",
       "      <td>SEGURANCA INSTITUCIONAL</td>\n",
       "      <td>IMPLEMENTACAO DO PROGRAMA DE PROTECAO INTEGRAD...</td>\n",
       "      <td>DESPESAS CORRENTES</td>\n",
       "      <td>Outras Despesas Correntes</td>\n",
       "      <td>Passagens e Despesas com Locomoção</td>\n",
       "      <td>42440,06</td>\n",
       "      <td>42440,06</td>\n",
       "      <td>41947,60</td>\n",
       "      <td>38425,50</td>\n",
       "    </tr>\n",
       "    <tr>\n",
       "      <th>2</th>\n",
       "      <td>2020</td>\n",
       "      <td>Presidência da República</td>\n",
       "      <td>Presidência da República</td>\n",
       "      <td>PRESIDENCIA DA REPUBLICA</td>\n",
       "      <td>Administração</td>\n",
       "      <td>Outros encargos especiais</td>\n",
       "      <td>PROGRAMA DE GESTAO E MANUTENCAO DO PODER EXECU...</td>\n",
       "      <td>CONTRIBUICAO DA UNIAO, DE SUAS AUTARQUIAS E FU...</td>\n",
       "      <td>DESPESAS CORRENTES</td>\n",
       "      <td>Pessoal e Encargos Sociais</td>\n",
       "      <td>Obrigações Patronais</td>\n",
       "      <td>178366,74</td>\n",
       "      <td>178366,74</td>\n",
       "      <td>178366,74</td>\n",
       "      <td>178366,74</td>\n",
       "    </tr>\n",
       "  </tbody>\n",
       "</table>\n",
       "</div>"
      ],
      "text/plain": [
       "   exercicios            nome_orgao_sup            nome_orgao_sub  \\\n",
       "0        2020  Presidência da República  Presidência da República   \n",
       "1        2020  Presidência da República  Presidência da República   \n",
       "2        2020  Presidência da República  Presidência da República   \n",
       "\n",
       "         nome_unid_orcament         nome_funcao             nome_subfuncao  \\\n",
       "0         FUNDO SOCIAL - FS  Encargos especiais  Outros encargos especiais   \n",
       "1  PRESIDENCIA DA REPUBLICA       Administração        Administração geral   \n",
       "2  PRESIDENCIA DA REPUBLICA       Administração  Outros encargos especiais   \n",
       "\n",
       "                                  nome_prog_orcament  \\\n",
       "0     OPERACOES ESPECIAIS: OUTROS ENCARGOS ESPECIAIS   \n",
       "1                            SEGURANCA INSTITUCIONAL   \n",
       "2  PROGRAMA DE GESTAO E MANUTENCAO DO PODER EXECU...   \n",
       "\n",
       "                                           nome_acao     nome_categ_econo  \\\n",
       "0  PROMOCAO DE INVESTIMENTOS NO BRASIL E NO EXTER...  DESPESAS DE CAPITAL   \n",
       "1  IMPLEMENTACAO DO PROGRAMA DE PROTECAO INTEGRAD...   DESPESAS CORRENTES   \n",
       "2  CONTRIBUICAO DA UNIAO, DE SUAS AUTARQUIAS E FU...   DESPESAS CORRENTES   \n",
       "\n",
       "             nome_grp_despesa                nome_element_despesa  \\\n",
       "0       Inversões Financeiras                       Não informado   \n",
       "1   Outras Despesas Correntes  Passagens e Despesas com Locomoção   \n",
       "2  Pessoal e Encargos Sociais                Obrigações Patronais   \n",
       "\n",
       "  orcamento_inicial orcamento_atualizado orcamento_empenhado  \\\n",
       "0    10334929859,00       10334929859,00                0,00   \n",
       "1          42440,06             42440,06            41947,60   \n",
       "2         178366,74            178366,74           178366,74   \n",
       "\n",
       "  orcamento_realizado  \n",
       "0                0,00  \n",
       "1            38425,50  \n",
       "2           178366,74  "
      ]
     },
     "metadata": {},
     "output_type": "display_data"
    }
   ],
   "source": [
    "display(df.head(3))"
   ]
  },
  {
   "cell_type": "markdown",
   "id": "f5966e31-4c8d-46df-89aa-22e87751a701",
   "metadata": {},
   "source": [
    "### 2.4.2 Tratamento dos formatos"
   ]
  },
  {
   "cell_type": "markdown",
   "id": "c59b8906-6eb9-4959-8b01-7fcca8e936b1",
   "metadata": {},
   "source": [
    "Remoção da vírgula presente nos valores das colunas numéricas que se referem a valores em dinheiro"
   ]
  },
  {
   "cell_type": "code",
   "execution_count": 12,
   "id": "7d3e2196-1406-45d2-9480-3d73752111b5",
   "metadata": {},
   "outputs": [],
   "source": [
    "df['exercicios'] = pd.to_datetime(df['exercicios'], format='%Y')\n",
    "df['orcamento_inicial'] = df['orcamento_inicial'].str.replace(',','.').astype(float)\n",
    "df['orcamento_atualizado'] = df['orcamento_atualizado'].str.replace(',','.').astype(float)\n",
    "df['orcamento_empenhado'] = df['orcamento_empenhado'].str.replace(',','.').astype(float)\n",
    "df['orcamento_realizado'] = df['orcamento_realizado'].str.replace(',','.').astype(float)"
   ]
  },
  {
   "cell_type": "markdown",
   "id": "91526d21-08e7-4acb-9f1e-6372567c1bb7",
   "metadata": {},
   "source": [
    "Agora após a remoção da vírgula, e o casting dos valores para float, podemos vizualizar o resultado no dataset"
   ]
  },
  {
   "cell_type": "code",
   "execution_count": 13,
   "id": "ddb2cdfa-1e51-4800-add6-e9d70eea81ed",
   "metadata": {},
   "outputs": [
    {
     "data": {
      "text/plain": [
       "exercicios              datetime64[ns]\n",
       "nome_orgao_sup                  object\n",
       "nome_orgao_sub                  object\n",
       "nome_unid_orcament              object\n",
       "nome_funcao                     object\n",
       "nome_subfuncao                  object\n",
       "nome_prog_orcament              object\n",
       "nome_acao                       object\n",
       "nome_categ_econo                object\n",
       "nome_grp_despesa                object\n",
       "nome_element_despesa            object\n",
       "orcamento_inicial              float64\n",
       "orcamento_atualizado           float64\n",
       "orcamento_empenhado            float64\n",
       "orcamento_realizado            float64\n",
       "dtype: object"
      ]
     },
     "execution_count": 13,
     "metadata": {},
     "output_type": "execute_result"
    }
   ],
   "source": [
    "df.dtypes"
   ]
  },
  {
   "cell_type": "markdown",
   "id": "99c02796-eff9-42be-a1f7-cb8fe169f6c1",
   "metadata": {},
   "source": [
    "## 2.5 Ordenando os dados"
   ]
  },
  {
   "cell_type": "code",
   "execution_count": 39,
   "id": "d415583a-bb6b-4376-9798-a142baea4bd4",
   "metadata": {},
   "outputs": [
    {
     "data": {
      "text/html": [
       "<div>\n",
       "<style scoped>\n",
       "    .dataframe tbody tr th:only-of-type {\n",
       "        vertical-align: middle;\n",
       "    }\n",
       "\n",
       "    .dataframe tbody tr th {\n",
       "        vertical-align: top;\n",
       "    }\n",
       "\n",
       "    .dataframe thead th {\n",
       "        text-align: right;\n",
       "    }\n",
       "</style>\n",
       "<table border=\"1\" class=\"dataframe\">\n",
       "  <thead>\n",
       "    <tr style=\"text-align: right;\">\n",
       "      <th></th>\n",
       "      <th>exercicios</th>\n",
       "      <th>nome_orgao_sup</th>\n",
       "      <th>nome_orgao_sub</th>\n",
       "      <th>nome_unid_orcament</th>\n",
       "      <th>nome_funcao</th>\n",
       "      <th>nome_subfuncao</th>\n",
       "      <th>nome_prog_orcament</th>\n",
       "      <th>nome_acao</th>\n",
       "      <th>nome_categ_econo</th>\n",
       "      <th>nome_grp_despesa</th>\n",
       "      <th>nome_element_despesa</th>\n",
       "      <th>orcamento_inicial</th>\n",
       "      <th>orcamento_atualizado</th>\n",
       "      <th>orcamento_empenhado</th>\n",
       "      <th>orcamento_realizado</th>\n",
       "    </tr>\n",
       "  </thead>\n",
       "  <tbody>\n",
       "    <tr>\n",
       "      <th>4363</th>\n",
       "      <td>2014-01-01</td>\n",
       "      <td>Ministério da Economia</td>\n",
       "      <td>Superintendência de Seguros Privados</td>\n",
       "      <td>SUPERINTENDENCIA DE SEGUROS PRIVADOS</td>\n",
       "      <td>Administração</td>\n",
       "      <td>Normatização e fiscalização</td>\n",
       "      <td>GESTAO DA POLITICA ECONOMICA E ESTABILIDADE DO...</td>\n",
       "      <td>FISCALIZACAO E REGULAMENTACAO DE MERCADOS DE S...</td>\n",
       "      <td>DESPESA CORRENTE</td>\n",
       "      <td>Outras Despesas Correntes</td>\n",
       "      <td>Passagens e Despesas com Locomoção</td>\n",
       "      <td>659360.09</td>\n",
       "      <td>659360.09</td>\n",
       "      <td>566830.37</td>\n",
       "      <td>482851.75</td>\n",
       "    </tr>\n",
       "    <tr>\n",
       "      <th>4351</th>\n",
       "      <td>2014-01-01</td>\n",
       "      <td>Ministério da Economia</td>\n",
       "      <td>Ministério da Economia - Unidades com vínculo ...</td>\n",
       "      <td>MINISTERIO DA ECONOMIA - ME</td>\n",
       "      <td>Administração</td>\n",
       "      <td>Normatização e fiscalização</td>\n",
       "      <td>GESTAO DA POLITICA ECONOMICA E ESTABILIDADE DO...</td>\n",
       "      <td>ACOMPANHAMENTO E CONTROLE DE ATIVIDADES ECONOM...</td>\n",
       "      <td>DESPESA CORRENTE</td>\n",
       "      <td>Outras Despesas Correntes</td>\n",
       "      <td>Indenizações e Restituições</td>\n",
       "      <td>1757.16</td>\n",
       "      <td>1757.16</td>\n",
       "      <td>1757.16</td>\n",
       "      <td>1757.16</td>\n",
       "    </tr>\n",
       "    <tr>\n",
       "      <th>4350</th>\n",
       "      <td>2014-01-01</td>\n",
       "      <td>Ministério da Economia</td>\n",
       "      <td>Ministério da Economia - Unidades com vínculo ...</td>\n",
       "      <td>MINISTERIO DA ECONOMIA - ME</td>\n",
       "      <td>Administração</td>\n",
       "      <td>Normatização e fiscalização</td>\n",
       "      <td>GESTAO DA POLITICA ECONOMICA E ESTABILIDADE DO...</td>\n",
       "      <td>ACOMPANHAMENTO E CONTROLE DE ATIVIDADES ECONOM...</td>\n",
       "      <td>DESPESA DE CAPITAL</td>\n",
       "      <td>Investimentos</td>\n",
       "      <td>Não informado</td>\n",
       "      <td>40000.00</td>\n",
       "      <td>40000.00</td>\n",
       "      <td>0.00</td>\n",
       "      <td>0.00</td>\n",
       "    </tr>\n",
       "    <tr>\n",
       "      <th>4361</th>\n",
       "      <td>2014-01-01</td>\n",
       "      <td>Ministério da Economia</td>\n",
       "      <td>Instituto Nacional do Seguro Social</td>\n",
       "      <td>INSTITUTO NACIONAL DO SEGURO SOCIAL</td>\n",
       "      <td>Previdência social</td>\n",
       "      <td>Tecnologia da informação</td>\n",
       "      <td>PREVIDENCIA SOCIAL</td>\n",
       "      <td>SERVICO DE PROCESSAMENTO DE DADOS DE BENEFICIO...</td>\n",
       "      <td>DESPESA CORRENTE</td>\n",
       "      <td>Outras Despesas Correntes</td>\n",
       "      <td>Não informado</td>\n",
       "      <td>-65644000.00</td>\n",
       "      <td>0.00</td>\n",
       "      <td>0.00</td>\n",
       "      <td>0.00</td>\n",
       "    </tr>\n",
       "    <tr>\n",
       "      <th>4360</th>\n",
       "      <td>2014-01-01</td>\n",
       "      <td>Ministério da Economia</td>\n",
       "      <td>Fundo Constitucional do Distrito Federal</td>\n",
       "      <td>FUNDO CONSTITUCIONAL DO DISTRITO FEDERAL-FCDF</td>\n",
       "      <td>Encargos especiais</td>\n",
       "      <td>Outras transferências</td>\n",
       "      <td>OPERACOES ESPECIAIS: TRANSFERENCIAS CONSTITUCI...</td>\n",
       "      <td>OUTROS BENEFICIOS DAS POLICIAS CIVIL E MILITAR...</td>\n",
       "      <td>DESPESA CORRENTE</td>\n",
       "      <td>Outras Despesas Correntes</td>\n",
       "      <td>Não informado</td>\n",
       "      <td>-12647000.00</td>\n",
       "      <td>0.00</td>\n",
       "      <td>0.00</td>\n",
       "      <td>0.00</td>\n",
       "    </tr>\n",
       "    <tr>\n",
       "      <th>...</th>\n",
       "      <td>...</td>\n",
       "      <td>...</td>\n",
       "      <td>...</td>\n",
       "      <td>...</td>\n",
       "      <td>...</td>\n",
       "      <td>...</td>\n",
       "      <td>...</td>\n",
       "      <td>...</td>\n",
       "      <td>...</td>\n",
       "      <td>...</td>\n",
       "      <td>...</td>\n",
       "      <td>...</td>\n",
       "      <td>...</td>\n",
       "      <td>...</td>\n",
       "      <td>...</td>\n",
       "    </tr>\n",
       "    <tr>\n",
       "      <th>8</th>\n",
       "      <td>2021-01-01</td>\n",
       "      <td>Presidência da República</td>\n",
       "      <td>Presidência da República</td>\n",
       "      <td>PRESIDENCIA DA REPUBLICA</td>\n",
       "      <td>Administração</td>\n",
       "      <td>Administração geral</td>\n",
       "      <td>BRASIL MODERNIZA</td>\n",
       "      <td>COORDENACAO , ELABORACAO E PROPOSICOES PARA MO...</td>\n",
       "      <td>DESPESAS CORRENTES</td>\n",
       "      <td>Outras Despesas Correntes</td>\n",
       "      <td>Não informado</td>\n",
       "      <td>1074875.00</td>\n",
       "      <td>1500000.00</td>\n",
       "      <td>0.00</td>\n",
       "      <td>0.00</td>\n",
       "    </tr>\n",
       "    <tr>\n",
       "      <th>7</th>\n",
       "      <td>2021-01-01</td>\n",
       "      <td>Presidência da República</td>\n",
       "      <td>Presidência da República</td>\n",
       "      <td>PRESIDENCIA DA REPUBLICA</td>\n",
       "      <td>Administração</td>\n",
       "      <td>Administração geral</td>\n",
       "      <td>BRASIL MODERNIZA</td>\n",
       "      <td>COORDENACAO , ELABORACAO E PROPOSICOES PARA MO...</td>\n",
       "      <td>DESPESAS CORRENTES</td>\n",
       "      <td>Outras Despesas Correntes</td>\n",
       "      <td>Diárias - Civil</td>\n",
       "      <td>4304.50</td>\n",
       "      <td>4304.50</td>\n",
       "      <td>3000.00</td>\n",
       "      <td>1843.82</td>\n",
       "    </tr>\n",
       "    <tr>\n",
       "      <th>6</th>\n",
       "      <td>2021-01-01</td>\n",
       "      <td>Presidência da República</td>\n",
       "      <td>Presidência da República</td>\n",
       "      <td>PRESIDENCIA DA REPUBLICA</td>\n",
       "      <td>Administração</td>\n",
       "      <td>Administração geral</td>\n",
       "      <td>BRASIL MODERNIZA</td>\n",
       "      <td>COORDENACAO , ELABORACAO E PROPOSICOES PARA MO...</td>\n",
       "      <td>DESPESAS CORRENTES</td>\n",
       "      <td>Outras Despesas Correntes</td>\n",
       "      <td>Outros Serviços de Terceiros - Pessoa Física</td>\n",
       "      <td>112720.00</td>\n",
       "      <td>112720.00</td>\n",
       "      <td>1000.00</td>\n",
       "      <td>0.00</td>\n",
       "    </tr>\n",
       "    <tr>\n",
       "      <th>15</th>\n",
       "      <td>2021-01-01</td>\n",
       "      <td>Presidência da República</td>\n",
       "      <td>Presidência da República</td>\n",
       "      <td>PRESIDENCIA DA REPUBLICA</td>\n",
       "      <td>Administração</td>\n",
       "      <td>Administração geral</td>\n",
       "      <td>SEGURANCA INSTITUCIONAL</td>\n",
       "      <td>IMPLANTACAO DO SISTEMA DE PROTECAO DAS INSTALA...</td>\n",
       "      <td>DESPESAS DE CAPITAL</td>\n",
       "      <td>Investimentos</td>\n",
       "      <td>Equipamentos e Material Permanente</td>\n",
       "      <td>4545577.76</td>\n",
       "      <td>4545577.76</td>\n",
       "      <td>4545577.76</td>\n",
       "      <td>0.00</td>\n",
       "    </tr>\n",
       "    <tr>\n",
       "      <th>13188</th>\n",
       "      <td>2021-01-01</td>\n",
       "      <td>Ministério da Educação</td>\n",
       "      <td>Fundação Universidade Federal do Amapá</td>\n",
       "      <td>FUNDACAO UNIVERSIDADE FEDERAL DO AMAPA</td>\n",
       "      <td>Educação</td>\n",
       "      <td>Ensino superior</td>\n",
       "      <td>EDUCACAO SUPERIOR - GRADUACAO, POS-GRADUACAO, ...</td>\n",
       "      <td>FOMENTO AS ACOES DE GRADUACAO, POS-GRADUACAO, ...</td>\n",
       "      <td>DESPESAS CORRENTES</td>\n",
       "      <td>Outras Despesas Correntes</td>\n",
       "      <td>Outros Serviços de Terceiros - Pessoa Física</td>\n",
       "      <td>84183.00</td>\n",
       "      <td>84183.00</td>\n",
       "      <td>84183.00</td>\n",
       "      <td>6400.00</td>\n",
       "    </tr>\n",
       "  </tbody>\n",
       "</table>\n",
       "<p>213685 rows × 15 columns</p>\n",
       "</div>"
      ],
      "text/plain": [
       "      exercicios            nome_orgao_sup  \\\n",
       "4363  2014-01-01    Ministério da Economia   \n",
       "4351  2014-01-01    Ministério da Economia   \n",
       "4350  2014-01-01    Ministério da Economia   \n",
       "4361  2014-01-01    Ministério da Economia   \n",
       "4360  2014-01-01    Ministério da Economia   \n",
       "...          ...                       ...   \n",
       "8     2021-01-01  Presidência da República   \n",
       "7     2021-01-01  Presidência da República   \n",
       "6     2021-01-01  Presidência da República   \n",
       "15    2021-01-01  Presidência da República   \n",
       "13188 2021-01-01    Ministério da Educação   \n",
       "\n",
       "                                          nome_orgao_sub  \\\n",
       "4363                Superintendência de Seguros Privados   \n",
       "4351   Ministério da Economia - Unidades com vínculo ...   \n",
       "4350   Ministério da Economia - Unidades com vínculo ...   \n",
       "4361                 Instituto Nacional do Seguro Social   \n",
       "4360            Fundo Constitucional do Distrito Federal   \n",
       "...                                                  ...   \n",
       "8                               Presidência da República   \n",
       "7                               Presidência da República   \n",
       "6                               Presidência da República   \n",
       "15                              Presidência da República   \n",
       "13188             Fundação Universidade Federal do Amapá   \n",
       "\n",
       "                                  nome_unid_orcament         nome_funcao  \\\n",
       "4363            SUPERINTENDENCIA DE SEGUROS PRIVADOS       Administração   \n",
       "4351                     MINISTERIO DA ECONOMIA - ME       Administração   \n",
       "4350                     MINISTERIO DA ECONOMIA - ME       Administração   \n",
       "4361             INSTITUTO NACIONAL DO SEGURO SOCIAL  Previdência social   \n",
       "4360   FUNDO CONSTITUCIONAL DO DISTRITO FEDERAL-FCDF  Encargos especiais   \n",
       "...                                              ...                 ...   \n",
       "8                           PRESIDENCIA DA REPUBLICA       Administração   \n",
       "7                           PRESIDENCIA DA REPUBLICA       Administração   \n",
       "6                           PRESIDENCIA DA REPUBLICA       Administração   \n",
       "15                          PRESIDENCIA DA REPUBLICA       Administração   \n",
       "13188         FUNDACAO UNIVERSIDADE FEDERAL DO AMAPA            Educação   \n",
       "\n",
       "                    nome_subfuncao  \\\n",
       "4363   Normatização e fiscalização   \n",
       "4351   Normatização e fiscalização   \n",
       "4350   Normatização e fiscalização   \n",
       "4361      Tecnologia da informação   \n",
       "4360         Outras transferências   \n",
       "...                            ...   \n",
       "8              Administração geral   \n",
       "7              Administração geral   \n",
       "6              Administração geral   \n",
       "15             Administração geral   \n",
       "13188              Ensino superior   \n",
       "\n",
       "                                      nome_prog_orcament  \\\n",
       "4363   GESTAO DA POLITICA ECONOMICA E ESTABILIDADE DO...   \n",
       "4351   GESTAO DA POLITICA ECONOMICA E ESTABILIDADE DO...   \n",
       "4350   GESTAO DA POLITICA ECONOMICA E ESTABILIDADE DO...   \n",
       "4361                                  PREVIDENCIA SOCIAL   \n",
       "4360   OPERACOES ESPECIAIS: TRANSFERENCIAS CONSTITUCI...   \n",
       "...                                                  ...   \n",
       "8                                       BRASIL MODERNIZA   \n",
       "7                                       BRASIL MODERNIZA   \n",
       "6                                       BRASIL MODERNIZA   \n",
       "15                               SEGURANCA INSTITUCIONAL   \n",
       "13188  EDUCACAO SUPERIOR - GRADUACAO, POS-GRADUACAO, ...   \n",
       "\n",
       "                                               nome_acao     nome_categ_econo  \\\n",
       "4363   FISCALIZACAO E REGULAMENTACAO DE MERCADOS DE S...     DESPESA CORRENTE   \n",
       "4351   ACOMPANHAMENTO E CONTROLE DE ATIVIDADES ECONOM...     DESPESA CORRENTE   \n",
       "4350   ACOMPANHAMENTO E CONTROLE DE ATIVIDADES ECONOM...   DESPESA DE CAPITAL   \n",
       "4361   SERVICO DE PROCESSAMENTO DE DADOS DE BENEFICIO...     DESPESA CORRENTE   \n",
       "4360   OUTROS BENEFICIOS DAS POLICIAS CIVIL E MILITAR...     DESPESA CORRENTE   \n",
       "...                                                  ...                  ...   \n",
       "8      COORDENACAO , ELABORACAO E PROPOSICOES PARA MO...   DESPESAS CORRENTES   \n",
       "7      COORDENACAO , ELABORACAO E PROPOSICOES PARA MO...   DESPESAS CORRENTES   \n",
       "6      COORDENACAO , ELABORACAO E PROPOSICOES PARA MO...   DESPESAS CORRENTES   \n",
       "15     IMPLANTACAO DO SISTEMA DE PROTECAO DAS INSTALA...  DESPESAS DE CAPITAL   \n",
       "13188  FOMENTO AS ACOES DE GRADUACAO, POS-GRADUACAO, ...   DESPESAS CORRENTES   \n",
       "\n",
       "                nome_grp_despesa  \\\n",
       "4363   Outras Despesas Correntes   \n",
       "4351   Outras Despesas Correntes   \n",
       "4350               Investimentos   \n",
       "4361   Outras Despesas Correntes   \n",
       "4360   Outras Despesas Correntes   \n",
       "...                          ...   \n",
       "8      Outras Despesas Correntes   \n",
       "7      Outras Despesas Correntes   \n",
       "6      Outras Despesas Correntes   \n",
       "15                 Investimentos   \n",
       "13188  Outras Despesas Correntes   \n",
       "\n",
       "                               nome_element_despesa  orcamento_inicial  \\\n",
       "4363             Passagens e Despesas com Locomoção          659360.09   \n",
       "4351                    Indenizações e Restituições            1757.16   \n",
       "4350                                  Não informado           40000.00   \n",
       "4361                                  Não informado       -65644000.00   \n",
       "4360                                  Não informado       -12647000.00   \n",
       "...                                             ...                ...   \n",
       "8                                     Não informado         1074875.00   \n",
       "7                                   Diárias - Civil            4304.50   \n",
       "6      Outros Serviços de Terceiros - Pessoa Física          112720.00   \n",
       "15               Equipamentos e Material Permanente         4545577.76   \n",
       "13188  Outros Serviços de Terceiros - Pessoa Física           84183.00   \n",
       "\n",
       "       orcamento_atualizado  orcamento_empenhado  orcamento_realizado  \n",
       "4363              659360.09            566830.37            482851.75  \n",
       "4351                1757.16              1757.16              1757.16  \n",
       "4350               40000.00                 0.00                 0.00  \n",
       "4361                   0.00                 0.00                 0.00  \n",
       "4360                   0.00                 0.00                 0.00  \n",
       "...                     ...                  ...                  ...  \n",
       "8                1500000.00                 0.00                 0.00  \n",
       "7                   4304.50              3000.00              1843.82  \n",
       "6                 112720.00              1000.00                 0.00  \n",
       "15               4545577.76           4545577.76                 0.00  \n",
       "13188              84183.00             84183.00              6400.00  \n",
       "\n",
       "[213685 rows x 15 columns]"
      ]
     },
     "metadata": {},
     "output_type": "display_data"
    }
   ],
   "source": [
    "# Ordenando os dados pelo ano \n",
    "df = df.sort_values(by=['exercicios'],ascending=True)\n",
    "display(df)"
   ]
  },
  {
   "cell_type": "markdown",
   "id": "02036469-d01c-4bbf-a3f5-0e5b46e4ea1b",
   "metadata": {},
   "source": [
    "# 3 Entendimento dos dados"
   ]
  },
  {
   "cell_type": "markdown",
   "id": "aea1c5c9-1e7c-4914-8610-afeb90973eb8",
   "metadata": {},
   "source": [
    "## 3.1 Colunas categóricas"
   ]
  },
  {
   "cell_type": "code",
   "execution_count": 15,
   "id": "a32d068e-3c60-46e3-b079-713303b50c24",
   "metadata": {},
   "outputs": [],
   "source": [
    "categoricas = ['nome_acao','nome_categ_econo','nome_grp_despesa','nome_element_despesa']"
   ]
  },
  {
   "cell_type": "code",
   "execution_count": 16,
   "id": "45a63027-3554-4e8f-a26d-b09eeb25c7a6",
   "metadata": {},
   "outputs": [
    {
     "data": {
      "text/plain": [
       "3585"
      ]
     },
     "execution_count": 16,
     "metadata": {},
     "output_type": "execute_result"
    }
   ],
   "source": [
    "df[categoricas[0]].value_counts().count()"
   ]
  },
  {
   "cell_type": "code",
   "execution_count": 17,
   "id": "335bdbe8-e6ba-4b45-a9df-84ec1d93ff18",
   "metadata": {},
   "outputs": [
    {
     "data": {
      "text/plain": [
       "ADMINISTRACAO DA UNIDADE                                                                                              16013\n",
       "FUNCIONAMENTO DE INSTITUICOES FEDERAIS DE ENSINO SUPERIOR                                                             10546\n",
       "ATIVOS CIVIS DA UNIAO                                                                                                  8713\n",
       "ASSISTENCIA MEDICA E ODONTOLOGICA AOS SERVIDORES CIVIS, EMPREGADOS, MILITARES E SEUS DEPENDENTES                       7394\n",
       "CAPACITACAO DE SERVIDORES PUBLICOS FEDERAIS EM PROCESSO DE QUALIFICACAO E REQUALIFICACAO                               7012\n",
       "                                                                                                                      ...  \n",
       "APOIO A IMPLANTACAO DO TRECHO SUL VILA DAS FLORES-JOAO FELIPE DO SISTEMA DE TRENS URBANOS DE FORTALEZA - CE               1\n",
       "CUMPRIMENTO DE OBRIGACOES DECORRENTES DA TRANSFERENCIA DO SISTEMA DE TRENS URBANOS DE SALVADOR                            1\n",
       "APARELHAMENTO DAS ENTIDADES DE PROTECAO E DEFESA CIVIL                                                                    1\n",
       "AQUISICAO DE AERONAVES DE TRANSPORTE MILITAR E DE REABASTECIMENTO EM VOO - PROJETO KC-X2                                  1\n",
       "PARTICIPACAO DA UNIAO NO CAPITAL DE NOVA ESTATAL CONTROLADORA DE ITAIPU BINACIONAL E A ELETROBRAS TERMONUCLEAR S.A        1\n",
       "Name: nome_acao, Length: 3585, dtype: int64"
      ]
     },
     "execution_count": 17,
     "metadata": {},
     "output_type": "execute_result"
    }
   ],
   "source": [
    "df[categoricas[0]].value_counts()"
   ]
  },
  {
   "cell_type": "markdown",
   "id": "7e9eb8d5-b721-4e62-a05f-e54fcd3b31d5",
   "metadata": {},
   "source": [
    "<font color='red'> Como podemos verificar, não é possível validar manualmente os valores de 'nome_acao', no entanto não foi verificado nenhum valor anormal nos máximos nem mínimos valores"
   ]
  },
  {
   "cell_type": "code",
   "execution_count": 18,
   "id": "28c4710f-5775-420f-91a4-c73507c2bce5",
   "metadata": {},
   "outputs": [
    {
     "data": {
      "text/plain": [
       "DESPESAS CORRENTES         151155\n",
       "DESPESAS DE CAPITAL         33400\n",
       "DESPESA CORRENTE            22730\n",
       "DESPESA DE CAPITAL           5862\n",
       "RESERVA DE CONTINGENCIA       537\n",
       "Inválido                        1\n",
       "Name: nome_categ_econo, dtype: int64"
      ]
     },
     "execution_count": 18,
     "metadata": {},
     "output_type": "execute_result"
    }
   ],
   "source": [
    "df[categoricas[1]].value_counts()"
   ]
  },
  {
   "cell_type": "code",
   "execution_count": 19,
   "id": "c578e9cc-959c-4fd7-ac6b-74adc3b87dfc",
   "metadata": {},
   "outputs": [
    {
     "data": {
      "text/plain": [
       "Outras Despesas Correntes                139890\n",
       "Investimentos                             37705\n",
       "Pessoal e Encargos Sociais                33705\n",
       "Inversões Financeiras                      1339\n",
       "Reserva de Contingência                     537\n",
       "Juros e Encargos da Dívida                  290\n",
       "Amortização/Refinanciamento da Dívida       218\n",
       "Inválido                                      1\n",
       "Name: nome_grp_despesa, dtype: int64"
      ]
     },
     "execution_count": 19,
     "metadata": {},
     "output_type": "execute_result"
    }
   ],
   "source": [
    "df[categoricas[2]].value_counts()"
   ]
  },
  {
   "cell_type": "code",
   "execution_count": 20,
   "id": "214ff513-9098-476d-b134-41452c714727",
   "metadata": {},
   "outputs": [
    {
     "data": {
      "text/plain": [
       "Não informado                                                       54422\n",
       "Outros Serviços de Terceiros - Pessoa Jurídica                      20905\n",
       "Despesas de Exercícios Anteriores                                   14147\n",
       "Material de Consumo                                                  8747\n",
       "Indenizações e Restituições                                          8692\n",
       "                                                                    ...  \n",
       "Aquisição de Títulos Representativos de Capital já Integralizado        4\n",
       "A Classificar                                                           3\n",
       "Arrendamento mercantil                                                  3\n",
       "Remuneração de Cotas de Fundos Autárquicos                              3\n",
       "Inválido                                                                1\n",
       "Name: nome_element_despesa, Length: 77, dtype: int64"
      ]
     },
     "execution_count": 20,
     "metadata": {},
     "output_type": "execute_result"
    }
   ],
   "source": [
    "df[categoricas[3]].value_counts()"
   ]
  },
  {
   "cell_type": "code",
   "execution_count": 21,
   "id": "2fcc5d2c-2739-4a62-aa71-991edb6a6284",
   "metadata": {},
   "outputs": [],
   "source": [
    "# Definir True apenas caso necessário verificar todos os valores manualmente\n",
    "rodar = False\n",
    "if rodar:\n",
    "    for dados in df[categoricas[3]].value_counts().index:\n",
    "        print(dados)"
   ]
  },
  {
   "cell_type": "markdown",
   "id": "73bcba15-4c89-422e-a131-98ec4c67b9cf",
   "metadata": {},
   "source": [
    "<font color='red'> Nas três colunas acima está presente um valor estranho :'Inválido'. Verifiquei manualmente as 77 colunas de 'nome_element_despesa', e existe apenas esse valor que é aparentemente errado"
   ]
  },
  {
   "cell_type": "code",
   "execution_count": 22,
   "id": "fdab590e-c463-4da4-81b0-74e2625deef1",
   "metadata": {},
   "outputs": [
    {
     "data": {
      "text/html": [
       "<div>\n",
       "<style scoped>\n",
       "    .dataframe tbody tr th:only-of-type {\n",
       "        vertical-align: middle;\n",
       "    }\n",
       "\n",
       "    .dataframe tbody tr th {\n",
       "        vertical-align: top;\n",
       "    }\n",
       "\n",
       "    .dataframe thead th {\n",
       "        text-align: right;\n",
       "    }\n",
       "</style>\n",
       "<table border=\"1\" class=\"dataframe\">\n",
       "  <thead>\n",
       "    <tr style=\"text-align: right;\">\n",
       "      <th></th>\n",
       "      <th>exercicios</th>\n",
       "      <th>nome_orgao_sup</th>\n",
       "      <th>nome_orgao_sub</th>\n",
       "      <th>nome_unid_orcament</th>\n",
       "      <th>nome_funcao</th>\n",
       "      <th>nome_subfuncao</th>\n",
       "      <th>nome_prog_orcament</th>\n",
       "      <th>nome_acao</th>\n",
       "      <th>nome_categ_econo</th>\n",
       "      <th>nome_grp_despesa</th>\n",
       "      <th>nome_element_despesa</th>\n",
       "      <th>orcamento_inicial</th>\n",
       "      <th>orcamento_atualizado</th>\n",
       "      <th>orcamento_empenhado</th>\n",
       "      <th>orcamento_realizado</th>\n",
       "    </tr>\n",
       "  </thead>\n",
       "  <tbody>\n",
       "    <tr>\n",
       "      <th>3846</th>\n",
       "      <td>2020-01-01</td>\n",
       "      <td>Ministério da Economia</td>\n",
       "      <td>Ministério da Economia - Unidades com vínculo ...</td>\n",
       "      <td>REC.SOB SUPERV. DO ME - DIVIDA PUB FED</td>\n",
       "      <td>Encargos especiais</td>\n",
       "      <td>Outros encargos especiais</td>\n",
       "      <td>OPERACOES ESPECIAIS: OUTROS ENCARGOS ESPECIAIS</td>\n",
       "      <td>ASSUNCAO E NOVACAO DE DIVIDAS DO FUNDO DE COMP...</td>\n",
       "      <td>Inválido</td>\n",
       "      <td>Inválido</td>\n",
       "      <td>Inválido</td>\n",
       "      <td>94000000.0</td>\n",
       "      <td>94000000.0</td>\n",
       "      <td>94000000.0</td>\n",
       "      <td>0.0</td>\n",
       "    </tr>\n",
       "  </tbody>\n",
       "</table>\n",
       "</div>"
      ],
      "text/plain": [
       "     exercicios          nome_orgao_sup  \\\n",
       "3846 2020-01-01  Ministério da Economia   \n",
       "\n",
       "                                         nome_orgao_sub  \\\n",
       "3846  Ministério da Economia - Unidades com vínculo ...   \n",
       "\n",
       "                          nome_unid_orcament         nome_funcao  \\\n",
       "3846  REC.SOB SUPERV. DO ME - DIVIDA PUB FED  Encargos especiais   \n",
       "\n",
       "                 nome_subfuncao  \\\n",
       "3846  Outros encargos especiais   \n",
       "\n",
       "                                  nome_prog_orcament  \\\n",
       "3846  OPERACOES ESPECIAIS: OUTROS ENCARGOS ESPECIAIS   \n",
       "\n",
       "                                              nome_acao nome_categ_econo  \\\n",
       "3846  ASSUNCAO E NOVACAO DE DIVIDAS DO FUNDO DE COMP...         Inválido   \n",
       "\n",
       "     nome_grp_despesa nome_element_despesa  orcamento_inicial  \\\n",
       "3846         Inválido             Inválido         94000000.0   \n",
       "\n",
       "      orcamento_atualizado  orcamento_empenhado  orcamento_realizado  \n",
       "3846            94000000.0           94000000.0                  0.0  "
      ]
     },
     "metadata": {},
     "output_type": "display_data"
    }
   ],
   "source": [
    "valor_invalido = df[(df[categoricas[3]] == 'Inválido')|(df[categoricas[2]] == 'Inválido')|(df[categoricas[1]] == 'Inválido')]\n",
    "display(valor_invalido)"
   ]
  },
  {
   "cell_type": "markdown",
   "id": "7a8e1039-7c06-4e16-9f84-bffe94fb6d1b",
   "metadata": {},
   "source": [
    "Ao verificar as colunas que tem esse valor presente, penso que é melhor não removê-lo "
   ]
  },
  {
   "cell_type": "code",
   "execution_count": 23,
   "id": "7ebef566-675e-4423-a92f-1f2cb7aa454b",
   "metadata": {},
   "outputs": [
    {
     "data": {
      "text/plain": [
       "3846    94000000.0\n",
       "Name: orcamento_inicial, dtype: float64"
      ]
     },
     "metadata": {},
     "output_type": "display_data"
    },
    {
     "data": {
      "text/plain": [
       "3846    94000000.0\n",
       "Name: orcamento_atualizado, dtype: float64"
      ]
     },
     "metadata": {},
     "output_type": "display_data"
    },
    {
     "data": {
      "text/plain": [
       "3846    94000000.0\n",
       "Name: orcamento_empenhado, dtype: float64"
      ]
     },
     "metadata": {},
     "output_type": "display_data"
    },
    {
     "data": {
      "text/plain": [
       "3846    0.0\n",
       "Name: orcamento_realizado, dtype: float64"
      ]
     },
     "metadata": {},
     "output_type": "display_data"
    }
   ],
   "source": [
    "display(valor_invalido.orcamento_inicial)\n",
    "display(valor_invalido.orcamento_atualizado)\n",
    "display(valor_invalido.orcamento_empenhado)\n",
    "display(valor_invalido.orcamento_realizado)"
   ]
  },
  {
   "cell_type": "markdown",
   "id": "83453d08-97fd-4bda-97bb-cf87e6870d33",
   "metadata": {},
   "source": [
    "Pois como vemos acima ele tinha um orçamento muito alto , 94 milhões de R$. Com isso, acredito que vale a pena estudar o motivo deste valor"
   ]
  },
  {
   "cell_type": "markdown",
   "id": "52caebf0-4adb-42e8-8c7d-81db830376ec",
   "metadata": {},
   "source": [
    "## 3.2 Colunas numéricas"
   ]
  },
  {
   "cell_type": "code",
   "execution_count": null,
   "id": "f83bcfd9-8b43-4015-97f5-99d177b07caf",
   "metadata": {},
   "outputs": [],
   "source": []
  },
  {
   "cell_type": "markdown",
   "id": "7bf47905-aa34-48ea-8e76-65310a4e1cb0",
   "metadata": {},
   "source": [
    "### código experimental, ignorar"
   ]
  },
  {
   "cell_type": "code",
   "execution_count": 24,
   "id": "59e64762-5440-4735-809c-85bc6e169f95",
   "metadata": {},
   "outputs": [],
   "source": [
    "numericas = ['orcamento_inicial','orcamento_atualizado','orcamento_empenhado','orcamento_realizado']"
   ]
  },
  {
   "cell_type": "code",
   "execution_count": 25,
   "id": "37ad89ea-3ed7-43bd-aa24-fb06a0f656fd",
   "metadata": {},
   "outputs": [],
   "source": [
    "lista_ministerios = df.nome_orgao_sup.value_counts().index.tolist()"
   ]
  },
  {
   "cell_type": "code",
   "execution_count": 51,
   "id": "b80da564-149d-4239-92d3-35f65f2d4b05",
   "metadata": {},
   "outputs": [],
   "source": [
    "lista_anos = []\n",
    "for val in df.exercicios.value_counts().index.tolist():\n",
    "    lista_anos.append(val.year)"
   ]
  },
  {
   "cell_type": "code",
   "execution_count": 52,
   "id": "0fcb2a55-fc8d-4280-93c7-2217b2f14ab0",
   "metadata": {},
   "outputs": [
    {
     "data": {
      "text/plain": [
       "[2014, 2015, 2020, 2016, 2019, 2017, 2018, 2021]"
      ]
     },
     "execution_count": 52,
     "metadata": {},
     "output_type": "execute_result"
    }
   ],
   "source": [
    "lista_anos"
   ]
  },
  {
   "cell_type": "code",
   "execution_count": 53,
   "id": "feb244d6-ff12-489f-be59-ed2342acb837",
   "metadata": {},
   "outputs": [],
   "source": [
    "lista_ministerios_df = pd.DataFrame(columns=lista_ministerios,index=lista_anos)"
   ]
  },
  {
   "cell_type": "code",
   "execution_count": 54,
   "id": "489f51b8-80ca-4e56-b51e-0117cf489288",
   "metadata": {},
   "outputs": [],
   "source": [
    "orcamento_inicial = df.copy()"
   ]
  },
  {
   "cell_type": "code",
   "execution_count": 55,
   "id": "88bba3fd-7033-425d-b13b-3b9c91ab217f",
   "metadata": {},
   "outputs": [],
   "source": [
    "orcamento_inicial = orcamento_inicial.groupby([\"nome_orgao_sup\",\"exercicios\"]).sum()\n",
    "orcamento_inicial = orcamento_inicial.fillna(0)"
   ]
  },
  {
   "cell_type": "code",
   "execution_count": 56,
   "id": "05b2d17b-5f95-4d13-929a-090c4d4813c1",
   "metadata": {},
   "outputs": [
    {
     "data": {
      "text/html": [
       "<div>\n",
       "<style scoped>\n",
       "    .dataframe tbody tr th:only-of-type {\n",
       "        vertical-align: middle;\n",
       "    }\n",
       "\n",
       "    .dataframe tbody tr th {\n",
       "        vertical-align: top;\n",
       "    }\n",
       "\n",
       "    .dataframe thead th {\n",
       "        text-align: right;\n",
       "    }\n",
       "</style>\n",
       "<table border=\"1\" class=\"dataframe\">\n",
       "  <thead>\n",
       "    <tr style=\"text-align: right;\">\n",
       "      <th></th>\n",
       "      <th>Ministério da Educação</th>\n",
       "      <th>Ministério da Economia</th>\n",
       "      <th>Ministério da Defesa</th>\n",
       "      <th>Ministério da Saúde</th>\n",
       "      <th>Ministério do Desenvolvimento Regional</th>\n",
       "      <th>Ministério da Infraestrutura</th>\n",
       "      <th>Ministério da Ciência, Tecnologia, Inovações e Comunicações</th>\n",
       "      <th>Ministério da Justiça e Segurança Pública</th>\n",
       "      <th>Ministério de Minas e Energia</th>\n",
       "      <th>Ministério da Agricultura, Pecuária e Abastecimento</th>\n",
       "      <th>Ministério do Turismo</th>\n",
       "      <th>Ministério do Meio Ambiente</th>\n",
       "      <th>Presidência da República</th>\n",
       "      <th>Ministério da Cidadania</th>\n",
       "      <th>Ministério do Planejamento, Desenvolvimento e Gestão</th>\n",
       "      <th>Ministério das Comunicações</th>\n",
       "      <th>Ministério das Relações Exteriores</th>\n",
       "      <th>Ministério do Esporte</th>\n",
       "      <th>Ministério das Cidades</th>\n",
       "      <th>Ministério da Mulher, Família e Direitos Humanos</th>\n",
       "      <th>Ministério da Cultura</th>\n",
       "      <th>Ministério da Indústria, Comércio Exterior e Serviços</th>\n",
       "      <th>Ministério do Desenvolvimento Agrário</th>\n",
       "      <th>Controladoria-Geral da União</th>\n",
       "      <th>Advocacia-Geral da União</th>\n",
       "      <th>Ministério do Trabalho</th>\n",
       "      <th>Ministério das Mulheres, Igualdade Racial, da Juventude e dos Direitos Humanos</th>\n",
       "      <th>Ministério do Trabalho e Emprego</th>\n",
       "      <th>Ministério da Pesca e Aquicultura</th>\n",
       "      <th>Ministério da Previdência Social</th>\n",
       "    </tr>\n",
       "  </thead>\n",
       "  <tbody>\n",
       "    <tr>\n",
       "      <th>2014</th>\n",
       "      <td>NaN</td>\n",
       "      <td>NaN</td>\n",
       "      <td>NaN</td>\n",
       "      <td>NaN</td>\n",
       "      <td>NaN</td>\n",
       "      <td>NaN</td>\n",
       "      <td>NaN</td>\n",
       "      <td>NaN</td>\n",
       "      <td>NaN</td>\n",
       "      <td>NaN</td>\n",
       "      <td>NaN</td>\n",
       "      <td>NaN</td>\n",
       "      <td>NaN</td>\n",
       "      <td>NaN</td>\n",
       "      <td>NaN</td>\n",
       "      <td>NaN</td>\n",
       "      <td>NaN</td>\n",
       "      <td>NaN</td>\n",
       "      <td>NaN</td>\n",
       "      <td>NaN</td>\n",
       "      <td>NaN</td>\n",
       "      <td>NaN</td>\n",
       "      <td>NaN</td>\n",
       "      <td>NaN</td>\n",
       "      <td>NaN</td>\n",
       "      <td>NaN</td>\n",
       "      <td>NaN</td>\n",
       "      <td>NaN</td>\n",
       "      <td>NaN</td>\n",
       "      <td>NaN</td>\n",
       "    </tr>\n",
       "    <tr>\n",
       "      <th>2015</th>\n",
       "      <td>NaN</td>\n",
       "      <td>NaN</td>\n",
       "      <td>NaN</td>\n",
       "      <td>NaN</td>\n",
       "      <td>NaN</td>\n",
       "      <td>NaN</td>\n",
       "      <td>NaN</td>\n",
       "      <td>NaN</td>\n",
       "      <td>NaN</td>\n",
       "      <td>NaN</td>\n",
       "      <td>NaN</td>\n",
       "      <td>NaN</td>\n",
       "      <td>NaN</td>\n",
       "      <td>NaN</td>\n",
       "      <td>NaN</td>\n",
       "      <td>NaN</td>\n",
       "      <td>NaN</td>\n",
       "      <td>NaN</td>\n",
       "      <td>NaN</td>\n",
       "      <td>NaN</td>\n",
       "      <td>NaN</td>\n",
       "      <td>NaN</td>\n",
       "      <td>NaN</td>\n",
       "      <td>NaN</td>\n",
       "      <td>NaN</td>\n",
       "      <td>NaN</td>\n",
       "      <td>NaN</td>\n",
       "      <td>NaN</td>\n",
       "      <td>NaN</td>\n",
       "      <td>NaN</td>\n",
       "    </tr>\n",
       "    <tr>\n",
       "      <th>2020</th>\n",
       "      <td>NaN</td>\n",
       "      <td>NaN</td>\n",
       "      <td>NaN</td>\n",
       "      <td>NaN</td>\n",
       "      <td>NaN</td>\n",
       "      <td>NaN</td>\n",
       "      <td>NaN</td>\n",
       "      <td>NaN</td>\n",
       "      <td>NaN</td>\n",
       "      <td>NaN</td>\n",
       "      <td>NaN</td>\n",
       "      <td>NaN</td>\n",
       "      <td>NaN</td>\n",
       "      <td>NaN</td>\n",
       "      <td>NaN</td>\n",
       "      <td>NaN</td>\n",
       "      <td>NaN</td>\n",
       "      <td>NaN</td>\n",
       "      <td>NaN</td>\n",
       "      <td>NaN</td>\n",
       "      <td>NaN</td>\n",
       "      <td>NaN</td>\n",
       "      <td>NaN</td>\n",
       "      <td>NaN</td>\n",
       "      <td>NaN</td>\n",
       "      <td>NaN</td>\n",
       "      <td>NaN</td>\n",
       "      <td>NaN</td>\n",
       "      <td>NaN</td>\n",
       "      <td>NaN</td>\n",
       "    </tr>\n",
       "    <tr>\n",
       "      <th>2016</th>\n",
       "      <td>NaN</td>\n",
       "      <td>NaN</td>\n",
       "      <td>NaN</td>\n",
       "      <td>NaN</td>\n",
       "      <td>NaN</td>\n",
       "      <td>NaN</td>\n",
       "      <td>NaN</td>\n",
       "      <td>NaN</td>\n",
       "      <td>NaN</td>\n",
       "      <td>NaN</td>\n",
       "      <td>NaN</td>\n",
       "      <td>NaN</td>\n",
       "      <td>NaN</td>\n",
       "      <td>NaN</td>\n",
       "      <td>NaN</td>\n",
       "      <td>NaN</td>\n",
       "      <td>NaN</td>\n",
       "      <td>NaN</td>\n",
       "      <td>NaN</td>\n",
       "      <td>NaN</td>\n",
       "      <td>NaN</td>\n",
       "      <td>NaN</td>\n",
       "      <td>NaN</td>\n",
       "      <td>NaN</td>\n",
       "      <td>NaN</td>\n",
       "      <td>NaN</td>\n",
       "      <td>NaN</td>\n",
       "      <td>NaN</td>\n",
       "      <td>NaN</td>\n",
       "      <td>NaN</td>\n",
       "    </tr>\n",
       "    <tr>\n",
       "      <th>2019</th>\n",
       "      <td>NaN</td>\n",
       "      <td>NaN</td>\n",
       "      <td>NaN</td>\n",
       "      <td>NaN</td>\n",
       "      <td>NaN</td>\n",
       "      <td>NaN</td>\n",
       "      <td>NaN</td>\n",
       "      <td>NaN</td>\n",
       "      <td>NaN</td>\n",
       "      <td>NaN</td>\n",
       "      <td>NaN</td>\n",
       "      <td>NaN</td>\n",
       "      <td>NaN</td>\n",
       "      <td>NaN</td>\n",
       "      <td>NaN</td>\n",
       "      <td>NaN</td>\n",
       "      <td>NaN</td>\n",
       "      <td>NaN</td>\n",
       "      <td>NaN</td>\n",
       "      <td>NaN</td>\n",
       "      <td>NaN</td>\n",
       "      <td>NaN</td>\n",
       "      <td>NaN</td>\n",
       "      <td>NaN</td>\n",
       "      <td>NaN</td>\n",
       "      <td>NaN</td>\n",
       "      <td>NaN</td>\n",
       "      <td>NaN</td>\n",
       "      <td>NaN</td>\n",
       "      <td>NaN</td>\n",
       "    </tr>\n",
       "    <tr>\n",
       "      <th>2017</th>\n",
       "      <td>NaN</td>\n",
       "      <td>NaN</td>\n",
       "      <td>NaN</td>\n",
       "      <td>NaN</td>\n",
       "      <td>NaN</td>\n",
       "      <td>NaN</td>\n",
       "      <td>NaN</td>\n",
       "      <td>NaN</td>\n",
       "      <td>NaN</td>\n",
       "      <td>NaN</td>\n",
       "      <td>NaN</td>\n",
       "      <td>NaN</td>\n",
       "      <td>NaN</td>\n",
       "      <td>NaN</td>\n",
       "      <td>NaN</td>\n",
       "      <td>NaN</td>\n",
       "      <td>NaN</td>\n",
       "      <td>NaN</td>\n",
       "      <td>NaN</td>\n",
       "      <td>NaN</td>\n",
       "      <td>NaN</td>\n",
       "      <td>NaN</td>\n",
       "      <td>NaN</td>\n",
       "      <td>NaN</td>\n",
       "      <td>NaN</td>\n",
       "      <td>NaN</td>\n",
       "      <td>NaN</td>\n",
       "      <td>NaN</td>\n",
       "      <td>NaN</td>\n",
       "      <td>NaN</td>\n",
       "    </tr>\n",
       "    <tr>\n",
       "      <th>2018</th>\n",
       "      <td>NaN</td>\n",
       "      <td>NaN</td>\n",
       "      <td>NaN</td>\n",
       "      <td>NaN</td>\n",
       "      <td>NaN</td>\n",
       "      <td>NaN</td>\n",
       "      <td>NaN</td>\n",
       "      <td>NaN</td>\n",
       "      <td>NaN</td>\n",
       "      <td>NaN</td>\n",
       "      <td>NaN</td>\n",
       "      <td>NaN</td>\n",
       "      <td>NaN</td>\n",
       "      <td>NaN</td>\n",
       "      <td>NaN</td>\n",
       "      <td>NaN</td>\n",
       "      <td>NaN</td>\n",
       "      <td>NaN</td>\n",
       "      <td>NaN</td>\n",
       "      <td>NaN</td>\n",
       "      <td>NaN</td>\n",
       "      <td>NaN</td>\n",
       "      <td>NaN</td>\n",
       "      <td>NaN</td>\n",
       "      <td>NaN</td>\n",
       "      <td>NaN</td>\n",
       "      <td>NaN</td>\n",
       "      <td>NaN</td>\n",
       "      <td>NaN</td>\n",
       "      <td>NaN</td>\n",
       "    </tr>\n",
       "    <tr>\n",
       "      <th>2021</th>\n",
       "      <td>NaN</td>\n",
       "      <td>NaN</td>\n",
       "      <td>NaN</td>\n",
       "      <td>NaN</td>\n",
       "      <td>NaN</td>\n",
       "      <td>NaN</td>\n",
       "      <td>NaN</td>\n",
       "      <td>NaN</td>\n",
       "      <td>NaN</td>\n",
       "      <td>NaN</td>\n",
       "      <td>NaN</td>\n",
       "      <td>NaN</td>\n",
       "      <td>NaN</td>\n",
       "      <td>NaN</td>\n",
       "      <td>NaN</td>\n",
       "      <td>NaN</td>\n",
       "      <td>NaN</td>\n",
       "      <td>NaN</td>\n",
       "      <td>NaN</td>\n",
       "      <td>NaN</td>\n",
       "      <td>NaN</td>\n",
       "      <td>NaN</td>\n",
       "      <td>NaN</td>\n",
       "      <td>NaN</td>\n",
       "      <td>NaN</td>\n",
       "      <td>NaN</td>\n",
       "      <td>NaN</td>\n",
       "      <td>NaN</td>\n",
       "      <td>NaN</td>\n",
       "      <td>NaN</td>\n",
       "    </tr>\n",
       "  </tbody>\n",
       "</table>\n",
       "</div>"
      ],
      "text/plain": [
       "     Ministério da Educação Ministério da Economia Ministério da Defesa  \\\n",
       "2014                    NaN                    NaN                  NaN   \n",
       "2015                    NaN                    NaN                  NaN   \n",
       "2020                    NaN                    NaN                  NaN   \n",
       "2016                    NaN                    NaN                  NaN   \n",
       "2019                    NaN                    NaN                  NaN   \n",
       "2017                    NaN                    NaN                  NaN   \n",
       "2018                    NaN                    NaN                  NaN   \n",
       "2021                    NaN                    NaN                  NaN   \n",
       "\n",
       "     Ministério da Saúde Ministério do Desenvolvimento Regional  \\\n",
       "2014                 NaN                                    NaN   \n",
       "2015                 NaN                                    NaN   \n",
       "2020                 NaN                                    NaN   \n",
       "2016                 NaN                                    NaN   \n",
       "2019                 NaN                                    NaN   \n",
       "2017                 NaN                                    NaN   \n",
       "2018                 NaN                                    NaN   \n",
       "2021                 NaN                                    NaN   \n",
       "\n",
       "     Ministério da Infraestrutura  \\\n",
       "2014                          NaN   \n",
       "2015                          NaN   \n",
       "2020                          NaN   \n",
       "2016                          NaN   \n",
       "2019                          NaN   \n",
       "2017                          NaN   \n",
       "2018                          NaN   \n",
       "2021                          NaN   \n",
       "\n",
       "     Ministério da Ciência, Tecnologia, Inovações e Comunicações  \\\n",
       "2014                                                NaN            \n",
       "2015                                                NaN            \n",
       "2020                                                NaN            \n",
       "2016                                                NaN            \n",
       "2019                                                NaN            \n",
       "2017                                                NaN            \n",
       "2018                                                NaN            \n",
       "2021                                                NaN            \n",
       "\n",
       "     Ministério da Justiça e Segurança Pública Ministério de Minas e Energia  \\\n",
       "2014                                       NaN                           NaN   \n",
       "2015                                       NaN                           NaN   \n",
       "2020                                       NaN                           NaN   \n",
       "2016                                       NaN                           NaN   \n",
       "2019                                       NaN                           NaN   \n",
       "2017                                       NaN                           NaN   \n",
       "2018                                       NaN                           NaN   \n",
       "2021                                       NaN                           NaN   \n",
       "\n",
       "     Ministério da Agricultura, Pecuária e Abastecimento  \\\n",
       "2014                                                NaN    \n",
       "2015                                                NaN    \n",
       "2020                                                NaN    \n",
       "2016                                                NaN    \n",
       "2019                                                NaN    \n",
       "2017                                                NaN    \n",
       "2018                                                NaN    \n",
       "2021                                                NaN    \n",
       "\n",
       "     Ministério do Turismo Ministério do Meio Ambiente  \\\n",
       "2014                   NaN                         NaN   \n",
       "2015                   NaN                         NaN   \n",
       "2020                   NaN                         NaN   \n",
       "2016                   NaN                         NaN   \n",
       "2019                   NaN                         NaN   \n",
       "2017                   NaN                         NaN   \n",
       "2018                   NaN                         NaN   \n",
       "2021                   NaN                         NaN   \n",
       "\n",
       "     Presidência da República Ministério da Cidadania  \\\n",
       "2014                      NaN                     NaN   \n",
       "2015                      NaN                     NaN   \n",
       "2020                      NaN                     NaN   \n",
       "2016                      NaN                     NaN   \n",
       "2019                      NaN                     NaN   \n",
       "2017                      NaN                     NaN   \n",
       "2018                      NaN                     NaN   \n",
       "2021                      NaN                     NaN   \n",
       "\n",
       "     Ministério do Planejamento, Desenvolvimento e Gestão  \\\n",
       "2014                                                NaN     \n",
       "2015                                                NaN     \n",
       "2020                                                NaN     \n",
       "2016                                                NaN     \n",
       "2019                                                NaN     \n",
       "2017                                                NaN     \n",
       "2018                                                NaN     \n",
       "2021                                                NaN     \n",
       "\n",
       "     Ministério das Comunicações Ministério das Relações Exteriores  \\\n",
       "2014                         NaN                                NaN   \n",
       "2015                         NaN                                NaN   \n",
       "2020                         NaN                                NaN   \n",
       "2016                         NaN                                NaN   \n",
       "2019                         NaN                                NaN   \n",
       "2017                         NaN                                NaN   \n",
       "2018                         NaN                                NaN   \n",
       "2021                         NaN                                NaN   \n",
       "\n",
       "     Ministério do Esporte Ministério das Cidades  \\\n",
       "2014                   NaN                    NaN   \n",
       "2015                   NaN                    NaN   \n",
       "2020                   NaN                    NaN   \n",
       "2016                   NaN                    NaN   \n",
       "2019                   NaN                    NaN   \n",
       "2017                   NaN                    NaN   \n",
       "2018                   NaN                    NaN   \n",
       "2021                   NaN                    NaN   \n",
       "\n",
       "     Ministério da Mulher, Família e Direitos Humanos Ministério da Cultura  \\\n",
       "2014                                              NaN                   NaN   \n",
       "2015                                              NaN                   NaN   \n",
       "2020                                              NaN                   NaN   \n",
       "2016                                              NaN                   NaN   \n",
       "2019                                              NaN                   NaN   \n",
       "2017                                              NaN                   NaN   \n",
       "2018                                              NaN                   NaN   \n",
       "2021                                              NaN                   NaN   \n",
       "\n",
       "     Ministério da Indústria, Comércio Exterior e Serviços  \\\n",
       "2014                                                NaN      \n",
       "2015                                                NaN      \n",
       "2020                                                NaN      \n",
       "2016                                                NaN      \n",
       "2019                                                NaN      \n",
       "2017                                                NaN      \n",
       "2018                                                NaN      \n",
       "2021                                                NaN      \n",
       "\n",
       "     Ministério do Desenvolvimento Agrário Controladoria-Geral da União  \\\n",
       "2014                                   NaN                          NaN   \n",
       "2015                                   NaN                          NaN   \n",
       "2020                                   NaN                          NaN   \n",
       "2016                                   NaN                          NaN   \n",
       "2019                                   NaN                          NaN   \n",
       "2017                                   NaN                          NaN   \n",
       "2018                                   NaN                          NaN   \n",
       "2021                                   NaN                          NaN   \n",
       "\n",
       "     Advocacia-Geral da União Ministério do Trabalho  \\\n",
       "2014                      NaN                    NaN   \n",
       "2015                      NaN                    NaN   \n",
       "2020                      NaN                    NaN   \n",
       "2016                      NaN                    NaN   \n",
       "2019                      NaN                    NaN   \n",
       "2017                      NaN                    NaN   \n",
       "2018                      NaN                    NaN   \n",
       "2021                      NaN                    NaN   \n",
       "\n",
       "     Ministério das Mulheres, Igualdade Racial, da Juventude e dos Direitos Humanos  \\\n",
       "2014                                                NaN                               \n",
       "2015                                                NaN                               \n",
       "2020                                                NaN                               \n",
       "2016                                                NaN                               \n",
       "2019                                                NaN                               \n",
       "2017                                                NaN                               \n",
       "2018                                                NaN                               \n",
       "2021                                                NaN                               \n",
       "\n",
       "     Ministério do Trabalho e Emprego Ministério da Pesca e Aquicultura  \\\n",
       "2014                              NaN                               NaN   \n",
       "2015                              NaN                               NaN   \n",
       "2020                              NaN                               NaN   \n",
       "2016                              NaN                               NaN   \n",
       "2019                              NaN                               NaN   \n",
       "2017                              NaN                               NaN   \n",
       "2018                              NaN                               NaN   \n",
       "2021                              NaN                               NaN   \n",
       "\n",
       "     Ministério da Previdência Social  \n",
       "2014                              NaN  \n",
       "2015                              NaN  \n",
       "2020                              NaN  \n",
       "2016                              NaN  \n",
       "2019                              NaN  \n",
       "2017                              NaN  \n",
       "2018                              NaN  \n",
       "2021                              NaN  "
      ]
     },
     "execution_count": 56,
     "metadata": {},
     "output_type": "execute_result"
    }
   ],
   "source": [
    "lista_ministerios_df"
   ]
  },
  {
   "cell_type": "code",
   "execution_count": 57,
   "id": "3659dc50-5953-4000-b2ad-bdcca8f93e84",
   "metadata": {},
   "outputs": [
    {
     "data": {
      "text/plain": [
       "nan"
      ]
     },
     "execution_count": 57,
     "metadata": {},
     "output_type": "execute_result"
    }
   ],
   "source": [
    "lista_ministerios_df['Ministério da Educação'][2014]"
   ]
  },
  {
   "cell_type": "code",
   "execution_count": 58,
   "id": "dc5eef90-331f-4ffe-a4db-0429016b033f",
   "metadata": {},
   "outputs": [
    {
     "ename": "KeyError",
     "evalue": "'2020-01-01'",
     "output_type": "error",
     "traceback": [
      "\u001b[0;31m---------------------------------------------------------------------------\u001b[0m",
      "\u001b[0;31mKeyError\u001b[0m                                  Traceback (most recent call last)",
      "\u001b[0;32m~/anaconda3/lib/python3.8/site-packages/pandas/_libs/index.pyx\u001b[0m in \u001b[0;36mpandas._libs.index.DatetimeEngine.get_loc\u001b[0;34m()\u001b[0m\n",
      "\u001b[0;32mpandas/_libs/hashtable_class_helper.pxi\u001b[0m in \u001b[0;36mpandas._libs.hashtable.Int64HashTable.get_item\u001b[0;34m()\u001b[0m\n",
      "\u001b[0;32mpandas/_libs/hashtable_class_helper.pxi\u001b[0m in \u001b[0;36mpandas._libs.hashtable.Int64HashTable.get_item\u001b[0;34m()\u001b[0m\n",
      "\u001b[0;31mKeyError\u001b[0m: 1577836800000000000",
      "\nDuring handling of the above exception, another exception occurred:\n",
      "\u001b[0;31mKeyError\u001b[0m                                  Traceback (most recent call last)",
      "\u001b[0;32m~/anaconda3/lib/python3.8/site-packages/pandas/core/indexes/base.py\u001b[0m in \u001b[0;36mget_loc\u001b[0;34m(self, key, method, tolerance)\u001b[0m\n\u001b[1;32m   3360\u001b[0m             \u001b[0;32mtry\u001b[0m\u001b[0;34m:\u001b[0m\u001b[0;34m\u001b[0m\u001b[0;34m\u001b[0m\u001b[0m\n\u001b[0;32m-> 3361\u001b[0;31m                 \u001b[0;32mreturn\u001b[0m \u001b[0mself\u001b[0m\u001b[0;34m.\u001b[0m\u001b[0m_engine\u001b[0m\u001b[0;34m.\u001b[0m\u001b[0mget_loc\u001b[0m\u001b[0;34m(\u001b[0m\u001b[0mcasted_key\u001b[0m\u001b[0;34m)\u001b[0m\u001b[0;34m\u001b[0m\u001b[0;34m\u001b[0m\u001b[0m\n\u001b[0m\u001b[1;32m   3362\u001b[0m             \u001b[0;32mexcept\u001b[0m \u001b[0mKeyError\u001b[0m \u001b[0;32mas\u001b[0m \u001b[0merr\u001b[0m\u001b[0;34m:\u001b[0m\u001b[0;34m\u001b[0m\u001b[0;34m\u001b[0m\u001b[0m\n",
      "\u001b[0;32m~/anaconda3/lib/python3.8/site-packages/pandas/_libs/index.pyx\u001b[0m in \u001b[0;36mpandas._libs.index.DatetimeEngine.get_loc\u001b[0;34m()\u001b[0m\n",
      "\u001b[0;32m~/anaconda3/lib/python3.8/site-packages/pandas/_libs/index.pyx\u001b[0m in \u001b[0;36mpandas._libs.index.DatetimeEngine.get_loc\u001b[0;34m()\u001b[0m\n",
      "\u001b[0;31mKeyError\u001b[0m: Timestamp('2020-01-01 00:00:00')",
      "\nThe above exception was the direct cause of the following exception:\n",
      "\u001b[0;31mKeyError\u001b[0m                                  Traceback (most recent call last)",
      "\u001b[0;32m~/anaconda3/lib/python3.8/site-packages/pandas/core/indexes/datetimes.py\u001b[0m in \u001b[0;36mget_loc\u001b[0;34m(self, key, method, tolerance)\u001b[0m\n\u001b[1;32m    702\u001b[0m         \u001b[0;32mtry\u001b[0m\u001b[0;34m:\u001b[0m\u001b[0;34m\u001b[0m\u001b[0;34m\u001b[0m\u001b[0m\n\u001b[0;32m--> 703\u001b[0;31m             \u001b[0;32mreturn\u001b[0m \u001b[0mIndex\u001b[0m\u001b[0;34m.\u001b[0m\u001b[0mget_loc\u001b[0m\u001b[0;34m(\u001b[0m\u001b[0mself\u001b[0m\u001b[0;34m,\u001b[0m \u001b[0mkey\u001b[0m\u001b[0;34m,\u001b[0m \u001b[0mmethod\u001b[0m\u001b[0;34m,\u001b[0m \u001b[0mtolerance\u001b[0m\u001b[0;34m)\u001b[0m\u001b[0;34m\u001b[0m\u001b[0;34m\u001b[0m\u001b[0m\n\u001b[0m\u001b[1;32m    704\u001b[0m         \u001b[0;32mexcept\u001b[0m \u001b[0mKeyError\u001b[0m \u001b[0;32mas\u001b[0m \u001b[0merr\u001b[0m\u001b[0;34m:\u001b[0m\u001b[0;34m\u001b[0m\u001b[0;34m\u001b[0m\u001b[0m\n",
      "\u001b[0;32m~/anaconda3/lib/python3.8/site-packages/pandas/core/indexes/base.py\u001b[0m in \u001b[0;36mget_loc\u001b[0;34m(self, key, method, tolerance)\u001b[0m\n\u001b[1;32m   3362\u001b[0m             \u001b[0;32mexcept\u001b[0m \u001b[0mKeyError\u001b[0m \u001b[0;32mas\u001b[0m \u001b[0merr\u001b[0m\u001b[0;34m:\u001b[0m\u001b[0;34m\u001b[0m\u001b[0;34m\u001b[0m\u001b[0m\n\u001b[0;32m-> 3363\u001b[0;31m                 \u001b[0;32mraise\u001b[0m \u001b[0mKeyError\u001b[0m\u001b[0;34m(\u001b[0m\u001b[0mkey\u001b[0m\u001b[0;34m)\u001b[0m \u001b[0;32mfrom\u001b[0m \u001b[0merr\u001b[0m\u001b[0;34m\u001b[0m\u001b[0;34m\u001b[0m\u001b[0m\n\u001b[0m\u001b[1;32m   3364\u001b[0m \u001b[0;34m\u001b[0m\u001b[0m\n",
      "\u001b[0;31mKeyError\u001b[0m: Timestamp('2020-01-01 00:00:00')",
      "\nThe above exception was the direct cause of the following exception:\n",
      "\u001b[0;31mKeyError\u001b[0m                                  Traceback (most recent call last)",
      "\u001b[0;32m/tmp/ipykernel_40815/1413174421.py\u001b[0m in \u001b[0;36m<module>\u001b[0;34m\u001b[0m\n\u001b[1;32m      1\u001b[0m \u001b[0;32mfor\u001b[0m \u001b[0mcol\u001b[0m \u001b[0;32min\u001b[0m \u001b[0mlista_ministerios_df\u001b[0m\u001b[0;34m.\u001b[0m\u001b[0mcolumns\u001b[0m\u001b[0;34m:\u001b[0m\u001b[0;34m\u001b[0m\u001b[0;34m\u001b[0m\u001b[0m\n\u001b[1;32m      2\u001b[0m     \u001b[0;32mfor\u001b[0m \u001b[0myear\u001b[0m \u001b[0;32min\u001b[0m \u001b[0mlista_anos\u001b[0m\u001b[0;34m:\u001b[0m\u001b[0;34m\u001b[0m\u001b[0;34m\u001b[0m\u001b[0m\n\u001b[0;32m----> 3\u001b[0;31m         \u001b[0mlista_ministerios_df\u001b[0m\u001b[0;34m[\u001b[0m\u001b[0mcol\u001b[0m\u001b[0;34m]\u001b[0m\u001b[0;34m[\u001b[0m\u001b[0myear\u001b[0m\u001b[0;34m]\u001b[0m \u001b[0;34m=\u001b[0m \u001b[0morcamento_inicial\u001b[0m\u001b[0;34m.\u001b[0m\u001b[0mloc\u001b[0m\u001b[0;34m[\u001b[0m\u001b[0mcol\u001b[0m\u001b[0;34m]\u001b[0m\u001b[0;34m.\u001b[0m\u001b[0morcamento_realizado\u001b[0m\u001b[0;34m[\u001b[0m\u001b[0;34mf'{year}-01-01'\u001b[0m\u001b[0;34m]\u001b[0m\u001b[0;34m\u001b[0m\u001b[0;34m\u001b[0m\u001b[0m\n\u001b[0m\u001b[1;32m      4\u001b[0m         \u001b[0;31m#print(orcamento_inicial.loc[col].orcamento_realizado[f'{year}-01-01'])\u001b[0m\u001b[0;34m\u001b[0m\u001b[0;34m\u001b[0m\u001b[0;34m\u001b[0m\u001b[0m\n\u001b[1;32m      5\u001b[0m \u001b[0;34m\u001b[0m\u001b[0m\n",
      "\u001b[0;32m~/anaconda3/lib/python3.8/site-packages/pandas/core/series.py\u001b[0m in \u001b[0;36m__getitem__\u001b[0;34m(self, key)\u001b[0m\n\u001b[1;32m    940\u001b[0m \u001b[0;34m\u001b[0m\u001b[0m\n\u001b[1;32m    941\u001b[0m         \u001b[0;32melif\u001b[0m \u001b[0mkey_is_scalar\u001b[0m\u001b[0;34m:\u001b[0m\u001b[0;34m\u001b[0m\u001b[0;34m\u001b[0m\u001b[0m\n\u001b[0;32m--> 942\u001b[0;31m             \u001b[0;32mreturn\u001b[0m \u001b[0mself\u001b[0m\u001b[0;34m.\u001b[0m\u001b[0m_get_value\u001b[0m\u001b[0;34m(\u001b[0m\u001b[0mkey\u001b[0m\u001b[0;34m)\u001b[0m\u001b[0;34m\u001b[0m\u001b[0;34m\u001b[0m\u001b[0m\n\u001b[0m\u001b[1;32m    943\u001b[0m \u001b[0;34m\u001b[0m\u001b[0m\n\u001b[1;32m    944\u001b[0m         \u001b[0;32mif\u001b[0m \u001b[0mis_hashable\u001b[0m\u001b[0;34m(\u001b[0m\u001b[0mkey\u001b[0m\u001b[0;34m)\u001b[0m\u001b[0;34m:\u001b[0m\u001b[0;34m\u001b[0m\u001b[0;34m\u001b[0m\u001b[0m\n",
      "\u001b[0;32m~/anaconda3/lib/python3.8/site-packages/pandas/core/series.py\u001b[0m in \u001b[0;36m_get_value\u001b[0;34m(self, label, takeable)\u001b[0m\n\u001b[1;32m   1049\u001b[0m \u001b[0;34m\u001b[0m\u001b[0m\n\u001b[1;32m   1050\u001b[0m         \u001b[0;31m# Similar to Index.get_value, but we do not fall back to positional\u001b[0m\u001b[0;34m\u001b[0m\u001b[0;34m\u001b[0m\u001b[0;34m\u001b[0m\u001b[0m\n\u001b[0;32m-> 1051\u001b[0;31m         \u001b[0mloc\u001b[0m \u001b[0;34m=\u001b[0m \u001b[0mself\u001b[0m\u001b[0;34m.\u001b[0m\u001b[0mindex\u001b[0m\u001b[0;34m.\u001b[0m\u001b[0mget_loc\u001b[0m\u001b[0;34m(\u001b[0m\u001b[0mlabel\u001b[0m\u001b[0;34m)\u001b[0m\u001b[0;34m\u001b[0m\u001b[0;34m\u001b[0m\u001b[0m\n\u001b[0m\u001b[1;32m   1052\u001b[0m         \u001b[0;32mreturn\u001b[0m \u001b[0mself\u001b[0m\u001b[0;34m.\u001b[0m\u001b[0mindex\u001b[0m\u001b[0;34m.\u001b[0m\u001b[0m_get_values_for_loc\u001b[0m\u001b[0;34m(\u001b[0m\u001b[0mself\u001b[0m\u001b[0;34m,\u001b[0m \u001b[0mloc\u001b[0m\u001b[0;34m,\u001b[0m \u001b[0mlabel\u001b[0m\u001b[0;34m)\u001b[0m\u001b[0;34m\u001b[0m\u001b[0;34m\u001b[0m\u001b[0m\n\u001b[1;32m   1053\u001b[0m \u001b[0;34m\u001b[0m\u001b[0m\n",
      "\u001b[0;32m~/anaconda3/lib/python3.8/site-packages/pandas/core/indexes/datetimes.py\u001b[0m in \u001b[0;36mget_loc\u001b[0;34m(self, key, method, tolerance)\u001b[0m\n\u001b[1;32m    703\u001b[0m             \u001b[0;32mreturn\u001b[0m \u001b[0mIndex\u001b[0m\u001b[0;34m.\u001b[0m\u001b[0mget_loc\u001b[0m\u001b[0;34m(\u001b[0m\u001b[0mself\u001b[0m\u001b[0;34m,\u001b[0m \u001b[0mkey\u001b[0m\u001b[0;34m,\u001b[0m \u001b[0mmethod\u001b[0m\u001b[0;34m,\u001b[0m \u001b[0mtolerance\u001b[0m\u001b[0;34m)\u001b[0m\u001b[0;34m\u001b[0m\u001b[0;34m\u001b[0m\u001b[0m\n\u001b[1;32m    704\u001b[0m         \u001b[0;32mexcept\u001b[0m \u001b[0mKeyError\u001b[0m \u001b[0;32mas\u001b[0m \u001b[0merr\u001b[0m\u001b[0;34m:\u001b[0m\u001b[0;34m\u001b[0m\u001b[0;34m\u001b[0m\u001b[0m\n\u001b[0;32m--> 705\u001b[0;31m             \u001b[0;32mraise\u001b[0m \u001b[0mKeyError\u001b[0m\u001b[0;34m(\u001b[0m\u001b[0morig_key\u001b[0m\u001b[0;34m)\u001b[0m \u001b[0;32mfrom\u001b[0m \u001b[0merr\u001b[0m\u001b[0;34m\u001b[0m\u001b[0;34m\u001b[0m\u001b[0m\n\u001b[0m\u001b[1;32m    706\u001b[0m \u001b[0;34m\u001b[0m\u001b[0m\n\u001b[1;32m    707\u001b[0m     \u001b[0;32mdef\u001b[0m \u001b[0m_maybe_cast_for_get_loc\u001b[0m\u001b[0;34m(\u001b[0m\u001b[0mself\u001b[0m\u001b[0;34m,\u001b[0m \u001b[0mkey\u001b[0m\u001b[0;34m)\u001b[0m \u001b[0;34m->\u001b[0m \u001b[0mTimestamp\u001b[0m\u001b[0;34m:\u001b[0m\u001b[0;34m\u001b[0m\u001b[0;34m\u001b[0m\u001b[0m\n",
      "\u001b[0;31mKeyError\u001b[0m: '2020-01-01'"
     ]
    }
   ],
   "source": [
    "\n",
    "for col in lista_ministerios_df.columns:\n",
    "    for year in lista_anos:\n",
    "        lista_ministerios_df[col][year] = orcamento_inicial.loc[col].orcamento_realizado[f'{year}-01-01']\n",
    "        #print(orcamento_inicial.loc[col].orcamento_realizado[f'{year}-01-01'])\n",
    "        "
   ]
  },
  {
   "cell_type": "code",
   "execution_count": null,
   "id": "094b4c34-583b-4288-a63b-b2f7ea389869",
   "metadata": {},
   "outputs": [],
   "source": [
    "orcamento_inicial"
   ]
  },
  {
   "cell_type": "code",
   "execution_count": null,
   "id": "76dad1c8-53d5-494f-b109-e727a9bb570e",
   "metadata": {},
   "outputs": [],
   "source": [
    "orcamento_inicial"
   ]
  },
  {
   "cell_type": "code",
   "execution_count": null,
   "id": "6fefc318-c8ce-4741-880a-86a7f178f01c",
   "metadata": {},
   "outputs": [],
   "source": [
    "teste = df.copy().reset_index()\n",
    "teste = df.melt(id_vars=['nome_orgao_sup', 'exercicios'])"
   ]
  },
  {
   "cell_type": "code",
   "execution_count": null,
   "id": "fe6a5581-7eb2-4fe7-9d86-8cc2142040ef",
   "metadata": {},
   "outputs": [],
   "source": [
    "teste"
   ]
  },
  {
   "cell_type": "code",
   "execution_count": null,
   "id": "3e2d2d54-c4b4-478c-8eb7-00af3f5f2ca4",
   "metadata": {},
   "outputs": [],
   "source": []
  }
 ],
 "metadata": {
  "kernelspec": {
   "display_name": "Python 3 (ipykernel)",
   "language": "python",
   "name": "python3"
  },
  "language_info": {
   "codemirror_mode": {
    "name": "ipython",
    "version": 3
   },
   "file_extension": ".py",
   "mimetype": "text/x-python",
   "name": "python",
   "nbconvert_exporter": "python",
   "pygments_lexer": "ipython3",
   "version": "3.8.12"
  }
 },
 "nbformat": 4,
 "nbformat_minor": 5
}
