{
 "cells": [
  {
   "cell_type": "markdown",
   "id": "743875d8-8721-41d8-a2d0-a92dfe2d3443",
   "metadata": {},
   "source": [
    "# Sanity Check "
   ]
  },
  {
   "cell_type": "code",
   "execution_count": 2,
   "id": "3012aa08-f68e-453e-aa1c-ed46c0047f82",
   "metadata": {},
   "outputs": [],
   "source": [
    "import os,sys\n",
    "import numpy as np\n",
    "import pandas as pd\n",
    "import seaborn as sns\n",
    "import matplotlib.pyplot as plt\n",
    "\n",
    "pd.set_option('display.max.columns',500)\n",
    "\n",
    "sys.path.append('..\\\\..')"
   ]
  },
  {
   "cell_type": "code",
   "execution_count": 3,
   "id": "05ec89c0-bbe9-48dc-9221-005c845c1c58",
   "metadata": {},
   "outputs": [],
   "source": [
    "DATA_PATH_ENTRADA = \"../../dados/1_dados_entrada\"\n",
    "DATA_PATH_TRATADOS = \"../../dados/2_dados_tratados\"\n",
    "DATA_PATH_ENTRADA_CSVS = os.path.join(DATA_PATH_ENTRADA, 'CSVs')"
   ]
  },
  {
   "cell_type": "code",
   "execution_count": 4,
   "id": "55a3745a-e54a-49c3-877d-f8ecd5ee5060",
   "metadata": {},
   "outputs": [],
   "source": [
    "lista_csvs = os.listdir(DATA_PATH_ENTRADA_CSVS)"
   ]
  },
  {
   "cell_type": "code",
   "execution_count": 5,
   "id": "abc549d4-4c91-46a2-8c03-e1c64a2d8cb8",
   "metadata": {},
   "outputs": [],
   "source": [
    "lista_concat = []\n",
    "for csv in lista_csvs:\n",
    "    df = pd.read_csv(os.path.join(DATA_PATH_ENTRADA_CSVS, csv), sep=';', encoding='latin-1')\n",
    "    lista_concat.append(df)\n",
    "\n",
    "df = pd.concat(lista_concat)"
   ]
  },
  {
   "cell_type": "markdown",
   "id": "eb7b43b1-2f1d-4a32-9655-f2a7c43ca05b",
   "metadata": {},
   "source": [
    "# 1 "
   ]
  },
  {
   "cell_type": "code",
   "execution_count": 10,
   "id": "7f906788-19f9-4d61-9a5e-65567915f261",
   "metadata": {},
   "outputs": [
    {
     "data": {
      "text/html": [
       "<div>\n",
       "<style scoped>\n",
       "    .dataframe tbody tr th:only-of-type {\n",
       "        vertical-align: middle;\n",
       "    }\n",
       "\n",
       "    .dataframe tbody tr th {\n",
       "        vertical-align: top;\n",
       "    }\n",
       "\n",
       "    .dataframe thead th {\n",
       "        text-align: right;\n",
       "    }\n",
       "</style>\n",
       "<table border=\"1\" class=\"dataframe\">\n",
       "  <thead>\n",
       "    <tr style=\"text-align: right;\">\n",
       "      <th></th>\n",
       "      <th>EXERCÍCIO</th>\n",
       "      <th>CÓDIGO ÓRGÃO SUPERIOR</th>\n",
       "      <th>NOME ÓRGÃO SUPERIOR</th>\n",
       "      <th>CÓDIGO ÓRGÃO SUBORDINADO</th>\n",
       "      <th>NOME ÓRGÃO SUBORDINADO</th>\n",
       "      <th>CÓDIGO UNIDADE ORÇAMENTÁRIA</th>\n",
       "      <th>NOME UNIDADE ORÇAMENTÁRIA</th>\n",
       "      <th>CÓDIGO FUNÇÃO</th>\n",
       "      <th>NOME FUNÇÃO</th>\n",
       "      <th>CÓDIGO SUBFUNÇÃO</th>\n",
       "      <th>NOME SUBFUNÇÃO</th>\n",
       "      <th>CÓDIGO PROGRAMA ORÇAMENTÁRIO</th>\n",
       "      <th>NOME PROGRAMA ORÇAMENTÁRIO</th>\n",
       "      <th>CÓDIGO AÇÃO</th>\n",
       "      <th>NOME AÇÃO</th>\n",
       "      <th>CÓDIGO CATEGORIA ECONÔMICA</th>\n",
       "      <th>NOME CATEGORIA ECONÔMICA</th>\n",
       "      <th>CÓDIGO GRUPO DE DESPESA</th>\n",
       "      <th>NOME GRUPO DE DESPESA</th>\n",
       "      <th>CÓDIGO ELEMENTO DE DESPESA</th>\n",
       "      <th>NOME ELEMENTO DE DESPESA</th>\n",
       "      <th>ORÇAMENTO INICIAL (R$)</th>\n",
       "      <th>ORÇAMENTO ATUALIZADO (R$)</th>\n",
       "      <th>ORÇAMENTO EMPENHADO (R$)</th>\n",
       "      <th>ORÇAMENTO REALIZADO (R$)</th>\n",
       "    </tr>\n",
       "  </thead>\n",
       "  <tbody>\n",
       "    <tr>\n",
       "      <th>13884</th>\n",
       "      <td>2014</td>\n",
       "      <td>26000</td>\n",
       "      <td>Ministério da Educação</td>\n",
       "      <td>26258</td>\n",
       "      <td>Universidade Tecnológica Federal do Paraná</td>\n",
       "      <td>26258</td>\n",
       "      <td>UNIVERSIDADE TECNOLOGICA FEDERAL DO PARANA</td>\n",
       "      <td>12</td>\n",
       "      <td>Educação</td>\n",
       "      <td>331</td>\n",
       "      <td>Proteção e benefícios ao trabalhador</td>\n",
       "      <td>2109</td>\n",
       "      <td>PROGRAMA DE GESTAO E MANUTENCAO DO MINISTERIO ...</td>\n",
       "      <td>2010</td>\n",
       "      <td>ASSISTENCIA PRE-ESCOLAR AOS DEPENDENTES DOS SE...</td>\n",
       "      <td>3</td>\n",
       "      <td>DESPESA CORRENTE</td>\n",
       "      <td>3</td>\n",
       "      <td>Outras Despesas Correntes</td>\n",
       "      <td>0</td>\n",
       "      <td>Não informado</td>\n",
       "      <td>0,00</td>\n",
       "      <td>10000,00</td>\n",
       "      <td>0,00</td>\n",
       "      <td>0,00</td>\n",
       "    </tr>\n",
       "    <tr>\n",
       "      <th>28588</th>\n",
       "      <td>2014</td>\n",
       "      <td>63000</td>\n",
       "      <td>Advocacia-Geral da União</td>\n",
       "      <td>63000</td>\n",
       "      <td>Advocacia-Geral da União - Unidades com víncul...</td>\n",
       "      <td>63101</td>\n",
       "      <td>ADVOCACIA-GERAL DA UNIAO - AGU</td>\n",
       "      <td>3</td>\n",
       "      <td>Essencial à justiça</td>\n",
       "      <td>92</td>\n",
       "      <td>Representação judicial e extrajudicial</td>\n",
       "      <td>2038</td>\n",
       "      <td>DEMOCRACIA E APERFEICOAMENTO DA GESTAO PUBLICA</td>\n",
       "      <td>2674</td>\n",
       "      <td>REPRESENTACAO JUDICIAL E EXTRAJUDICIAL DA UNIA...</td>\n",
       "      <td>4</td>\n",
       "      <td>DESPESA DE CAPITAL</td>\n",
       "      <td>4</td>\n",
       "      <td>Investimentos</td>\n",
       "      <td>39</td>\n",
       "      <td>Outros Serviços de Terceiros - Pessoa Jurídica</td>\n",
       "      <td>12318,40</td>\n",
       "      <td>12318,40</td>\n",
       "      <td>12318,40</td>\n",
       "      <td>12318,40</td>\n",
       "    </tr>\n",
       "    <tr>\n",
       "      <th>28630</th>\n",
       "      <td>2014</td>\n",
       "      <td>63000</td>\n",
       "      <td>Advocacia-Geral da União</td>\n",
       "      <td>63000</td>\n",
       "      <td>Advocacia-Geral da União - Unidades com víncul...</td>\n",
       "      <td>63101</td>\n",
       "      <td>ADVOCACIA-GERAL DA UNIAO - AGU</td>\n",
       "      <td>9</td>\n",
       "      <td>Previdência social</td>\n",
       "      <td>272</td>\n",
       "      <td>Previdência do regime estatutário</td>\n",
       "      <td>89</td>\n",
       "      <td>PREVIDENCIA DE INATIVOS E PENSIONISTAS DA UNIAO</td>\n",
       "      <td>0181</td>\n",
       "      <td>PAGAMENTO DE APOSENTADORIAS E PENSOES - SERVID...</td>\n",
       "      <td>3</td>\n",
       "      <td>DESPESA CORRENTE</td>\n",
       "      <td>1</td>\n",
       "      <td>Pessoal e Encargos Sociais</td>\n",
       "      <td>3</td>\n",
       "      <td>Pensões do RPPS e do militar</td>\n",
       "      <td>24186082,00</td>\n",
       "      <td>24186082,00</td>\n",
       "      <td>24186082,00</td>\n",
       "      <td>24186082,00</td>\n",
       "    </tr>\n",
       "    <tr>\n",
       "      <th>28629</th>\n",
       "      <td>2014</td>\n",
       "      <td>63000</td>\n",
       "      <td>Advocacia-Geral da União</td>\n",
       "      <td>63000</td>\n",
       "      <td>Advocacia-Geral da União - Unidades com víncul...</td>\n",
       "      <td>63101</td>\n",
       "      <td>ADVOCACIA-GERAL DA UNIAO - AGU</td>\n",
       "      <td>9</td>\n",
       "      <td>Previdência social</td>\n",
       "      <td>272</td>\n",
       "      <td>Previdência do regime estatutário</td>\n",
       "      <td>89</td>\n",
       "      <td>PREVIDENCIA DE INATIVOS E PENSIONISTAS DA UNIAO</td>\n",
       "      <td>0181</td>\n",
       "      <td>PAGAMENTO DE APOSENTADORIAS E PENSOES - SERVID...</td>\n",
       "      <td>3</td>\n",
       "      <td>DESPESA CORRENTE</td>\n",
       "      <td>1</td>\n",
       "      <td>Pessoal e Encargos Sociais</td>\n",
       "      <td>0</td>\n",
       "      <td>Não informado</td>\n",
       "      <td>-86717504,24</td>\n",
       "      <td>2062299,76</td>\n",
       "      <td>0,00</td>\n",
       "      <td>0,00</td>\n",
       "    </tr>\n",
       "    <tr>\n",
       "      <th>28640</th>\n",
       "      <td>2014</td>\n",
       "      <td>63000</td>\n",
       "      <td>Advocacia-Geral da União</td>\n",
       "      <td>63000</td>\n",
       "      <td>Advocacia-Geral da União - Unidades com víncul...</td>\n",
       "      <td>63101</td>\n",
       "      <td>ADVOCACIA-GERAL DA UNIAO - AGU</td>\n",
       "      <td>28</td>\n",
       "      <td>Encargos especiais</td>\n",
       "      <td>844</td>\n",
       "      <td>Serviço da dívida externa</td>\n",
       "      <td>906</td>\n",
       "      <td>OPERACOES ESPECIAIS: SERVICO DA DIVIDA EXTERNA...</td>\n",
       "      <td>0284</td>\n",
       "      <td>AMORTIZACAO E ENCARGOS DE FINANCIAMENTO DA DIV...</td>\n",
       "      <td>3</td>\n",
       "      <td>DESPESA CORRENTE</td>\n",
       "      <td>2</td>\n",
       "      <td>Juros e Encargos da Dívida</td>\n",
       "      <td>0</td>\n",
       "      <td>Não informado</td>\n",
       "      <td>187858,00</td>\n",
       "      <td>187858,00</td>\n",
       "      <td>0,00</td>\n",
       "      <td>0,00</td>\n",
       "    </tr>\n",
       "    <tr>\n",
       "      <th>...</th>\n",
       "      <td>...</td>\n",
       "      <td>...</td>\n",
       "      <td>...</td>\n",
       "      <td>...</td>\n",
       "      <td>...</td>\n",
       "      <td>...</td>\n",
       "      <td>...</td>\n",
       "      <td>...</td>\n",
       "      <td>...</td>\n",
       "      <td>...</td>\n",
       "      <td>...</td>\n",
       "      <td>...</td>\n",
       "      <td>...</td>\n",
       "      <td>...</td>\n",
       "      <td>...</td>\n",
       "      <td>...</td>\n",
       "      <td>...</td>\n",
       "      <td>...</td>\n",
       "      <td>...</td>\n",
       "      <td>...</td>\n",
       "      <td>...</td>\n",
       "      <td>...</td>\n",
       "      <td>...</td>\n",
       "      <td>...</td>\n",
       "      <td>...</td>\n",
       "    </tr>\n",
       "    <tr>\n",
       "      <th>24171</th>\n",
       "      <td>2021</td>\n",
       "      <td>81000</td>\n",
       "      <td>Ministério da Mulher, Família e Direitos Humanos</td>\n",
       "      <td>81000</td>\n",
       "      <td>Ministério da Mulher, Família e Direitos Human...</td>\n",
       "      <td>81101</td>\n",
       "      <td>MINISTERIO DOS DIREITOS HUMANOS - MDH</td>\n",
       "      <td>14</td>\n",
       "      <td>Direitos da cidadania</td>\n",
       "      <td>122</td>\n",
       "      <td>Administração geral</td>\n",
       "      <td>32</td>\n",
       "      <td>PROGRAMA DE GESTAO E MANUTENCAO DO PODER EXECU...</td>\n",
       "      <td>20TP</td>\n",
       "      <td>ATIVOS CIVIS DA UNIAO</td>\n",
       "      <td>3</td>\n",
       "      <td>DESPESAS CORRENTES</td>\n",
       "      <td>1</td>\n",
       "      <td>Pessoal e Encargos Sociais</td>\n",
       "      <td>16</td>\n",
       "      <td>Outras Despesas Variáveis - Pessoal Civil</td>\n",
       "      <td>685000,00</td>\n",
       "      <td>685000,00</td>\n",
       "      <td>615000,00</td>\n",
       "      <td>613289,80</td>\n",
       "    </tr>\n",
       "    <tr>\n",
       "      <th>24206</th>\n",
       "      <td>2021</td>\n",
       "      <td>81000</td>\n",
       "      <td>Ministério da Mulher, Família e Direitos Humanos</td>\n",
       "      <td>81000</td>\n",
       "      <td>Ministério da Mulher, Família e Direitos Human...</td>\n",
       "      <td>81101</td>\n",
       "      <td>MINISTERIO DOS DIREITOS HUMANOS - MDH</td>\n",
       "      <td>28</td>\n",
       "      <td>Encargos especiais</td>\n",
       "      <td>846</td>\n",
       "      <td>Outros encargos especiais</td>\n",
       "      <td>909</td>\n",
       "      <td>OPERACOES ESPECIAIS: OUTROS ENCARGOS ESPECIAIS</td>\n",
       "      <td>0536</td>\n",
       "      <td>BENEFICIOS E PENSOES INDENIZATORIAS DECORRENTE...</td>\n",
       "      <td>3</td>\n",
       "      <td>DESPESAS CORRENTES</td>\n",
       "      <td>3</td>\n",
       "      <td>Outras Despesas Correntes</td>\n",
       "      <td>91</td>\n",
       "      <td>Sentenças Judiciais</td>\n",
       "      <td>8847,00</td>\n",
       "      <td>8847,00</td>\n",
       "      <td>0,00</td>\n",
       "      <td>0,00</td>\n",
       "    </tr>\n",
       "    <tr>\n",
       "      <th>24207</th>\n",
       "      <td>2021</td>\n",
       "      <td>81000</td>\n",
       "      <td>Ministério da Mulher, Família e Direitos Humanos</td>\n",
       "      <td>81000</td>\n",
       "      <td>Ministério da Mulher, Família e Direitos Human...</td>\n",
       "      <td>81101</td>\n",
       "      <td>MINISTERIO DOS DIREITOS HUMANOS - MDH</td>\n",
       "      <td>28</td>\n",
       "      <td>Encargos especiais</td>\n",
       "      <td>846</td>\n",
       "      <td>Outros encargos especiais</td>\n",
       "      <td>909</td>\n",
       "      <td>OPERACOES ESPECIAIS: OUTROS ENCARGOS ESPECIAIS</td>\n",
       "      <td>0536</td>\n",
       "      <td>BENEFICIOS E PENSOES INDENIZATORIAS DECORRENTE...</td>\n",
       "      <td>3</td>\n",
       "      <td>DESPESAS CORRENTES</td>\n",
       "      <td>3</td>\n",
       "      <td>Outras Despesas Correntes</td>\n",
       "      <td>59</td>\n",
       "      <td>Pensões Especiais</td>\n",
       "      <td>72000,00</td>\n",
       "      <td>72000,00</td>\n",
       "      <td>72000,00</td>\n",
       "      <td>60000,00</td>\n",
       "    </tr>\n",
       "    <tr>\n",
       "      <th>24198</th>\n",
       "      <td>2021</td>\n",
       "      <td>81000</td>\n",
       "      <td>Ministério da Mulher, Família e Direitos Humanos</td>\n",
       "      <td>81000</td>\n",
       "      <td>Ministério da Mulher, Família e Direitos Human...</td>\n",
       "      <td>81101</td>\n",
       "      <td>MINISTERIO DOS DIREITOS HUMANOS - MDH</td>\n",
       "      <td>14</td>\n",
       "      <td>Direitos da cidadania</td>\n",
       "      <td>422</td>\n",
       "      <td>Direitos individuais, coletivos e difusos</td>\n",
       "      <td>5034</td>\n",
       "      <td>PROTECAO A VIDA, FORTALECIMENTO DA FAMILIA, PR...</td>\n",
       "      <td>218B</td>\n",
       "      <td>POLITICAS DE IGUALDADE E ENFRENTAMENTO A VIOLE...</td>\n",
       "      <td>3</td>\n",
       "      <td>DESPESAS CORRENTES</td>\n",
       "      <td>3</td>\n",
       "      <td>Outras Despesas Correntes</td>\n",
       "      <td>41</td>\n",
       "      <td>Contribuições</td>\n",
       "      <td>700000,00</td>\n",
       "      <td>700000,00</td>\n",
       "      <td>250000,00</td>\n",
       "      <td>0,00</td>\n",
       "    </tr>\n",
       "    <tr>\n",
       "      <th>5438</th>\n",
       "      <td>2021</td>\n",
       "      <td>26000</td>\n",
       "      <td>Ministério da Educação</td>\n",
       "      <td>26252</td>\n",
       "      <td>Universidade Federal de Campina Grande</td>\n",
       "      <td>26252</td>\n",
       "      <td>UNIVERSIDADE FEDERAL DE CAMPINA GRANDE</td>\n",
       "      <td>12</td>\n",
       "      <td>Educação</td>\n",
       "      <td>128</td>\n",
       "      <td>Formação de recursos humanos</td>\n",
       "      <td>32</td>\n",
       "      <td>PROGRAMA DE GESTAO E MANUTENCAO DO PODER EXECU...</td>\n",
       "      <td>4572</td>\n",
       "      <td>CAPACITACAO DE SERVIDORES PUBLICOS FEDERAIS EM...</td>\n",
       "      <td>3</td>\n",
       "      <td>DESPESAS CORRENTES</td>\n",
       "      <td>3</td>\n",
       "      <td>Outras Despesas Correntes</td>\n",
       "      <td>0</td>\n",
       "      <td>Não informado</td>\n",
       "      <td>21206,78</td>\n",
       "      <td>21206,78</td>\n",
       "      <td>0,00</td>\n",
       "      <td>0,00</td>\n",
       "    </tr>\n",
       "  </tbody>\n",
       "</table>\n",
       "<p>213685 rows × 25 columns</p>\n",
       "</div>"
      ],
      "text/plain": [
       "       EXERCÍCIO  CÓDIGO ÓRGÃO SUPERIOR  \\\n",
       "13884       2014                  26000   \n",
       "28588       2014                  63000   \n",
       "28630       2014                  63000   \n",
       "28629       2014                  63000   \n",
       "28640       2014                  63000   \n",
       "...          ...                    ...   \n",
       "24171       2021                  81000   \n",
       "24206       2021                  81000   \n",
       "24207       2021                  81000   \n",
       "24198       2021                  81000   \n",
       "5438        2021                  26000   \n",
       "\n",
       "                                    NOME ÓRGÃO SUPERIOR  \\\n",
       "13884                            Ministério da Educação   \n",
       "28588                          Advocacia-Geral da União   \n",
       "28630                          Advocacia-Geral da União   \n",
       "28629                          Advocacia-Geral da União   \n",
       "28640                          Advocacia-Geral da União   \n",
       "...                                                 ...   \n",
       "24171  Ministério da Mulher, Família e Direitos Humanos   \n",
       "24206  Ministério da Mulher, Família e Direitos Humanos   \n",
       "24207  Ministério da Mulher, Família e Direitos Humanos   \n",
       "24198  Ministério da Mulher, Família e Direitos Humanos   \n",
       "5438                             Ministério da Educação   \n",
       "\n",
       "       CÓDIGO ÓRGÃO SUBORDINADO  \\\n",
       "13884                     26258   \n",
       "28588                     63000   \n",
       "28630                     63000   \n",
       "28629                     63000   \n",
       "28640                     63000   \n",
       "...                         ...   \n",
       "24171                     81000   \n",
       "24206                     81000   \n",
       "24207                     81000   \n",
       "24198                     81000   \n",
       "5438                      26252   \n",
       "\n",
       "                                  NOME ÓRGÃO SUBORDINADO  \\\n",
       "13884         Universidade Tecnológica Federal do Paraná   \n",
       "28588  Advocacia-Geral da União - Unidades com víncul...   \n",
       "28630  Advocacia-Geral da União - Unidades com víncul...   \n",
       "28629  Advocacia-Geral da União - Unidades com víncul...   \n",
       "28640  Advocacia-Geral da União - Unidades com víncul...   \n",
       "...                                                  ...   \n",
       "24171  Ministério da Mulher, Família e Direitos Human...   \n",
       "24206  Ministério da Mulher, Família e Direitos Human...   \n",
       "24207  Ministério da Mulher, Família e Direitos Human...   \n",
       "24198  Ministério da Mulher, Família e Direitos Human...   \n",
       "5438              Universidade Federal de Campina Grande   \n",
       "\n",
       "       CÓDIGO UNIDADE ORÇAMENTÁRIA  \\\n",
       "13884                        26258   \n",
       "28588                        63101   \n",
       "28630                        63101   \n",
       "28629                        63101   \n",
       "28640                        63101   \n",
       "...                            ...   \n",
       "24171                        81101   \n",
       "24206                        81101   \n",
       "24207                        81101   \n",
       "24198                        81101   \n",
       "5438                         26252   \n",
       "\n",
       "                        NOME UNIDADE ORÇAMENTÁRIA  CÓDIGO FUNÇÃO  \\\n",
       "13884  UNIVERSIDADE TECNOLOGICA FEDERAL DO PARANA             12   \n",
       "28588              ADVOCACIA-GERAL DA UNIAO - AGU              3   \n",
       "28630              ADVOCACIA-GERAL DA UNIAO - AGU              9   \n",
       "28629              ADVOCACIA-GERAL DA UNIAO - AGU              9   \n",
       "28640              ADVOCACIA-GERAL DA UNIAO - AGU             28   \n",
       "...                                           ...            ...   \n",
       "24171       MINISTERIO DOS DIREITOS HUMANOS - MDH             14   \n",
       "24206       MINISTERIO DOS DIREITOS HUMANOS - MDH             28   \n",
       "24207       MINISTERIO DOS DIREITOS HUMANOS - MDH             28   \n",
       "24198       MINISTERIO DOS DIREITOS HUMANOS - MDH             14   \n",
       "5438       UNIVERSIDADE FEDERAL DE CAMPINA GRANDE             12   \n",
       "\n",
       "                 NOME FUNÇÃO  CÓDIGO SUBFUNÇÃO  \\\n",
       "13884               Educação               331   \n",
       "28588    Essencial à justiça                92   \n",
       "28630     Previdência social               272   \n",
       "28629     Previdência social               272   \n",
       "28640     Encargos especiais               844   \n",
       "...                      ...               ...   \n",
       "24171  Direitos da cidadania               122   \n",
       "24206     Encargos especiais               846   \n",
       "24207     Encargos especiais               846   \n",
       "24198  Direitos da cidadania               422   \n",
       "5438                Educação               128   \n",
       "\n",
       "                                  NOME SUBFUNÇÃO  \\\n",
       "13884       Proteção e benefícios ao trabalhador   \n",
       "28588     Representação judicial e extrajudicial   \n",
       "28630          Previdência do regime estatutário   \n",
       "28629          Previdência do regime estatutário   \n",
       "28640                  Serviço da dívida externa   \n",
       "...                                          ...   \n",
       "24171                        Administração geral   \n",
       "24206                  Outros encargos especiais   \n",
       "24207                  Outros encargos especiais   \n",
       "24198  Direitos individuais, coletivos e difusos   \n",
       "5438                Formação de recursos humanos   \n",
       "\n",
       "       CÓDIGO PROGRAMA ORÇAMENTÁRIO  \\\n",
       "13884                          2109   \n",
       "28588                          2038   \n",
       "28630                            89   \n",
       "28629                            89   \n",
       "28640                           906   \n",
       "...                             ...   \n",
       "24171                            32   \n",
       "24206                           909   \n",
       "24207                           909   \n",
       "24198                          5034   \n",
       "5438                             32   \n",
       "\n",
       "                              NOME PROGRAMA ORÇAMENTÁRIO CÓDIGO AÇÃO  \\\n",
       "13884  PROGRAMA DE GESTAO E MANUTENCAO DO MINISTERIO ...        2010   \n",
       "28588     DEMOCRACIA E APERFEICOAMENTO DA GESTAO PUBLICA        2674   \n",
       "28630    PREVIDENCIA DE INATIVOS E PENSIONISTAS DA UNIAO        0181   \n",
       "28629    PREVIDENCIA DE INATIVOS E PENSIONISTAS DA UNIAO        0181   \n",
       "28640  OPERACOES ESPECIAIS: SERVICO DA DIVIDA EXTERNA...        0284   \n",
       "...                                                  ...         ...   \n",
       "24171  PROGRAMA DE GESTAO E MANUTENCAO DO PODER EXECU...        20TP   \n",
       "24206     OPERACOES ESPECIAIS: OUTROS ENCARGOS ESPECIAIS        0536   \n",
       "24207     OPERACOES ESPECIAIS: OUTROS ENCARGOS ESPECIAIS        0536   \n",
       "24198  PROTECAO A VIDA, FORTALECIMENTO DA FAMILIA, PR...        218B   \n",
       "5438   PROGRAMA DE GESTAO E MANUTENCAO DO PODER EXECU...        4572   \n",
       "\n",
       "                                               NOME AÇÃO  \\\n",
       "13884  ASSISTENCIA PRE-ESCOLAR AOS DEPENDENTES DOS SE...   \n",
       "28588  REPRESENTACAO JUDICIAL E EXTRAJUDICIAL DA UNIA...   \n",
       "28630  PAGAMENTO DE APOSENTADORIAS E PENSOES - SERVID...   \n",
       "28629  PAGAMENTO DE APOSENTADORIAS E PENSOES - SERVID...   \n",
       "28640  AMORTIZACAO E ENCARGOS DE FINANCIAMENTO DA DIV...   \n",
       "...                                                  ...   \n",
       "24171                              ATIVOS CIVIS DA UNIAO   \n",
       "24206  BENEFICIOS E PENSOES INDENIZATORIAS DECORRENTE...   \n",
       "24207  BENEFICIOS E PENSOES INDENIZATORIAS DECORRENTE...   \n",
       "24198  POLITICAS DE IGUALDADE E ENFRENTAMENTO A VIOLE...   \n",
       "5438   CAPACITACAO DE SERVIDORES PUBLICOS FEDERAIS EM...   \n",
       "\n",
       "      CÓDIGO CATEGORIA ECONÔMICA NOME CATEGORIA ECONÔMICA  \\\n",
       "13884                          3         DESPESA CORRENTE   \n",
       "28588                          4       DESPESA DE CAPITAL   \n",
       "28630                          3         DESPESA CORRENTE   \n",
       "28629                          3         DESPESA CORRENTE   \n",
       "28640                          3         DESPESA CORRENTE   \n",
       "...                          ...                      ...   \n",
       "24171                          3       DESPESAS CORRENTES   \n",
       "24206                          3       DESPESAS CORRENTES   \n",
       "24207                          3       DESPESAS CORRENTES   \n",
       "24198                          3       DESPESAS CORRENTES   \n",
       "5438                           3       DESPESAS CORRENTES   \n",
       "\n",
       "      CÓDIGO GRUPO DE DESPESA       NOME GRUPO DE DESPESA  \\\n",
       "13884                       3   Outras Despesas Correntes   \n",
       "28588                       4               Investimentos   \n",
       "28630                       1  Pessoal e Encargos Sociais   \n",
       "28629                       1  Pessoal e Encargos Sociais   \n",
       "28640                       2  Juros e Encargos da Dívida   \n",
       "...                       ...                         ...   \n",
       "24171                       1  Pessoal e Encargos Sociais   \n",
       "24206                       3   Outras Despesas Correntes   \n",
       "24207                       3   Outras Despesas Correntes   \n",
       "24198                       3   Outras Despesas Correntes   \n",
       "5438                        3   Outras Despesas Correntes   \n",
       "\n",
       "       CÓDIGO ELEMENTO DE DESPESA  \\\n",
       "13884                           0   \n",
       "28588                          39   \n",
       "28630                           3   \n",
       "28629                           0   \n",
       "28640                           0   \n",
       "...                           ...   \n",
       "24171                          16   \n",
       "24206                          91   \n",
       "24207                          59   \n",
       "24198                          41   \n",
       "5438                            0   \n",
       "\n",
       "                             NOME ELEMENTO DE DESPESA ORÇAMENTO INICIAL (R$)  \\\n",
       "13884                                   Não informado                   0,00   \n",
       "28588  Outros Serviços de Terceiros - Pessoa Jurídica               12318,40   \n",
       "28630                    Pensões do RPPS e do militar            24186082,00   \n",
       "28629                                   Não informado           -86717504,24   \n",
       "28640                                   Não informado              187858,00   \n",
       "...                                               ...                    ...   \n",
       "24171       Outras Despesas Variáveis - Pessoal Civil              685000,00   \n",
       "24206                             Sentenças Judiciais                8847,00   \n",
       "24207                               Pensões Especiais               72000,00   \n",
       "24198                                   Contribuições              700000,00   \n",
       "5438                                    Não informado               21206,78   \n",
       "\n",
       "      ORÇAMENTO ATUALIZADO (R$) ORÇAMENTO EMPENHADO (R$)  \\\n",
       "13884                  10000,00                     0,00   \n",
       "28588                  12318,40                 12318,40   \n",
       "28630               24186082,00              24186082,00   \n",
       "28629                2062299,76                     0,00   \n",
       "28640                 187858,00                     0,00   \n",
       "...                         ...                      ...   \n",
       "24171                 685000,00                615000,00   \n",
       "24206                   8847,00                     0,00   \n",
       "24207                  72000,00                 72000,00   \n",
       "24198                 700000,00                250000,00   \n",
       "5438                   21206,78                     0,00   \n",
       "\n",
       "      ORÇAMENTO REALIZADO (R$)  \n",
       "13884                     0,00  \n",
       "28588                 12318,40  \n",
       "28630              24186082,00  \n",
       "28629                     0,00  \n",
       "28640                     0,00  \n",
       "...                        ...  \n",
       "24171                613289,80  \n",
       "24206                     0,00  \n",
       "24207                 60000,00  \n",
       "24198                     0,00  \n",
       "5438                      0,00  \n",
       "\n",
       "[213685 rows x 25 columns]"
      ]
     },
     "metadata": {},
     "output_type": "display_data"
    }
   ],
   "source": [
    "# Ordenando os dados pelo ano \n",
    "df = df.sort_values(by=['EXERCÍCIO'],ascending=True)\n",
    "display(df)"
   ]
  },
  {
   "cell_type": "markdown",
   "id": "049092e8-5d6d-4ae2-b719-2d12283b4997",
   "metadata": {},
   "source": [
    "A minha análise se absterá apenas as colunas após \"NOME PROGRAMA ORÇAMENTÁRIO\""
   ]
  },
  {
   "cell_type": "code",
   "execution_count": 11,
   "id": "5e5bc976-df99-4874-8820-a2922cf0ed85",
   "metadata": {},
   "outputs": [
    {
     "name": "stdout",
     "output_type": "stream",
     "text": [
      "<class 'pandas.core.frame.DataFrame'>\n",
      "Int64Index: 213685 entries, 13884 to 5438\n",
      "Data columns (total 25 columns):\n",
      " #   Column                        Non-Null Count   Dtype \n",
      "---  ------                        --------------   ----- \n",
      " 0   EXERCÍCIO                     213685 non-null  int64 \n",
      " 1   CÓDIGO ÓRGÃO SUPERIOR         213685 non-null  int64 \n",
      " 2   NOME ÓRGÃO SUPERIOR           213685 non-null  object\n",
      " 3   CÓDIGO ÓRGÃO SUBORDINADO      213685 non-null  int64 \n",
      " 4   NOME ÓRGÃO SUBORDINADO        213685 non-null  object\n",
      " 5   CÓDIGO UNIDADE ORÇAMENTÁRIA   213685 non-null  int64 \n",
      " 6   NOME UNIDADE ORÇAMENTÁRIA     213685 non-null  object\n",
      " 7   CÓDIGO FUNÇÃO                 213685 non-null  int64 \n",
      " 8   NOME FUNÇÃO                   213685 non-null  object\n",
      " 9   CÓDIGO SUBFUNÇÃO              213685 non-null  int64 \n",
      " 10  NOME SUBFUNÇÃO                213685 non-null  object\n",
      " 11  CÓDIGO PROGRAMA ORÇAMENTÁRIO  213685 non-null  int64 \n",
      " 12  NOME PROGRAMA ORÇAMENTÁRIO    213685 non-null  object\n",
      " 13  CÓDIGO AÇÃO                   213685 non-null  object\n",
      " 14  NOME AÇÃO                     213685 non-null  object\n",
      " 15  CÓDIGO CATEGORIA ECONÔMICA    213685 non-null  object\n",
      " 16  NOME CATEGORIA ECONÔMICA      213685 non-null  object\n",
      " 17  CÓDIGO GRUPO DE DESPESA       213685 non-null  object\n",
      " 18  NOME GRUPO DE DESPESA         213685 non-null  object\n",
      " 19  CÓDIGO ELEMENTO DE DESPESA    213685 non-null  int64 \n",
      " 20  NOME ELEMENTO DE DESPESA      213685 non-null  object\n",
      " 21  ORÇAMENTO INICIAL (R$)        213685 non-null  object\n",
      " 22  ORÇAMENTO ATUALIZADO (R$)     213685 non-null  object\n",
      " 23  ORÇAMENTO EMPENHADO (R$)      213685 non-null  object\n",
      " 24  ORÇAMENTO REALIZADO (R$)      213685 non-null  object\n",
      "dtypes: int64(8), object(17)\n",
      "memory usage: 42.4+ MB\n"
     ]
    }
   ],
   "source": [
    "df.info()"
   ]
  },
  {
   "cell_type": "markdown",
   "id": "54e83c3f-af3b-406b-a301-90c0b2050c67",
   "metadata": {},
   "source": [
    "# 2 "
   ]
  },
  {
   "cell_type": "markdown",
   "id": "894beeda-3ee5-4210-b07d-225ae340f9cd",
   "metadata": {},
   "source": [
    "## 2.1 renomeando colunas"
   ]
  },
  {
   "cell_type": "code",
   "execution_count": 12,
   "id": "ca89f697-5f23-48cd-a697-4d2c8604e32a",
   "metadata": {},
   "outputs": [],
   "source": [
    "# Renomeando as colunas para facilitar o trabalho no código\n",
    "df.columns = ['exercicios', 'cod_orgao_sup', 'nome_orgao_sup', 'cod_orgao_sub', 'nome_orgao_sub', 'cod_unid_orcament', 'nome_unid_orcament',\n",
    "                   'cod_funcao', 'nome_funcao', 'cod_subfuncao', 'nome_subfuncao', 'cod_prog_orcament', 'nome_prog_orcament', 'cod_acao', 'nome_acao',\n",
    "                   'cod_categ_econo', 'nome_categ_econo', 'cod_grp_despesa', 'nome_grp_despesa',  'cod_element_despesa', 'nome_element_despesa',\n",
    "                   'orcamento_inicial', 'orcamento_atualizado', 'orcamento_empenhado', 'orcamento_realizado']"
   ]
  },
  {
   "cell_type": "markdown",
   "id": "11a9c073-3d95-4e00-be8b-396ee0a521ef",
   "metadata": {},
   "source": [
    "## 2.2 dropando valores desnecessários"
   ]
  },
  {
   "cell_type": "markdown",
   "id": "12c4412e-bd7f-4e29-8fd5-5e2e70f3773e",
   "metadata": {},
   "source": [
    "Existem muitas colunasnas quais os valores presentes se referem ao código da função, setor, ministério, etc. Acredito que para fatores administrativos esses dados sejam válidos, porém não serão necessários nessa análise"
   ]
  },
  {
   "cell_type": "code",
   "execution_count": 27,
   "id": "b5900029-a370-4fb8-8835-f39fb7681266",
   "metadata": {},
   "outputs": [
    {
     "data": {
      "text/plain": [
       "Index(['exercicios', 'nome_orgao_sup', 'nome_orgao_sub', 'nome_unid_orcament',\n",
       "       'nome_funcao', 'nome_subfuncao', 'nome_prog_orcament', 'nome_acao',\n",
       "       'nome_categ_econo', 'nome_grp_despesa', 'nome_element_despesa',\n",
       "       'orcamento_inicial', 'orcamento_atualizado', 'orcamento_empenhado',\n",
       "       'orcamento_realizado'],\n",
       "      dtype='object')"
      ]
     },
     "execution_count": 27,
     "metadata": {},
     "output_type": "execute_result"
    }
   ],
   "source": [
    "df = df.drop(columns=df.columns[df.columns.str.contains(r'^cod_')])\n",
    "df.columns"
   ]
  },
  {
   "cell_type": "markdown",
   "id": "7a50b4b5-60e5-413b-a25d-8b4ea39350ec",
   "metadata": {},
   "source": [
    "## 2.3 Verificação da existência de valores faltantes"
   ]
  },
  {
   "cell_type": "code",
   "execution_count": 28,
   "id": "27d5676c-c4a4-44ae-a178-ac946c15d3fc",
   "metadata": {},
   "outputs": [
    {
     "data": {
      "text/plain": [
       "exercicios              0\n",
       "nome_orgao_sup          0\n",
       "nome_orgao_sub          0\n",
       "nome_unid_orcament      0\n",
       "nome_funcao             0\n",
       "nome_subfuncao          0\n",
       "nome_prog_orcament      0\n",
       "nome_acao               0\n",
       "nome_categ_econo        0\n",
       "nome_grp_despesa        0\n",
       "nome_element_despesa    0\n",
       "orcamento_inicial       0\n",
       "orcamento_atualizado    0\n",
       "orcamento_empenhado     0\n",
       "orcamento_realizado     0\n",
       "dtype: int64"
      ]
     },
     "metadata": {},
     "output_type": "display_data"
    }
   ],
   "source": [
    "display(df.isnull().sum())"
   ]
  },
  {
   "cell_type": "markdown",
   "id": "74779233-0bad-4b9d-81af-4cb32869789e",
   "metadata": {},
   "source": [
    "Como podemos ver não existe nenhum valor faltante. Em vista de que são dados do governo,percebemos os dados receberam um tratamento prévio, os valores que provavelmente seriam faltantes são substituidos por valores como \"Não cadastrado\", etc."
   ]
  },
  {
   "cell_type": "markdown",
   "id": "3434f3e6-76fd-4efa-a738-a63fab952f31",
   "metadata": {},
   "source": [
    "## 2.4 Casting de colunas"
   ]
  },
  {
   "cell_type": "markdown",
   "id": "266f6528-ea29-42b7-a0fb-6615dbe8083f",
   "metadata": {},
   "source": [
    "### 2.4.1 Verificação do formato das colunas"
   ]
  },
  {
   "cell_type": "code",
   "execution_count": 29,
   "id": "a6dd7796-c698-4d4a-b54e-f8d2fce1e3b0",
   "metadata": {},
   "outputs": [
    {
     "data": {
      "text/plain": [
       "exercicios               int64\n",
       "nome_orgao_sup          object\n",
       "nome_orgao_sub          object\n",
       "nome_unid_orcament      object\n",
       "nome_funcao             object\n",
       "nome_subfuncao          object\n",
       "nome_prog_orcament      object\n",
       "nome_acao               object\n",
       "nome_categ_econo        object\n",
       "nome_grp_despesa        object\n",
       "nome_element_despesa    object\n",
       "orcamento_inicial       object\n",
       "orcamento_atualizado    object\n",
       "orcamento_empenhado     object\n",
       "orcamento_realizado     object\n",
       "dtype: object"
      ]
     },
     "execution_count": 29,
     "metadata": {},
     "output_type": "execute_result"
    }
   ],
   "source": [
    "df.dtypes"
   ]
  },
  {
   "cell_type": "code",
   "execution_count": 33,
   "id": "dc6d380e-e234-4362-bae7-f999c560f521",
   "metadata": {},
   "outputs": [
    {
     "data": {
      "text/html": [
       "<div>\n",
       "<style scoped>\n",
       "    .dataframe tbody tr th:only-of-type {\n",
       "        vertical-align: middle;\n",
       "    }\n",
       "\n",
       "    .dataframe tbody tr th {\n",
       "        vertical-align: top;\n",
       "    }\n",
       "\n",
       "    .dataframe thead th {\n",
       "        text-align: right;\n",
       "    }\n",
       "</style>\n",
       "<table border=\"1\" class=\"dataframe\">\n",
       "  <thead>\n",
       "    <tr style=\"text-align: right;\">\n",
       "      <th></th>\n",
       "      <th>exercicios</th>\n",
       "      <th>nome_orgao_sup</th>\n",
       "      <th>nome_orgao_sub</th>\n",
       "      <th>nome_unid_orcament</th>\n",
       "      <th>nome_funcao</th>\n",
       "      <th>nome_subfuncao</th>\n",
       "      <th>nome_prog_orcament</th>\n",
       "      <th>nome_acao</th>\n",
       "      <th>nome_categ_econo</th>\n",
       "      <th>nome_grp_despesa</th>\n",
       "      <th>nome_element_despesa</th>\n",
       "      <th>orcamento_inicial</th>\n",
       "      <th>orcamento_atualizado</th>\n",
       "      <th>orcamento_empenhado</th>\n",
       "      <th>orcamento_realizado</th>\n",
       "    </tr>\n",
       "  </thead>\n",
       "  <tbody>\n",
       "    <tr>\n",
       "      <th>13884</th>\n",
       "      <td>2014</td>\n",
       "      <td>Ministério da Educação</td>\n",
       "      <td>Universidade Tecnológica Federal do Paraná</td>\n",
       "      <td>UNIVERSIDADE TECNOLOGICA FEDERAL DO PARANA</td>\n",
       "      <td>Educação</td>\n",
       "      <td>Proteção e benefícios ao trabalhador</td>\n",
       "      <td>PROGRAMA DE GESTAO E MANUTENCAO DO MINISTERIO ...</td>\n",
       "      <td>ASSISTENCIA PRE-ESCOLAR AOS DEPENDENTES DOS SE...</td>\n",
       "      <td>DESPESA CORRENTE</td>\n",
       "      <td>Outras Despesas Correntes</td>\n",
       "      <td>Não informado</td>\n",
       "      <td>0,00</td>\n",
       "      <td>10000,00</td>\n",
       "      <td>0,00</td>\n",
       "      <td>0,00</td>\n",
       "    </tr>\n",
       "    <tr>\n",
       "      <th>28588</th>\n",
       "      <td>2014</td>\n",
       "      <td>Advocacia-Geral da União</td>\n",
       "      <td>Advocacia-Geral da União - Unidades com víncul...</td>\n",
       "      <td>ADVOCACIA-GERAL DA UNIAO - AGU</td>\n",
       "      <td>Essencial à justiça</td>\n",
       "      <td>Representação judicial e extrajudicial</td>\n",
       "      <td>DEMOCRACIA E APERFEICOAMENTO DA GESTAO PUBLICA</td>\n",
       "      <td>REPRESENTACAO JUDICIAL E EXTRAJUDICIAL DA UNIA...</td>\n",
       "      <td>DESPESA DE CAPITAL</td>\n",
       "      <td>Investimentos</td>\n",
       "      <td>Outros Serviços de Terceiros - Pessoa Jurídica</td>\n",
       "      <td>12318,40</td>\n",
       "      <td>12318,40</td>\n",
       "      <td>12318,40</td>\n",
       "      <td>12318,40</td>\n",
       "    </tr>\n",
       "    <tr>\n",
       "      <th>28630</th>\n",
       "      <td>2014</td>\n",
       "      <td>Advocacia-Geral da União</td>\n",
       "      <td>Advocacia-Geral da União - Unidades com víncul...</td>\n",
       "      <td>ADVOCACIA-GERAL DA UNIAO - AGU</td>\n",
       "      <td>Previdência social</td>\n",
       "      <td>Previdência do regime estatutário</td>\n",
       "      <td>PREVIDENCIA DE INATIVOS E PENSIONISTAS DA UNIAO</td>\n",
       "      <td>PAGAMENTO DE APOSENTADORIAS E PENSOES - SERVID...</td>\n",
       "      <td>DESPESA CORRENTE</td>\n",
       "      <td>Pessoal e Encargos Sociais</td>\n",
       "      <td>Pensões do RPPS e do militar</td>\n",
       "      <td>24186082,00</td>\n",
       "      <td>24186082,00</td>\n",
       "      <td>24186082,00</td>\n",
       "      <td>24186082,00</td>\n",
       "    </tr>\n",
       "  </tbody>\n",
       "</table>\n",
       "</div>"
      ],
      "text/plain": [
       "       exercicios            nome_orgao_sup  \\\n",
       "13884        2014    Ministério da Educação   \n",
       "28588        2014  Advocacia-Geral da União   \n",
       "28630        2014  Advocacia-Geral da União   \n",
       "\n",
       "                                          nome_orgao_sub  \\\n",
       "13884         Universidade Tecnológica Federal do Paraná   \n",
       "28588  Advocacia-Geral da União - Unidades com víncul...   \n",
       "28630  Advocacia-Geral da União - Unidades com víncul...   \n",
       "\n",
       "                               nome_unid_orcament          nome_funcao  \\\n",
       "13884  UNIVERSIDADE TECNOLOGICA FEDERAL DO PARANA             Educação   \n",
       "28588              ADVOCACIA-GERAL DA UNIAO - AGU  Essencial à justiça   \n",
       "28630              ADVOCACIA-GERAL DA UNIAO - AGU   Previdência social   \n",
       "\n",
       "                               nome_subfuncao  \\\n",
       "13884    Proteção e benefícios ao trabalhador   \n",
       "28588  Representação judicial e extrajudicial   \n",
       "28630       Previdência do regime estatutário   \n",
       "\n",
       "                                      nome_prog_orcament  \\\n",
       "13884  PROGRAMA DE GESTAO E MANUTENCAO DO MINISTERIO ...   \n",
       "28588     DEMOCRACIA E APERFEICOAMENTO DA GESTAO PUBLICA   \n",
       "28630    PREVIDENCIA DE INATIVOS E PENSIONISTAS DA UNIAO   \n",
       "\n",
       "                                               nome_acao    nome_categ_econo  \\\n",
       "13884  ASSISTENCIA PRE-ESCOLAR AOS DEPENDENTES DOS SE...    DESPESA CORRENTE   \n",
       "28588  REPRESENTACAO JUDICIAL E EXTRAJUDICIAL DA UNIA...  DESPESA DE CAPITAL   \n",
       "28630  PAGAMENTO DE APOSENTADORIAS E PENSOES - SERVID...    DESPESA CORRENTE   \n",
       "\n",
       "                 nome_grp_despesa  \\\n",
       "13884   Outras Despesas Correntes   \n",
       "28588               Investimentos   \n",
       "28630  Pessoal e Encargos Sociais   \n",
       "\n",
       "                                 nome_element_despesa orcamento_inicial  \\\n",
       "13884                                   Não informado              0,00   \n",
       "28588  Outros Serviços de Terceiros - Pessoa Jurídica          12318,40   \n",
       "28630                    Pensões do RPPS e do militar       24186082,00   \n",
       "\n",
       "      orcamento_atualizado orcamento_empenhado orcamento_realizado  \n",
       "13884             10000,00                0,00                0,00  \n",
       "28588             12318,40            12318,40            12318,40  \n",
       "28630          24186082,00         24186082,00         24186082,00  "
      ]
     },
     "metadata": {},
     "output_type": "display_data"
    }
   ],
   "source": [
    "display(df.head(3))"
   ]
  },
  {
   "cell_type": "markdown",
   "id": "f5966e31-4c8d-46df-89aa-22e87751a701",
   "metadata": {},
   "source": [
    "### 2.4.2 tratamento dos formatos"
   ]
  },
  {
   "cell_type": "markdown",
   "id": "c59b8906-6eb9-4959-8b01-7fcca8e936b1",
   "metadata": {},
   "source": [
    "Remoção da vírgula presente nos valores das colunas numéricas que se referem a valores em dinheiro"
   ]
  },
  {
   "cell_type": "code",
   "execution_count": null,
   "id": "7d3e2196-1406-45d2-9480-3d73752111b5",
   "metadata": {},
   "outputs": [],
   "source": [
    "df['exercicios'] = pd.to_datetime(df['exercicios'], format='%Y')\n",
    "df['orcamento_inicial'] = df['orcamento_inicial'].str.replace(',','.').astype(float)\n",
    "df['orcamento_atualizado'] = df['orcamento_atualizado'].str.replace(',','.').astype(float)\n",
    "df['orcamento_empenhado'] = df['orcamento_empenhado'].str.replace(',','.').astype(float)\n",
    "df['orcamento_realizado'] = df['orcamento_realizado'].str.replace(',','.').astype(float)"
   ]
  },
  {
   "cell_type": "markdown",
   "id": "91526d21-08e7-4acb-9f1e-6372567c1bb7",
   "metadata": {},
   "source": [
    "Agora após a remoção da vírgula, e o casting dos valores para float, podemos vizualizar o resultado no dataset"
   ]
  },
  {
   "cell_type": "code",
   "execution_count": 42,
   "id": "ddb2cdfa-1e51-4800-add6-e9d70eea81ed",
   "metadata": {},
   "outputs": [
    {
     "data": {
      "text/plain": [
       "exercicios              datetime64[ns]\n",
       "nome_orgao_sup                  object\n",
       "nome_orgao_sub                  object\n",
       "nome_unid_orcament              object\n",
       "nome_funcao                     object\n",
       "nome_subfuncao                  object\n",
       "nome_prog_orcament              object\n",
       "nome_acao                       object\n",
       "nome_categ_econo                object\n",
       "nome_grp_despesa                object\n",
       "nome_element_despesa            object\n",
       "orcamento_inicial              float64\n",
       "orcamento_atualizado           float64\n",
       "orcamento_empenhado            float64\n",
       "orcamento_realizado            float64\n",
       "dtype: object"
      ]
     },
     "execution_count": 42,
     "metadata": {},
     "output_type": "execute_result"
    }
   ],
   "source": [
    "df.dtypes"
   ]
  },
  {
   "cell_type": "markdown",
   "id": "02036469-d01c-4bbf-a3f5-0e5b46e4ea1b",
   "metadata": {},
   "source": [
    "# 3"
   ]
  },
  {
   "cell_type": "markdown",
   "id": "aea1c5c9-1e7c-4914-8610-afeb90973eb8",
   "metadata": {},
   "source": [
    "## 3.1 Valores que mais aparecem nas colunas categóricas"
   ]
  },
  {
   "cell_type": "code",
   "execution_count": 49,
   "id": "a32d068e-3c60-46e3-b079-713303b50c24",
   "metadata": {},
   "outputs": [],
   "source": [
    "categoricas = ['nome_acao','nome_categ_econo','nome_grp_despesa','nome_element_despesa']"
   ]
  },
  {
   "cell_type": "code",
   "execution_count": 75,
   "id": "45a63027-3554-4e8f-a26d-b09eeb25c7a6",
   "metadata": {},
   "outputs": [
    {
     "data": {
      "text/plain": [
       "3585"
      ]
     },
     "execution_count": 75,
     "metadata": {},
     "output_type": "execute_result"
    }
   ],
   "source": [
    "df[categoricas[0]].value_counts().count()"
   ]
  },
  {
   "cell_type": "code",
   "execution_count": 76,
   "id": "335bdbe8-e6ba-4b45-a9df-84ec1d93ff18",
   "metadata": {},
   "outputs": [
    {
     "data": {
      "text/plain": [
       "ADMINISTRACAO DA UNIDADE                                                                                                                                                                                                              16013\n",
       "FUNCIONAMENTO DE INSTITUICOES FEDERAIS DE ENSINO SUPERIOR                                                                                                                                                                             10546\n",
       "ATIVOS CIVIS DA UNIAO                                                                                                                                                                                                                  8713\n",
       "ASSISTENCIA MEDICA E ODONTOLOGICA AOS SERVIDORES CIVIS, EMPREGADOS, MILITARES E SEUS DEPENDENTES                                                                                                                                       7394\n",
       "CAPACITACAO DE SERVIDORES PUBLICOS FEDERAIS EM PROCESSO DE QUALIFICACAO E REQUALIFICACAO                                                                                                                                               7012\n",
       "                                                                                                                                                                                                                                      ...  \n",
       "PARTICIPACAO DA UNIAO NO CAPITAL - EMPRESA BRASILEIRA DE CORREIOS E TELEGRAFOS (ECT) - IMPLANTACAO DE PROJETOS DE INVESTIMENTOS REFERENTES A ETAPA 'ADEQUACAO DO MODELO OPERACIONAL DOS CORREIOS' PERTENCENTE AO PROGRAMA DEZ EM 1        1\n",
       "DESENVOLVIMENTO E DISSEMINACAO DE METODOLOGIAS E TECNOLOGIAS DE QUALIFICACAO SOCIAL E PROFISSIONAL                                                                                                                                        1\n",
       "CONTRIBUICAO AO FORUM SOBRE ADMINISTRACAO TRIBUTARIA - FTA                                                                                                                                                                                1\n",
       "CONTRIBUICAO A ASSOCIACAO IBEROAMERICANA DE TRIBUNAIS DE JUSTICA FISCAL OU ADMINISTRATIVA - AIT                                                                                                                                           1\n",
       "CONTRIBUICAO A ASSOCIACAO AMERICANA DE AUTORIDADES PORTUARIAS - AAPA (PR)                                                                                                                                                                 1\n",
       "Name: nome_acao, Length: 3585, dtype: int64"
      ]
     },
     "execution_count": 76,
     "metadata": {},
     "output_type": "execute_result"
    }
   ],
   "source": [
    "df[categoricas[0]].value_counts()"
   ]
  },
  {
   "cell_type": "markdown",
   "id": "7e9eb8d5-b721-4e62-a05f-e54fcd3b31d5",
   "metadata": {},
   "source": [
    "<font color='red'> Como podemos verificar, não é possível validar manualmente os valores de 'nome_acao', no entanto não foi verificado nenhum valor anormal nos máximos nem mínimos valores"
   ]
  },
  {
   "cell_type": "code",
   "execution_count": 59,
   "id": "28c4710f-5775-420f-91a4-c73507c2bce5",
   "metadata": {},
   "outputs": [
    {
     "data": {
      "text/plain": [
       "DESPESAS CORRENTES         151155\n",
       "DESPESAS DE CAPITAL         33400\n",
       "DESPESA CORRENTE            22730\n",
       "DESPESA DE CAPITAL           5862\n",
       "RESERVA DE CONTINGENCIA       537\n",
       "Inválido                        1\n",
       "Name: nome_categ_econo, dtype: int64"
      ]
     },
     "execution_count": 59,
     "metadata": {},
     "output_type": "execute_result"
    }
   ],
   "source": [
    "df[categoricas[1]].value_counts()"
   ]
  },
  {
   "cell_type": "code",
   "execution_count": 60,
   "id": "c578e9cc-959c-4fd7-ac6b-74adc3b87dfc",
   "metadata": {},
   "outputs": [
    {
     "data": {
      "text/plain": [
       "Outras Despesas Correntes                139890\n",
       "Investimentos                             37705\n",
       "Pessoal e Encargos Sociais                33705\n",
       "Inversões Financeiras                      1339\n",
       "Reserva de Contingência                     537\n",
       "Juros e Encargos da Dívida                  290\n",
       "Amortização/Refinanciamento da Dívida       218\n",
       "Inválido                                      1\n",
       "Name: nome_grp_despesa, dtype: int64"
      ]
     },
     "execution_count": 60,
     "metadata": {},
     "output_type": "execute_result"
    }
   ],
   "source": [
    "df[categoricas[2]].value_counts()"
   ]
  },
  {
   "cell_type": "code",
   "execution_count": 61,
   "id": "214ff513-9098-476d-b134-41452c714727",
   "metadata": {},
   "outputs": [
    {
     "data": {
      "text/plain": [
       "Não informado                                                       54422\n",
       "Outros Serviços de Terceiros - Pessoa Jurídica                      20905\n",
       "Despesas de Exercícios Anteriores                                   14147\n",
       "Material de Consumo                                                  8747\n",
       "Indenizações e Restituições                                          8692\n",
       "                                                                    ...  \n",
       "Aquisição de Títulos Representativos de Capital já Integralizado        4\n",
       "A Classificar                                                           3\n",
       "Arrendamento mercantil                                                  3\n",
       "Remuneração de Cotas de Fundos Autárquicos                              3\n",
       "Inválido                                                                1\n",
       "Name: nome_element_despesa, Length: 77, dtype: int64"
      ]
     },
     "execution_count": 61,
     "metadata": {},
     "output_type": "execute_result"
    }
   ],
   "source": [
    "df[categoricas[3]].value_counts()"
   ]
  },
  {
   "cell_type": "code",
   "execution_count": 79,
   "id": "2fcc5d2c-2739-4a62-aa71-991edb6a6284",
   "metadata": {},
   "outputs": [],
   "source": [
    "# Definir True apenas caso necessário verificar todos os valores manualmente\n",
    "rodar = False\n",
    "if rodar:\n",
    "    for dados in df[categoricas[3]].value_counts().index:\n",
    "        print(dados)"
   ]
  },
  {
   "cell_type": "markdown",
   "id": "73bcba15-4c89-422e-a131-98ec4c67b9cf",
   "metadata": {},
   "source": [
    "<font color='red'> Nas três colunas acima está presente um valor estranho :'Inválido'. Verifiquei manualmente as 77 colunas de 'nome_element_despesa', e existe apenas esse valor que é aparentemente errado"
   ]
  },
  {
   "cell_type": "code",
   "execution_count": 80,
   "id": "fdab590e-c463-4da4-81b0-74e2625deef1",
   "metadata": {},
   "outputs": [
    {
     "data": {
      "text/html": [
       "<div>\n",
       "<style scoped>\n",
       "    .dataframe tbody tr th:only-of-type {\n",
       "        vertical-align: middle;\n",
       "    }\n",
       "\n",
       "    .dataframe tbody tr th {\n",
       "        vertical-align: top;\n",
       "    }\n",
       "\n",
       "    .dataframe thead th {\n",
       "        text-align: right;\n",
       "    }\n",
       "</style>\n",
       "<table border=\"1\" class=\"dataframe\">\n",
       "  <thead>\n",
       "    <tr style=\"text-align: right;\">\n",
       "      <th></th>\n",
       "      <th>exercicios</th>\n",
       "      <th>nome_orgao_sup</th>\n",
       "      <th>nome_orgao_sub</th>\n",
       "      <th>nome_unid_orcament</th>\n",
       "      <th>nome_funcao</th>\n",
       "      <th>nome_subfuncao</th>\n",
       "      <th>nome_prog_orcament</th>\n",
       "      <th>nome_acao</th>\n",
       "      <th>nome_categ_econo</th>\n",
       "      <th>nome_grp_despesa</th>\n",
       "      <th>nome_element_despesa</th>\n",
       "      <th>orcamento_inicial</th>\n",
       "      <th>orcamento_atualizado</th>\n",
       "      <th>orcamento_empenhado</th>\n",
       "      <th>orcamento_realizado</th>\n",
       "    </tr>\n",
       "  </thead>\n",
       "  <tbody>\n",
       "    <tr>\n",
       "      <th>3846</th>\n",
       "      <td>2020-01-01</td>\n",
       "      <td>Ministério da Economia</td>\n",
       "      <td>Ministério da Economia - Unidades com vínculo ...</td>\n",
       "      <td>REC.SOB SUPERV. DO ME - DIVIDA PUB FED</td>\n",
       "      <td>Encargos especiais</td>\n",
       "      <td>Outros encargos especiais</td>\n",
       "      <td>OPERACOES ESPECIAIS: OUTROS ENCARGOS ESPECIAIS</td>\n",
       "      <td>ASSUNCAO E NOVACAO DE DIVIDAS DO FUNDO DE COMP...</td>\n",
       "      <td>Inválido</td>\n",
       "      <td>Inválido</td>\n",
       "      <td>Inválido</td>\n",
       "      <td>94000000.0</td>\n",
       "      <td>94000000.0</td>\n",
       "      <td>94000000.0</td>\n",
       "      <td>0.0</td>\n",
       "    </tr>\n",
       "  </tbody>\n",
       "</table>\n",
       "</div>"
      ],
      "text/plain": [
       "     exercicios          nome_orgao_sup  \\\n",
       "3846 2020-01-01  Ministério da Economia   \n",
       "\n",
       "                                         nome_orgao_sub  \\\n",
       "3846  Ministério da Economia - Unidades com vínculo ...   \n",
       "\n",
       "                          nome_unid_orcament         nome_funcao  \\\n",
       "3846  REC.SOB SUPERV. DO ME - DIVIDA PUB FED  Encargos especiais   \n",
       "\n",
       "                 nome_subfuncao  \\\n",
       "3846  Outros encargos especiais   \n",
       "\n",
       "                                  nome_prog_orcament  \\\n",
       "3846  OPERACOES ESPECIAIS: OUTROS ENCARGOS ESPECIAIS   \n",
       "\n",
       "                                              nome_acao nome_categ_econo  \\\n",
       "3846  ASSUNCAO E NOVACAO DE DIVIDAS DO FUNDO DE COMP...         Inválido   \n",
       "\n",
       "     nome_grp_despesa nome_element_despesa  orcamento_inicial  \\\n",
       "3846         Inválido             Inválido         94000000.0   \n",
       "\n",
       "      orcamento_atualizado  orcamento_empenhado  orcamento_realizado  \n",
       "3846            94000000.0           94000000.0                  0.0  "
      ]
     },
     "metadata": {},
     "output_type": "display_data"
    }
   ],
   "source": [
    "valor_invalido = df[(df[categoricas[3]] == 'Inválido')|(df[categoricas[2]] == 'Inválido')|(df[categoricas[1]] == 'Inválido')]\n",
    "display(valor_invalido)"
   ]
  },
  {
   "cell_type": "markdown",
   "id": "7a8e1039-7c06-4e16-9f84-bffe94fb6d1b",
   "metadata": {},
   "source": [
    "Ao verificar as colunas que tem esse valor presente, penso que é melhor não removê-lo "
   ]
  },
  {
   "cell_type": "code",
   "execution_count": 84,
   "id": "7ebef566-675e-4423-a92f-1f2cb7aa454b",
   "metadata": {},
   "outputs": [
    {
     "data": {
      "text/plain": [
       "3846    94000000.0\n",
       "Name: orcamento_inicial, dtype: float64"
      ]
     },
     "metadata": {},
     "output_type": "display_data"
    },
    {
     "data": {
      "text/plain": [
       "3846    94000000.0\n",
       "Name: orcamento_atualizado, dtype: float64"
      ]
     },
     "metadata": {},
     "output_type": "display_data"
    },
    {
     "data": {
      "text/plain": [
       "3846    94000000.0\n",
       "Name: orcamento_empenhado, dtype: float64"
      ]
     },
     "metadata": {},
     "output_type": "display_data"
    },
    {
     "data": {
      "text/plain": [
       "3846    0.0\n",
       "Name: orcamento_realizado, dtype: float64"
      ]
     },
     "metadata": {},
     "output_type": "display_data"
    }
   ],
   "source": [
    "display(valor_invalido.orcamento_inicial)\n",
    "display(valor_invalido.orcamento_atualizado)\n",
    "display(valor_invalido.orcamento_empenhado)\n",
    "display(valor_invalido.orcamento_realizado)"
   ]
  },
  {
   "cell_type": "markdown",
   "id": "83453d08-97fd-4bda-97bb-cf87e6870d33",
   "metadata": {},
   "source": [
    "Pois como vemos acima ele tinha um orçamento muito alto , 94 milhões de R$. Com isso, acredito que vale a pena estudar o motivo deste valor"
   ]
  },
  {
   "cell_type": "code",
   "execution_count": null,
   "id": "21cdf412-6687-4b05-8390-60a3737440c7",
   "metadata": {},
   "outputs": [],
   "source": []
  }
 ],
 "metadata": {
  "kernelspec": {
   "display_name": "Python 3 (ipykernel)",
   "language": "python",
   "name": "python3"
  },
  "language_info": {
   "codemirror_mode": {
    "name": "ipython",
    "version": 3
   },
   "file_extension": ".py",
   "mimetype": "text/x-python",
   "name": "python",
   "nbconvert_exporter": "python",
   "pygments_lexer": "ipython3",
   "version": "3.8.12"
  }
 },
 "nbformat": 4,
 "nbformat_minor": 5
}
